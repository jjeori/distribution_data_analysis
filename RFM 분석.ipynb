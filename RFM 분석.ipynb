{
 "cells": [
  {
   "cell_type": "markdown",
   "id": "feb6c188",
   "metadata": {},
   "source": [
    "### RFM 고객 분석\n",
    "1. 식료품 구매하는 소비자들을 분석 목적\n",
    "2. 오프라인과 온라인을 나눠서 분석하고 어떤 차이점이 있는지 확인하기\n",
    "3. 추가적으로 오프라인에서도 대형마트와 일만 마트가 구분되기 때문에 이에 대한 분석도 가능할 듯\n",
    "\n",
    "참고문헌: https://zephyrus1111.tistory.com/13"
   ]
  },
  {
   "cell_type": "code",
   "execution_count": null,
   "id": "029558eb",
   "metadata": {},
   "outputs": [],
   "source": [
    "import pandas as pd\n",
    "\n",
    "card_filter_data = pd.read_csv(\"Desktop/card_data_filter.csv\")"
   ]
  },
  {
   "cell_type": "code",
   "execution_count": null,
   "id": "3dd5e449",
   "metadata": {},
   "outputs": [],
   "source": [
    "# online과 offline으로 분류하기\n",
    "offline = card_filter_data[card_filter_data['large_category'] == '생활/마트']\n",
    "online = card_filter_data[card_filter_data['large_category'] == '온라인쇼핑']"
   ]
  },
  {
   "cell_type": "code",
   "execution_count": null,
   "id": "c85df387",
   "metadata": {},
   "outputs": [],
   "source": [
    "# offline의 pay_date 타입 변환하기\n",
    "offline['pay_date'] = pd.to_datetime(offline['pay_date'])"
   ]
  },
  {
   "cell_type": "code",
   "execution_count": null,
   "id": "8ba67904",
   "metadata": {},
   "outputs": [],
   "source": [
    "# 오프라인 거래 데이터에서 고객별로 최근 방문일, 방문횟수, 구매금액 기준으로 점수를 구하기\n",
    "# tqdm은 for loop를 실행할 때 progress bar를 출력해주는 모듈, 이를 통해 남은 시간을 파악 가능\n",
    "from tqdm import tqdm\n",
    "\n",
    "# 중복 제거된 고객 아이디\n",
    "customer_id = list(offline['person_id'].unique())\n",
    "\n",
    "# 각 고객별로 구매금액 얼마인지 파악하기\n",
    "monetary_df = pd.DataFrame() # 빈 데이터 프레임 생성\n",
    "monetary_df['person_id'] = customer_id # 고객아이디 삽입\n",
    "\n",
    "monetary_data = [] # 구매금액 담을 리스트"
   ]
  },
  {
   "cell_type": "code",
   "execution_count": null,
   "id": "da707459",
   "metadata": {},
   "outputs": [],
   "source": [
    "# 고객별 총 구매금액 넣기\n",
    "for ci in tqdm(customer_id):\n",
    "    temp = offline.query('person_id == @ci') # 해당 아이디의 고객 데이터 추출\n",
    "    amount = sum(temp['amount'])\n",
    "    monetary_data.append(amount)\n",
    "    \n",
    "monetary_df['Monetary'] = monetary_data"
   ]
  },
  {
   "cell_type": "code",
   "execution_count": null,
   "id": "3bb59340",
   "metadata": {},
   "outputs": [],
   "source": [
    "# recency 각 고객별 최근방문일 알아보기\n",
    "temp_recency_df = offline[['person_id', 'pay_date']].drop_duplicates()\n",
    "recency_df = temp_recency_df.groupby('person_id')['pay_date'].max().reset_index()\n",
    "recency_df = recency_df.rename(columns = {'pay_date': 'Recency'})"
   ]
  },
  {
   "cell_type": "code",
   "execution_count": null,
   "id": "d1191152",
   "metadata": {},
   "outputs": [],
   "source": [
    "# Frequency 각 고객별 방문횟수를 알아보기\n",
    "temp_frequency_df = offline[['person_id', 'pay_date']].drop_duplicates()\n",
    "frequency_df = temp_frequency_df.groupby('person_id')['pay_date'].nunique().reset_index()\n",
    "frequency_df = frequency_df.rename(columns = {'paydate' : 'Frequency'})"
   ]
  },
  {
   "cell_type": "code",
   "execution_count": null,
   "id": "c0013ee3",
   "metadata": {},
   "outputs": [],
   "source": [
    "# monetary_df 칼럼명 변경하기\n",
    "monetary_df = monetary_df.rename(columns = {'Customer_ID' : 'person_id'})"
   ]
  },
  {
   "cell_type": "code",
   "execution_count": null,
   "id": "2b950d30",
   "metadata": {},
   "outputs": [],
   "source": [
    "# 각 df 병합하기\n",
    "rfm_df = pd.merge(recency_df, frequency_df, how = 'left', on = 'person_id')\n",
    "rfm_df = pd.merge(rfm_df, monetary_df, how = 'left', on = 'person_id')"
   ]
  },
  {
   "cell_type": "code",
   "execution_count": null,
   "id": "c1e5c5b2",
   "metadata": {},
   "outputs": [],
   "source": [
    "# F, M은 정수형태라 점수를 매기기 쉽지만, R는 날짜 형식이라 점수를 매기는데 무리가 있다. 따라서 추가적인 작업 필요\n",
    "# 1단계: 기준시간 설정 / 2단계: 시간차이 계산 / 3단계 초단위로 변환\n",
    "rfm_df.info()"
   ]
  },
  {
   "cell_type": "code",
   "execution_count": null,
   "id": "e210399d",
   "metadata": {},
   "outputs": [],
   "source": [
    "rfm_df"
   ]
  },
  {
   "cell_type": "code",
   "execution_count": null,
   "id": "ff51d71c",
   "metadata": {},
   "outputs": [],
   "source": [
    "# 기준시간은 어떻게 잡을까?\n",
    "# 시간의 크기는 크게 잡는다. 이유는 빈도, 가격 또한 클수록 큰 점수를 부여하기 때문에 동일하게 설정\n",
    "# 2022-06-01로 설정 Recency의 min: 2022-07-01 max: 2023-06-30\n",
    "\n",
    "current_day = pd.to_datetime('20220601')\n",
    "time_diff = rfm_df['Recency']-current_day\n",
    "time_in_seconds = [x.total_seconds() for x in time_diff] # total_seconds() 함수는 시간 차이를 초단위로 변환해준다.\n",
    "rfm_df['Recency'] = time_in_seconds # 데이터 삽입하기"
   ]
  },
  {
   "cell_type": "code",
   "execution_count": null,
   "id": "9251c53a",
   "metadata": {},
   "outputs": [],
   "source": [
    "rfm_df.to_csv(\"Desktop/rfm_df.csv\")"
   ]
  },
  {
   "cell_type": "code",
   "execution_count": null,
   "id": "0e466831",
   "metadata": {},
   "outputs": [],
   "source": [
    "from tqdm import tqdm\n",
    "rfm_df = pd.read_csv(\"Desktop/rfm_df.csv\")"
   ]
  },
  {
   "cell_type": "code",
   "execution_count": null,
   "id": "88be9e19",
   "metadata": {},
   "outputs": [],
   "source": [
    "rfm_df"
   ]
  },
  {
   "cell_type": "code",
   "execution_count": null,
   "id": "17e9a36e",
   "metadata": {},
   "outputs": [],
   "source": [
    "# online의 pay_date 타입 변환하기\n",
    "online['pay_date'] = pd.to_datetime(online['pay_date'])"
   ]
  },
  {
   "cell_type": "code",
   "execution_count": null,
   "id": "e3d3406b",
   "metadata": {},
   "outputs": [],
   "source": [
    "# 온라인 거래 데이터에서 고객별로 최근 방문일, 방문횟수, 구매금액 기준으로 점수를 구하기\n",
    "# tqdm은 for loop를 실행할 때 progress bar를 출력해주는 모듈, 이를 통해 남은 시간을 파악 가능\n",
    "from tqdm import tqdm\n",
    "\n",
    "# 중복 제거된 고객 아이디\n",
    "customer_id = list(online['person_id'].unique())\n",
    "\n",
    "# 각 고객별로 구매금액 얼마인지 파악하기\n",
    "monetary_df = pd.DataFrame() # 빈 데이터 프레임 생성\n",
    "monetary_df['person_id'] = customer_id # 고객아이디 삽입\n",
    "\n",
    "monetary_data = [] # 구매금액 담을 리스트"
   ]
  },
  {
   "cell_type": "code",
   "execution_count": null,
   "id": "b7523dfc",
   "metadata": {},
   "outputs": [],
   "source": [
    "# 고객별 총 구매금액 넣기\n",
    "for ci in tqdm(customer_id):\n",
    "    temp = online.query('person_id == @ci') # 해당 아이디의 고객 데이터 추출\n",
    "    amount = sum(temp['amount'])\n",
    "    monetary_data.append(amount)\n",
    "    \n",
    "monetary_df['Monetary'] = monetary_data"
   ]
  },
  {
   "cell_type": "code",
   "execution_count": null,
   "id": "b0f5734c",
   "metadata": {},
   "outputs": [],
   "source": [
    "# recency 각 고객별 최근방문일 알아보기\n",
    "temp_recency_df = online[['person_id', 'pay_date']].drop_duplicates()\n",
    "recency_df = temp_recency_df.groupby('person_id')['pay_date'].max().reset_index()\n",
    "recency_df = recency_df.rename(columns = {'pay_date': 'Recency'})"
   ]
  },
  {
   "cell_type": "code",
   "execution_count": null,
   "id": "172b7dea",
   "metadata": {},
   "outputs": [],
   "source": [
    "# Frequency 각 고객별 방문횟수를 알아보기\n",
    "temp_frequency_df = online[['person_id', 'pay_date']].drop_duplicates()\n",
    "frequency_df = temp_frequency_df.groupby('person_id')['pay_date'].nunique().reset_index()\n",
    "frequency_df = frequency_df.rename(columns = {'paydate' : 'Frequency'})"
   ]
  },
  {
   "cell_type": "code",
   "execution_count": null,
   "id": "30910cba",
   "metadata": {},
   "outputs": [],
   "source": [
    "# 각 df 병합하기\n",
    "rfm_df = pd.merge(recency_df, frequency_df, how = 'left', on = 'person_id')\n",
    "rfm_df = pd.merge(rfm_df, monetary_df, how = 'left', on = 'person_id')"
   ]
  },
  {
   "cell_type": "code",
   "execution_count": null,
   "id": "9d1e0e52",
   "metadata": {},
   "outputs": [],
   "source": [
    "# Recency 변환하기\n",
    "current_date = pd.to_datetime(\"20230701\")\n",
    "time_diff = current_date - rfm_df['Recency']\n",
    "time_diff_days = [x.days for x in time_diff]\n",
    "rfm_df['Recency'] = time_diff_days"
   ]
  },
  {
   "cell_type": "code",
   "execution_count": null,
   "id": "e429584c",
   "metadata": {},
   "outputs": [],
   "source": [
    "# 성별, 나이 추가하기\n",
    "info_df = online[['person_id', 'age_group', 'person_gender']].drop_duplicates()"
   ]
  },
  {
   "cell_type": "code",
   "execution_count": null,
   "id": "4f8e5dfe",
   "metadata": {},
   "outputs": [],
   "source": [
    "rfm_online = pd.merge(rfm_df, info_df, how = 'left', on = 'person_id')"
   ]
  },
  {
   "cell_type": "code",
   "execution_count": null,
   "id": "8f5d38a5",
   "metadata": {},
   "outputs": [],
   "source": [
    "rfm_online.to_csv(\"Desktop/rfm_online.csv\")"
   ]
  },
  {
   "cell_type": "markdown",
   "id": "5c8ce468",
   "metadata": {},
   "source": [
    "### RFM_offline 데이터 추가하기\n",
    "> 기존 RFM 값에서 성별, 연령 추가"
   ]
  },
  {
   "cell_type": "code",
   "execution_count": null,
   "id": "ae551e64",
   "metadata": {},
   "outputs": [],
   "source": [
    "rfm_offline = pd.read_csv(\"Desktop/rfm_offline.csv\")\n",
    "rfm_offline.drop(['Unnamed: 0'], axis = 1, inplace = True)"
   ]
  },
  {
   "cell_type": "code",
   "execution_count": null,
   "id": "0e361385",
   "metadata": {},
   "outputs": [],
   "source": [
    "info_off = offline[['person_id', 'age_group', 'person_gender']].drop_duplicates()"
   ]
  },
  {
   "cell_type": "code",
   "execution_count": null,
   "id": "7fefcd98",
   "metadata": {},
   "outputs": [],
   "source": [
    "rfm_offline = pd.merge(rfm_offline, info_off, how = 'left', on = 'person_id')"
   ]
  },
  {
   "cell_type": "code",
   "execution_count": null,
   "id": "bb302578",
   "metadata": {},
   "outputs": [],
   "source": [
    "rfm_offline.to_csv(\"Desktop/rfm_offline.csv\")"
   ]
  },
  {
   "cell_type": "code",
   "execution_count": null,
   "id": "2d885e4e",
   "metadata": {},
   "outputs": [],
   "source": [
    "rfm_offline"
   ]
  },
  {
   "cell_type": "markdown",
   "id": "3938f059",
   "metadata": {},
   "source": [
    "### 편의점 RFM 고객 분석"
   ]
  },
  {
   "cell_type": "code",
   "execution_count": 4,
   "id": "1d8946ea",
   "metadata": {
    "scrolled": false
   },
   "outputs": [
    {
     "name": "stderr",
     "output_type": "stream",
     "text": [
      "/var/folders/c1/3m4yfnr1033cv80bgnw17ly00000gn/T/ipykernel_22727/2325656816.py:2: SettingWithCopyWarning: \n",
      "A value is trying to be set on a copy of a slice from a DataFrame.\n",
      "Try using .loc[row_indexer,col_indexer] = value instead\n",
      "\n",
      "See the caveats in the documentation: https://pandas.pydata.org/pandas-docs/stable/user_guide/indexing.html#returning-a-view-versus-a-copy\n",
      "  convenience_df['pay_date'] = pd.to_datetime(convenience_df['pay_date'])\n"
     ]
    }
   ],
   "source": [
    "# pay_date 데이터 타입 변환하기\n",
    "convenience_df['pay_date'] = pd.to_datetime(convenience_df['pay_date'])"
   ]
  },
  {
   "cell_type": "code",
   "execution_count": 5,
   "id": "01e2c553",
   "metadata": {},
   "outputs": [],
   "source": [
    "# 중복 제거된 고객 아이디\n",
    "customer_id = list(convenience_df['person_id'].unique())\n",
    "\n",
    "# 고객별 구매금액 얼마인지 파악하기\n",
    "monetary_df = pd.DataFrame()\n",
    "monetary_df['person_id'] = customer_id\n",
    "\n",
    "monetary_data = [] # 구매금액 담을 리스트"
   ]
  },
  {
   "cell_type": "code",
   "execution_count": 6,
   "id": "db7c4672",
   "metadata": {},
   "outputs": [
    {
     "name": "stderr",
     "output_type": "stream",
     "text": [
      "100%|█████████████████████████████████████| 39317/39317 [43:54<00:00, 14.92it/s]\n"
     ]
    }
   ],
   "source": [
    "# 고객별 총 구매금액 구하기\n",
    "for ci in tqdm(customer_id):\n",
    "    temp = convenience_df.query('person_id == @ci')\n",
    "    amount = sum(temp['amount'])\n",
    "    monetary_data.append(amount)\n",
    "    \n",
    "monetary_df['Monetary'] = monetary_data"
   ]
  },
  {
   "cell_type": "code",
   "execution_count": 7,
   "id": "e2552ecc",
   "metadata": {},
   "outputs": [],
   "source": [
    "# recency 각 고객별 최근방문일 알아보기\n",
    "temp_recency_df = convenience_df[['person_id', 'pay_date']].drop_duplicates()\n",
    "recency_df = temp_recency_df.groupby('person_id')['pay_date'].max().reset_index()\n",
    "recency_df = recency_df.rename(columns = {'pay_date' : 'Recency'})"
   ]
  },
  {
   "cell_type": "code",
   "execution_count": 8,
   "id": "525f2511",
   "metadata": {},
   "outputs": [],
   "source": [
    "# Frequency 각 고객별 방문횟수 알아보기\n",
    "temp_frequency_df = convenience_df[['person_id', 'pay_date']].drop_duplicates()\n",
    "frequency_df = temp_frequency_df.groupby('person_id')['pay_date'].nunique().reset_index()\n",
    "frequency_df = frequency_df.rename(columns = {'pay_date' : 'Frequency'})"
   ]
  },
  {
   "cell_type": "code",
   "execution_count": 10,
   "id": "2f00a761",
   "metadata": {},
   "outputs": [],
   "source": [
    "# 각 df 병합하기\n",
    "convenience_rfm = pd.merge(recency_df, frequency_df, how = 'left', on = 'person_id')\n",
    "convenience_rfm = pd.merge(convenience_rfm, monetary_df, how = 'left', on = 'person_id')"
   ]
  },
  {
   "cell_type": "code",
   "execution_count": 11,
   "id": "35b1f358",
   "metadata": {},
   "outputs": [],
   "source": [
    "# Recency day로 변환하기\n",
    "\n",
    "# 최근 날짜 설정\n",
    "current_date = pd.to_datetime('20230701')\n",
    "\n",
    "# 날짜 차이 구하기\n",
    "time_diff = current_date - convenience_rfm['Recency']\n",
    "\n",
    "# 날짜 day로 변환\n",
    "time_in_days = [x.days for x in time_diff]\n",
    "\n",
    "# 변환한 날짜로 교체하기\n",
    "convenience_rfm['Recency'] = time_in_days"
   ]
  },
  {
   "cell_type": "code",
   "execution_count": 12,
   "id": "71f4d3b0",
   "metadata": {},
   "outputs": [],
   "source": [
    "# 성별 / 나이 / 편의점 추가하기\n",
    "info_df = convenience_df[['person_id', 'age_group', 'person_gender']].drop_duplicates()\n",
    "\n",
    "convenience_rfm = pd.merge(convenience_rfm, info_df, how = 'left', on = 'person_id')"
   ]
  },
  {
   "cell_type": "code",
   "execution_count": 14,
   "id": "99e6d0d2",
   "metadata": {},
   "outputs": [],
   "source": [
    "convenience_rfm['category'] = '편의점'"
   ]
  },
  {
   "cell_type": "code",
   "execution_count": 17,
   "id": "3f34fd32",
   "metadata": {},
   "outputs": [],
   "source": [
    "convenience_rfm.to_csv(\"Desktop/convenience_rfm.csv\")"
   ]
  },
  {
   "cell_type": "markdown",
   "id": "b18d80b3",
   "metadata": {},
   "source": [
    "### 대형마트 RFM 고객 분석"
   ]
  },
  {
   "cell_type": "code",
   "execution_count": 18,
   "id": "55a0db25",
   "metadata": {},
   "outputs": [
    {
     "name": "stderr",
     "output_type": "stream",
     "text": [
      "/var/folders/c1/3m4yfnr1033cv80bgnw17ly00000gn/T/ipykernel_22727/749407137.py:2: SettingWithCopyWarning: \n",
      "A value is trying to be set on a copy of a slice from a DataFrame.\n",
      "Try using .loc[row_indexer,col_indexer] = value instead\n",
      "\n",
      "See the caveats in the documentation: https://pandas.pydata.org/pandas-docs/stable/user_guide/indexing.html#returning-a-view-versus-a-copy\n",
      "  bigmart_df['pay_date'] = pd.to_datetime(bigmart_df['pay_date'])\n"
     ]
    }
   ],
   "source": [
    "# pay_date 데이터 타입 변환하기\n",
    "bigmart_df['pay_date'] = pd.to_datetime(bigmart_df['pay_date'])"
   ]
  },
  {
   "cell_type": "code",
   "execution_count": 19,
   "id": "6083fdfc",
   "metadata": {},
   "outputs": [],
   "source": [
    "# 중복 제거된 고객 아이디\n",
    "customer_id = list(bigmart_df['person_id'].unique())\n",
    "\n",
    "# 고객별 구매금액 얼마인지 파악하기\n",
    "monetary_df = pd.DataFrame()\n",
    "monetary_df['person_id'] = customer_id\n",
    "\n",
    "monetary_data = [] # 구매금액 담을 리스트"
   ]
  },
  {
   "cell_type": "code",
   "execution_count": 20,
   "id": "2a4531f9",
   "metadata": {},
   "outputs": [
    {
     "name": "stderr",
     "output_type": "stream",
     "text": [
      "100%|█████████████████████████████████████| 32485/32485 [12:18<00:00, 44.00it/s]\n"
     ]
    }
   ],
   "source": [
    "# 고객별 총 구매금액 구하기\n",
    "for ci in tqdm(customer_id):\n",
    "    temp = bigmart_df.query('person_id == @ci')\n",
    "    amount = sum(temp['amount'])\n",
    "    monetary_data.append(amount)\n",
    "    \n",
    "monetary_df['Monetary'] = monetary_data"
   ]
  },
  {
   "cell_type": "code",
   "execution_count": 21,
   "id": "0dcb0fe5",
   "metadata": {},
   "outputs": [],
   "source": [
    "# recency 각 고객별 최근방문일 알아보기\n",
    "temp_recency_df = bigmart_df[['person_id', 'pay_date']].drop_duplicates()\n",
    "recency_df = temp_recency_df.groupby('person_id')['pay_date'].max().reset_index()\n",
    "recency_df = recency_df.rename(columns = {'pay_date' : 'Recency'})"
   ]
  },
  {
   "cell_type": "code",
   "execution_count": 22,
   "id": "24005e8e",
   "metadata": {},
   "outputs": [],
   "source": [
    "# Frequency 각 고객별 방문횟수 알아보기\n",
    "temp_frequency_df = bigmart_df[['person_id', 'pay_date']].drop_duplicates()\n",
    "frequency_df = temp_frequency_df.groupby('person_id')['pay_date'].nunique().reset_index()\n",
    "frequency_df = frequency_df.rename(columns = {'pay_date' : 'Frequency'})"
   ]
  },
  {
   "cell_type": "code",
   "execution_count": 23,
   "id": "b5f2d6bf",
   "metadata": {},
   "outputs": [],
   "source": [
    "# 각 df 병합하기\n",
    "bigmart_rfm = pd.merge(recency_df, frequency_df, how = 'left', on = 'person_id')\n",
    "bigmart_rfm = pd.merge(bigmart_rfm, monetary_df, how = 'left', on = 'person_id')"
   ]
  },
  {
   "cell_type": "code",
   "execution_count": 24,
   "id": "d922f9ae",
   "metadata": {},
   "outputs": [],
   "source": [
    "# Recency day로 변환하기\n",
    "\n",
    "# 최근 날짜 설정\n",
    "current_date = pd.to_datetime('20230701')\n",
    "\n",
    "# 날짜 차이 구하기\n",
    "time_diff = current_date - bigmart_rfm['Recency']\n",
    "\n",
    "# 날짜 day로 변환\n",
    "time_in_days = [x.days for x in time_diff]\n",
    "\n",
    "# 변환한 날짜로 교체하기\n",
    "bigmart_rfm['Recency'] = time_in_days"
   ]
  },
  {
   "cell_type": "code",
   "execution_count": 25,
   "id": "7de55649",
   "metadata": {},
   "outputs": [],
   "source": [
    "# 성별 / 나이 / 편의점 추가하기\n",
    "info_df = bigmart_df[['person_id', 'age_group', 'person_gender']].drop_duplicates()\n",
    "\n",
    "bigmart_rfm = pd.merge(bigmart_rfm, info_df, how = 'left', on = 'person_id')\n",
    "\n",
    "bigmart_rfm['category'] = '대형마트'"
   ]
  },
  {
   "cell_type": "code",
   "execution_count": 27,
   "id": "32e5d9b8",
   "metadata": {},
   "outputs": [],
   "source": [
    "bigmart_rfm.to_csv(\"Desktop/bigmart_rfm.csv\")"
   ]
  },
  {
   "cell_type": "markdown",
   "id": "30bf5c07",
   "metadata": {},
   "source": [
    "### 마트 RFM 고객 분석"
   ]
  },
  {
   "cell_type": "code",
   "execution_count": 28,
   "id": "6aec9ff5",
   "metadata": {},
   "outputs": [
    {
     "name": "stderr",
     "output_type": "stream",
     "text": [
      "/var/folders/c1/3m4yfnr1033cv80bgnw17ly00000gn/T/ipykernel_22727/504847289.py:2: SettingWithCopyWarning: \n",
      "A value is trying to be set on a copy of a slice from a DataFrame.\n",
      "Try using .loc[row_indexer,col_indexer] = value instead\n",
      "\n",
      "See the caveats in the documentation: https://pandas.pydata.org/pandas-docs/stable/user_guide/indexing.html#returning-a-view-versus-a-copy\n",
      "  smallmart_df['pay_date'] = pd.to_datetime(smallmart_df['pay_date'])\n"
     ]
    }
   ],
   "source": [
    "# pay_date 데이터 타입 변환하기\n",
    "smallmart_df['pay_date'] = pd.to_datetime(smallmart_df['pay_date'])"
   ]
  },
  {
   "cell_type": "code",
   "execution_count": 29,
   "id": "1fe5c726",
   "metadata": {},
   "outputs": [],
   "source": [
    "# 중복 제거된 고객 아이디\n",
    "customer_id = list(smallmart_df['person_id'].unique())\n",
    "\n",
    "# 고객별 구매금액 얼마인지 파악하기\n",
    "monetary_df = pd.DataFrame()\n",
    "monetary_df['person_id'] = customer_id\n",
    "\n",
    "monetary_data = [] # 구매금액 담을 리스트"
   ]
  },
  {
   "cell_type": "code",
   "execution_count": 30,
   "id": "7b4b768a",
   "metadata": {},
   "outputs": [
    {
     "name": "stderr",
     "output_type": "stream",
     "text": [
      "100%|█████████████████████████████████████| 32248/32248 [12:55<00:00, 41.61it/s]\n"
     ]
    }
   ],
   "source": [
    "# 고객별 총 구매금액 구하기\n",
    "for ci in tqdm(customer_id):\n",
    "    temp = smallmart_df.query('person_id == @ci')\n",
    "    amount = sum(temp['amount'])\n",
    "    monetary_data.append(amount)\n",
    "    \n",
    "monetary_df['Monetary'] = monetary_data"
   ]
  },
  {
   "cell_type": "code",
   "execution_count": 31,
   "id": "12c038d0",
   "metadata": {},
   "outputs": [],
   "source": [
    "# recency 각 고객별 최근방문일 알아보기\n",
    "temp_recency_df = smallmart_df[['person_id', 'pay_date']].drop_duplicates()\n",
    "recency_df = temp_recency_df.groupby('person_id')['pay_date'].max().reset_index()\n",
    "recency_df = recency_df.rename(columns = {'pay_date' : 'Recency'})"
   ]
  },
  {
   "cell_type": "code",
   "execution_count": 32,
   "id": "0566ed74",
   "metadata": {},
   "outputs": [],
   "source": [
    "# Frequency 각 고객별 방문횟수 알아보기\n",
    "temp_frequency_df = smallmart_df[['person_id', 'pay_date']].drop_duplicates()\n",
    "frequency_df = temp_frequency_df.groupby('person_id')['pay_date'].nunique().reset_index()\n",
    "frequency_df = frequency_df.rename(columns = {'pay_date' : 'Frequency'})"
   ]
  },
  {
   "cell_type": "code",
   "execution_count": 33,
   "id": "904a1ae6",
   "metadata": {},
   "outputs": [],
   "source": [
    "# 각 df 병합하기\n",
    "smallmart_rfm = pd.merge(recency_df, frequency_df, how = 'left', on = 'person_id')\n",
    "smallmart_rfm = pd.merge(smallmart_rfm, monetary_df, how = 'left', on = 'person_id')"
   ]
  },
  {
   "cell_type": "code",
   "execution_count": 34,
   "id": "5ebcf093",
   "metadata": {},
   "outputs": [],
   "source": [
    "# Recency day로 변환하기\n",
    "\n",
    "# 최근 날짜 설정\n",
    "current_date = pd.to_datetime('20230701')\n",
    "\n",
    "# 날짜 차이 구하기\n",
    "time_diff = current_date - smallmart_rfm['Recency']\n",
    "\n",
    "# 날짜 day로 변환\n",
    "time_in_days = [x.days for x in time_diff]\n",
    "\n",
    "# 변환한 날짜로 교체하기\n",
    "smallmart_rfm['Recency'] = time_in_days"
   ]
  },
  {
   "cell_type": "code",
   "execution_count": 35,
   "id": "67024898",
   "metadata": {},
   "outputs": [],
   "source": [
    "# 성별 / 나이 / 편의점 추가하기\n",
    "info_df = smallmart_df[['person_id', 'age_group', 'person_gender']].drop_duplicates()\n",
    "\n",
    "smallmart_rfm = pd.merge(smallmart_rfm, info_df, how = 'left', on = 'person_id')\n",
    "\n",
    "smallmart_rfm['category'] = '슈퍼마켓'"
   ]
  },
  {
   "cell_type": "code",
   "execution_count": 39,
   "id": "d990d3ca",
   "metadata": {},
   "outputs": [],
   "source": [
    "smallmart_rfm.to_csv(\"Desktop/smallmart_rfm.csv\")"
   ]
  },
  {
   "cell_type": "markdown",
   "id": "304c4b48",
   "metadata": {},
   "source": [
    "### RFM 각 변수에 대한 점수별 기준 산정\n",
    "참고자료: https://stelch.tistory.com/pages/CRM-RFM-%EA%B3%A0%EA%B0%9D%EA%B0%80%EC%B9%98%EB%B6%84%EC%84%9D-feat-%ED%8C%8C%EC%9D%B4%EC%8D%AC-%ED%99%9C%EC%9A%A9"
   ]
  },
  {
   "cell_type": "code",
   "execution_count": 2,
   "id": "b6cf3049",
   "metadata": {},
   "outputs": [],
   "source": [
    "import pandas as pd\n",
    "import numpy as np\n",
    "import matplotlib.pyplot as plt\n",
    "from matplotlib import style\n",
    "import seaborn as sns\n",
    "from datetime import datetime\n",
    "from tqdm import tqdm\n",
    "\n",
    "# 데이터 불러오기\n",
    "c_rfm = pd.read_csv(\"Desktop/convenience_rfm.csv\")\n",
    "b_rfm = pd.read_csv(\"Desktop/bigmart_rfm.csv\")\n",
    "s_rfm = pd.read_csv(\"Desktop/smallmart_rfm.csv\")"
   ]
  },
  {
   "cell_type": "code",
   "execution_count": 5,
   "id": "3f768ebb",
   "metadata": {},
   "outputs": [
    {
     "data": {
      "text/plain": [
       "count    39317.000000\n",
       "mean       109.907012\n",
       "std        120.883694\n",
       "min          1.000000\n",
       "25%          6.000000\n",
       "50%         44.000000\n",
       "75%        219.000000\n",
       "max        365.000000\n",
       "Name: Recency, dtype: float64"
      ]
     },
     "execution_count": 5,
     "metadata": {},
     "output_type": "execute_result"
    }
   ],
   "source": [
    "# 편의점 최근 구매 날짜\n",
    "# 평균적으로 고객 한 명당 최근에 구매한 날짜는 109일 전\n",
    "c_rfm.Recency.describe()"
   ]
  },
  {
   "cell_type": "code",
   "execution_count": 104,
   "id": "d29653ad",
   "metadata": {},
   "outputs": [
    {
     "name": "stderr",
     "output_type": "stream",
     "text": [
      "/Users/jjeori/opt/anaconda3/lib/python3.9/site-packages/seaborn/distributions.py:2619: FutureWarning: `distplot` is a deprecated function and will be removed in a future version. Please adapt your code to use either `displot` (a figure-level function with similar flexibility) or `histplot` (an axes-level function for histograms).\n",
      "  warnings.warn(msg, FutureWarning)\n"
     ]
    },
    {
     "data": {
      "image/png": "[encoded data removed]",
      "text/plain": [
       "<Figure size 864x432 with 1 Axes>"
      ]
     },
     "metadata": {},
     "output_type": "display_data"
    }
   ],
   "source": [
    "# 시간 차이의 흐름 시각화\n",
    "sns.set(palette = 'muted', color_codes = True, style = 'white')\n",
    "fig, ax = plt.subplots(figsize = (12, 6))\n",
    "sns.despine(left = True)\n",
    "sns.distplot(c_rfm['Recency'], bins = 30)\n",
    "plt.show()\n",
    "\n",
    "# 최근 결제 수가 많다는 걸 알 수 있다."
   ]
  },
  {
   "cell_type": "code",
   "execution_count": 105,
   "id": "6274818f",
   "metadata": {},
   "outputs": [
    {
     "name": "stderr",
     "output_type": "stream",
     "text": [
      "/var/folders/c1/3m4yfnr1033cv80bgnw17ly00000gn/T/ipykernel_24268/325185615.py:9: SettingWithCopyWarning: \n",
      "A value is trying to be set on a copy of a slice from a DataFrame.\n",
      "Try using .loc[row_indexer,col_indexer] = value instead\n",
      "\n",
      "See the caveats in the documentation: https://pandas.pydata.org/pandas-docs/stable/user_guide/indexing.html#returning-a-view-versus-a-copy\n",
      "  df_recency['cluster'] = kmeans.labels_\n",
      "/var/folders/c1/3m4yfnr1033cv80bgnw17ly00000gn/T/ipykernel_24268/325185615.py:9: SettingWithCopyWarning: \n",
      "A value is trying to be set on a copy of a slice from a DataFrame.\n",
      "Try using .loc[row_indexer,col_indexer] = value instead\n",
      "\n",
      "See the caveats in the documentation: https://pandas.pydata.org/pandas-docs/stable/user_guide/indexing.html#returning-a-view-versus-a-copy\n",
      "  df_recency['cluster'] = kmeans.labels_\n",
      "/var/folders/c1/3m4yfnr1033cv80bgnw17ly00000gn/T/ipykernel_24268/325185615.py:9: SettingWithCopyWarning: \n",
      "A value is trying to be set on a copy of a slice from a DataFrame.\n",
      "Try using .loc[row_indexer,col_indexer] = value instead\n",
      "\n",
      "See the caveats in the documentation: https://pandas.pydata.org/pandas-docs/stable/user_guide/indexing.html#returning-a-view-versus-a-copy\n",
      "  df_recency['cluster'] = kmeans.labels_\n",
      "/var/folders/c1/3m4yfnr1033cv80bgnw17ly00000gn/T/ipykernel_24268/325185615.py:9: SettingWithCopyWarning: \n",
      "A value is trying to be set on a copy of a slice from a DataFrame.\n",
      "Try using .loc[row_indexer,col_indexer] = value instead\n",
      "\n",
      "See the caveats in the documentation: https://pandas.pydata.org/pandas-docs/stable/user_guide/indexing.html#returning-a-view-versus-a-copy\n",
      "  df_recency['cluster'] = kmeans.labels_\n",
      "/var/folders/c1/3m4yfnr1033cv80bgnw17ly00000gn/T/ipykernel_24268/325185615.py:9: SettingWithCopyWarning: \n",
      "A value is trying to be set on a copy of a slice from a DataFrame.\n",
      "Try using .loc[row_indexer,col_indexer] = value instead\n",
      "\n",
      "See the caveats in the documentation: https://pandas.pydata.org/pandas-docs/stable/user_guide/indexing.html#returning-a-view-versus-a-copy\n",
      "  df_recency['cluster'] = kmeans.labels_\n",
      "/var/folders/c1/3m4yfnr1033cv80bgnw17ly00000gn/T/ipykernel_24268/325185615.py:9: SettingWithCopyWarning: \n",
      "A value is trying to be set on a copy of a slice from a DataFrame.\n",
      "Try using .loc[row_indexer,col_indexer] = value instead\n",
      "\n",
      "See the caveats in the documentation: https://pandas.pydata.org/pandas-docs/stable/user_guide/indexing.html#returning-a-view-versus-a-copy\n",
      "  df_recency['cluster'] = kmeans.labels_\n",
      "/var/folders/c1/3m4yfnr1033cv80bgnw17ly00000gn/T/ipykernel_24268/325185615.py:9: SettingWithCopyWarning: \n",
      "A value is trying to be set on a copy of a slice from a DataFrame.\n",
      "Try using .loc[row_indexer,col_indexer] = value instead\n",
      "\n",
      "See the caveats in the documentation: https://pandas.pydata.org/pandas-docs/stable/user_guide/indexing.html#returning-a-view-versus-a-copy\n",
      "  df_recency['cluster'] = kmeans.labels_\n",
      "/var/folders/c1/3m4yfnr1033cv80bgnw17ly00000gn/T/ipykernel_24268/325185615.py:9: SettingWithCopyWarning: \n",
      "A value is trying to be set on a copy of a slice from a DataFrame.\n",
      "Try using .loc[row_indexer,col_indexer] = value instead\n",
      "\n",
      "See the caveats in the documentation: https://pandas.pydata.org/pandas-docs/stable/user_guide/indexing.html#returning-a-view-versus-a-copy\n",
      "  df_recency['cluster'] = kmeans.labels_\n",
      "/var/folders/c1/3m4yfnr1033cv80bgnw17ly00000gn/T/ipykernel_24268/325185615.py:9: SettingWithCopyWarning: \n",
      "A value is trying to be set on a copy of a slice from a DataFrame.\n",
      "Try using .loc[row_indexer,col_indexer] = value instead\n",
      "\n",
      "See the caveats in the documentation: https://pandas.pydata.org/pandas-docs/stable/user_guide/indexing.html#returning-a-view-versus-a-copy\n",
      "  df_recency['cluster'] = kmeans.labels_\n"
     ]
    },
    {
     "data": {
      "image/png": "[encoded data removed]",
      "text/plain": [
       "<Figure size 432x288 with 1 Axes>"
      ]
     },
     "metadata": {},
     "output_type": "display_data"
    }
   ],
   "source": [
    "# kmeans 계산하기 위한 elbow point구하기\n",
    "from sklearn.cluster import KMeans\n",
    "\n",
    "point = {}\n",
    "df_recency = c_rfm[['Recency']]\n",
    "\n",
    "for k in range(1, 10):\n",
    "    kmeans = KMeans(n_clusters = k, max_iter = 100).fit(df_recency)\n",
    "    df_recency['cluster'] = kmeans.labels_\n",
    "    point[k] = kmeans.inertia_\n",
    "\n",
    "plt.plot(list(point.keys()), list(point.values()))\n",
    "plt.show()"
   ]
  },
  {
   "cell_type": "code",
   "execution_count": 106,
   "id": "bb20a744",
   "metadata": {},
   "outputs": [
    {
     "data": {
      "text/html": [
       "<div>\n",
       "<style scoped>\n",
       "    .dataframe tbody tr th:only-of-type {\n",
       "        vertical-align: middle;\n",
       "    }\n",
       "\n",
       "    .dataframe tbody tr th {\n",
       "        vertical-align: top;\n",
       "    }\n",
       "\n",
       "    .dataframe thead th {\n",
       "        text-align: right;\n",
       "    }\n",
       "</style>\n",
       "<table border=\"1\" class=\"dataframe\">\n",
       "  <thead>\n",
       "    <tr style=\"text-align: right;\">\n",
       "      <th></th>\n",
       "      <th>count</th>\n",
       "      <th>mean</th>\n",
       "      <th>std</th>\n",
       "      <th>min</th>\n",
       "      <th>25%</th>\n",
       "      <th>50%</th>\n",
       "      <th>75%</th>\n",
       "      <th>max</th>\n",
       "    </tr>\n",
       "    <tr>\n",
       "      <th>Recencycluster</th>\n",
       "      <th></th>\n",
       "      <th></th>\n",
       "      <th></th>\n",
       "      <th></th>\n",
       "      <th></th>\n",
       "      <th></th>\n",
       "      <th></th>\n",
       "      <th></th>\n",
       "    </tr>\n",
       "  </thead>\n",
       "  <tbody>\n",
       "    <tr>\n",
       "      <th>0</th>\n",
       "      <td>6766.0</td>\n",
       "      <td>315.354863</td>\n",
       "      <td>27.826282</td>\n",
       "      <td>268.0</td>\n",
       "      <td>292.0</td>\n",
       "      <td>314.0</td>\n",
       "      <td>339.0</td>\n",
       "      <td>365.0</td>\n",
       "    </tr>\n",
       "    <tr>\n",
       "      <th>1</th>\n",
       "      <td>5749.0</td>\n",
       "      <td>220.245086</td>\n",
       "      <td>29.703111</td>\n",
       "      <td>167.0</td>\n",
       "      <td>194.0</td>\n",
       "      <td>223.0</td>\n",
       "      <td>247.0</td>\n",
       "      <td>267.0</td>\n",
       "    </tr>\n",
       "    <tr>\n",
       "      <th>2</th>\n",
       "      <td>5652.0</td>\n",
       "      <td>114.281847</td>\n",
       "      <td>29.976792</td>\n",
       "      <td>64.0</td>\n",
       "      <td>88.0</td>\n",
       "      <td>115.0</td>\n",
       "      <td>140.0</td>\n",
       "      <td>166.0</td>\n",
       "    </tr>\n",
       "    <tr>\n",
       "      <th>3</th>\n",
       "      <td>21147.0</td>\n",
       "      <td>13.021563</td>\n",
       "      <td>15.249252</td>\n",
       "      <td>1.0</td>\n",
       "      <td>2.0</td>\n",
       "      <td>6.0</td>\n",
       "      <td>18.0</td>\n",
       "      <td>63.0</td>\n",
       "    </tr>\n",
       "  </tbody>\n",
       "</table>\n",
       "</div>"
      ],
      "text/plain": [
       "                  count        mean        std    min    25%    50%    75%  \\\n",
       "Recencycluster                                                               \n",
       "0                6766.0  315.354863  27.826282  268.0  292.0  314.0  339.0   \n",
       "1                5749.0  220.245086  29.703111  167.0  194.0  223.0  247.0   \n",
       "2                5652.0  114.281847  29.976792   64.0   88.0  115.0  140.0   \n",
       "3               21147.0   13.021563  15.249252    1.0    2.0    6.0   18.0   \n",
       "\n",
       "                  max  \n",
       "Recencycluster         \n",
       "0               365.0  \n",
       "1               267.0  \n",
       "2               166.0  \n",
       "3                63.0  "
      ]
     },
     "execution_count": 106,
     "metadata": {},
     "output_type": "execute_result"
    }
   ],
   "source": [
    "# 위 그래프를 통해서 elbow point는 4인 지점으로 설정\n",
    "kmeans = KMeans(n_clusters = 4)\n",
    "kmeans.fit(c_rfm[['Recency']])\n",
    "c_rfm['Recencycluster'] = kmeans.predict(c_rfm[['Recency']])\n",
    "\n",
    "# cluster 분석 모형\n",
    "def order_cluster(cluster_field_name, target_field_name, df, ascending):\n",
    "    df_new = df.groupby(cluster_field_name)[target_field_name].mean().reset_index()\n",
    "    df_new = df_new.sort_values(by = target_field_name, ascending = ascending).reset_index(drop = True)\n",
    "    df_new['index'] = df_new.index\n",
    "    df_final = pd.merge(df, df_new[[cluster_field_name, 'index']], on = cluster_field_name)\n",
    "    df_final = df_final.drop([cluster_field_name], axis = 1)\n",
    "    df_final = df_final.rename(columns = {\"index\" : cluster_field_name})\n",
    "    return df_final\n",
    "\n",
    "c_rfm = order_cluster('Recencycluster', 'Recency', c_rfm, False)\n",
    "c_rfm.groupby('Recencycluster')['Recency'].describe()"
   ]
  },
  {
   "cell_type": "code",
   "execution_count": 107,
   "id": "a5c6c7a4",
   "metadata": {},
   "outputs": [
    {
     "data": {
      "text/plain": [
       "count    39314.000000\n",
       "mean        39.734013\n",
       "std         50.469201\n",
       "min          1.000000\n",
       "25%          6.000000\n",
       "50%         21.000000\n",
       "75%         52.000000\n",
       "max        364.000000\n",
       "Name: Frequency, dtype: float64"
      ]
     },
     "execution_count": 107,
     "metadata": {},
     "output_type": "execute_result"
    }
   ],
   "source": [
    "# Frequency 도출을 위한 데이터 추출\n",
    "c_rfm.Frequency.describe()"
   ]
  },
  {
   "cell_type": "code",
   "execution_count": 108,
   "id": "b21aaf4c",
   "metadata": {},
   "outputs": [
    {
     "name": "stderr",
     "output_type": "stream",
     "text": [
      "/Users/jjeori/opt/anaconda3/lib/python3.9/site-packages/seaborn/distributions.py:2619: FutureWarning: `distplot` is a deprecated function and will be removed in a future version. Please adapt your code to use either `displot` (a figure-level function with similar flexibility) or `histplot` (an axes-level function for histograms).\n",
      "  warnings.warn(msg, FutureWarning)\n"
     ]
    },
    {
     "data": {
      "image/png": "[encoded data removed]",
      "text/plain": [
       "<Figure size 864x432 with 1 Axes>"
      ]
     },
     "metadata": {},
     "output_type": "display_data"
    }
   ],
   "source": [
    "# 구매 빈도의 흐름 시각화\n",
    "sns.set(palette = 'muted', color_codes = True, style = 'whitegrid')\n",
    "fig, ax = plt.subplots(figsize = (12, 6))\n",
    "sns.despine(left = True)\n",
    "sns.distplot(c_rfm['Frequency'], bins = 30)\n",
    "plt.show()"
   ]
  },
  {
   "cell_type": "code",
   "execution_count": 109,
   "id": "052ed7d6",
   "metadata": {},
   "outputs": [
    {
     "name": "stderr",
     "output_type": "stream",
     "text": [
      "/var/folders/c1/3m4yfnr1033cv80bgnw17ly00000gn/T/ipykernel_24268/460856203.py:9: SettingWithCopyWarning: \n",
      "A value is trying to be set on a copy of a slice from a DataFrame.\n",
      "Try using .loc[row_indexer,col_indexer] = value instead\n",
      "\n",
      "See the caveats in the documentation: https://pandas.pydata.org/pandas-docs/stable/user_guide/indexing.html#returning-a-view-versus-a-copy\n",
      "  df_frequency['cluster'] = kmeans.labels_\n",
      "/var/folders/c1/3m4yfnr1033cv80bgnw17ly00000gn/T/ipykernel_24268/460856203.py:9: SettingWithCopyWarning: \n",
      "A value is trying to be set on a copy of a slice from a DataFrame.\n",
      "Try using .loc[row_indexer,col_indexer] = value instead\n",
      "\n",
      "See the caveats in the documentation: https://pandas.pydata.org/pandas-docs/stable/user_guide/indexing.html#returning-a-view-versus-a-copy\n",
      "  df_frequency['cluster'] = kmeans.labels_\n",
      "/var/folders/c1/3m4yfnr1033cv80bgnw17ly00000gn/T/ipykernel_24268/460856203.py:9: SettingWithCopyWarning: \n",
      "A value is trying to be set on a copy of a slice from a DataFrame.\n",
      "Try using .loc[row_indexer,col_indexer] = value instead\n",
      "\n",
      "See the caveats in the documentation: https://pandas.pydata.org/pandas-docs/stable/user_guide/indexing.html#returning-a-view-versus-a-copy\n",
      "  df_frequency['cluster'] = kmeans.labels_\n",
      "/var/folders/c1/3m4yfnr1033cv80bgnw17ly00000gn/T/ipykernel_24268/460856203.py:9: SettingWithCopyWarning: \n",
      "A value is trying to be set on a copy of a slice from a DataFrame.\n",
      "Try using .loc[row_indexer,col_indexer] = value instead\n",
      "\n",
      "See the caveats in the documentation: https://pandas.pydata.org/pandas-docs/stable/user_guide/indexing.html#returning-a-view-versus-a-copy\n",
      "  df_frequency['cluster'] = kmeans.labels_\n",
      "/var/folders/c1/3m4yfnr1033cv80bgnw17ly00000gn/T/ipykernel_24268/460856203.py:9: SettingWithCopyWarning: \n",
      "A value is trying to be set on a copy of a slice from a DataFrame.\n",
      "Try using .loc[row_indexer,col_indexer] = value instead\n",
      "\n",
      "See the caveats in the documentation: https://pandas.pydata.org/pandas-docs/stable/user_guide/indexing.html#returning-a-view-versus-a-copy\n",
      "  df_frequency['cluster'] = kmeans.labels_\n",
      "/var/folders/c1/3m4yfnr1033cv80bgnw17ly00000gn/T/ipykernel_24268/460856203.py:9: SettingWithCopyWarning: \n",
      "A value is trying to be set on a copy of a slice from a DataFrame.\n",
      "Try using .loc[row_indexer,col_indexer] = value instead\n",
      "\n",
      "See the caveats in the documentation: https://pandas.pydata.org/pandas-docs/stable/user_guide/indexing.html#returning-a-view-versus-a-copy\n",
      "  df_frequency['cluster'] = kmeans.labels_\n",
      "/var/folders/c1/3m4yfnr1033cv80bgnw17ly00000gn/T/ipykernel_24268/460856203.py:9: SettingWithCopyWarning: \n",
      "A value is trying to be set on a copy of a slice from a DataFrame.\n",
      "Try using .loc[row_indexer,col_indexer] = value instead\n",
      "\n",
      "See the caveats in the documentation: https://pandas.pydata.org/pandas-docs/stable/user_guide/indexing.html#returning-a-view-versus-a-copy\n",
      "  df_frequency['cluster'] = kmeans.labels_\n",
      "/var/folders/c1/3m4yfnr1033cv80bgnw17ly00000gn/T/ipykernel_24268/460856203.py:9: SettingWithCopyWarning: \n",
      "A value is trying to be set on a copy of a slice from a DataFrame.\n",
      "Try using .loc[row_indexer,col_indexer] = value instead\n",
      "\n",
      "See the caveats in the documentation: https://pandas.pydata.org/pandas-docs/stable/user_guide/indexing.html#returning-a-view-versus-a-copy\n",
      "  df_frequency['cluster'] = kmeans.labels_\n",
      "/var/folders/c1/3m4yfnr1033cv80bgnw17ly00000gn/T/ipykernel_24268/460856203.py:9: SettingWithCopyWarning: \n",
      "A value is trying to be set on a copy of a slice from a DataFrame.\n",
      "Try using .loc[row_indexer,col_indexer] = value instead\n",
      "\n",
      "See the caveats in the documentation: https://pandas.pydata.org/pandas-docs/stable/user_guide/indexing.html#returning-a-view-versus-a-copy\n",
      "  df_frequency['cluster'] = kmeans.labels_\n"
     ]
    },
    {
     "data": {
      "image/png": "[encoded data removed]",
      "text/plain": [
       "<Figure size 720x360 with 1 Axes>"
      ]
     },
     "metadata": {},
     "output_type": "display_data"
    }
   ],
   "source": [
    "# kmeans 계산하기 위한 elbow point구하기\n",
    "from sklearn.cluster import KMeans\n",
    "\n",
    "point = {}\n",
    "df_frequency = c_rfm[['Frequency']]\n",
    "\n",
    "for k in range(1, 10):\n",
    "    kmeans = KMeans(n_clusters = k, max_iter = 100).fit(df_frequency)\n",
    "    df_frequency['cluster'] = kmeans.labels_\n",
    "    point[k] = kmeans.inertia_\n",
    "\n",
    "plt.figure(figsize = (10, 5))\n",
    "plt.plot(list(point.keys()), list(point.values()))\n",
    "plt.xlabel(\"Number of cluster\")\n",
    "plt.show()"
   ]
  },
  {
   "cell_type": "code",
   "execution_count": 110,
   "id": "04baf452",
   "metadata": {},
   "outputs": [
    {
     "data": {
      "text/html": [
       "<div>\n",
       "<style scoped>\n",
       "    .dataframe tbody tr th:only-of-type {\n",
       "        vertical-align: middle;\n",
       "    }\n",
       "\n",
       "    .dataframe tbody tr th {\n",
       "        vertical-align: top;\n",
       "    }\n",
       "\n",
       "    .dataframe thead th {\n",
       "        text-align: right;\n",
       "    }\n",
       "</style>\n",
       "<table border=\"1\" class=\"dataframe\">\n",
       "  <thead>\n",
       "    <tr style=\"text-align: right;\">\n",
       "      <th></th>\n",
       "      <th>count</th>\n",
       "      <th>mean</th>\n",
       "      <th>std</th>\n",
       "      <th>min</th>\n",
       "      <th>25%</th>\n",
       "      <th>50%</th>\n",
       "      <th>75%</th>\n",
       "      <th>max</th>\n",
       "    </tr>\n",
       "    <tr>\n",
       "      <th>Frequencycluster</th>\n",
       "      <th></th>\n",
       "      <th></th>\n",
       "      <th></th>\n",
       "      <th></th>\n",
       "      <th></th>\n",
       "      <th></th>\n",
       "      <th></th>\n",
       "      <th></th>\n",
       "    </tr>\n",
       "  </thead>\n",
       "  <tbody>\n",
       "    <tr>\n",
       "      <th>0</th>\n",
       "      <td>24118.0</td>\n",
       "      <td>11.088938</td>\n",
       "      <td>8.769503</td>\n",
       "      <td>1.0</td>\n",
       "      <td>3.0</td>\n",
       "      <td>9.0</td>\n",
       "      <td>18.0</td>\n",
       "      <td>31.0</td>\n",
       "    </tr>\n",
       "    <tr>\n",
       "      <th>1</th>\n",
       "      <td>9705.0</td>\n",
       "      <td>52.490881</td>\n",
       "      <td>14.738408</td>\n",
       "      <td>32.0</td>\n",
       "      <td>40.0</td>\n",
       "      <td>50.0</td>\n",
       "      <td>64.0</td>\n",
       "      <td>84.0</td>\n",
       "    </tr>\n",
       "    <tr>\n",
       "      <th>2</th>\n",
       "      <td>4106.0</td>\n",
       "      <td>116.473210</td>\n",
       "      <td>23.318666</td>\n",
       "      <td>85.0</td>\n",
       "      <td>96.0</td>\n",
       "      <td>112.0</td>\n",
       "      <td>134.0</td>\n",
       "      <td>169.0</td>\n",
       "    </tr>\n",
       "    <tr>\n",
       "      <th>3</th>\n",
       "      <td>1385.0</td>\n",
       "      <td>221.658484</td>\n",
       "      <td>42.952029</td>\n",
       "      <td>170.0</td>\n",
       "      <td>187.0</td>\n",
       "      <td>210.0</td>\n",
       "      <td>250.0</td>\n",
       "      <td>364.0</td>\n",
       "    </tr>\n",
       "  </tbody>\n",
       "</table>\n",
       "</div>"
      ],
      "text/plain": [
       "                    count        mean        std    min    25%    50%    75%  \\\n",
       "Frequencycluster                                                               \n",
       "0                 24118.0   11.088938   8.769503    1.0    3.0    9.0   18.0   \n",
       "1                  9705.0   52.490881  14.738408   32.0   40.0   50.0   64.0   \n",
       "2                  4106.0  116.473210  23.318666   85.0   96.0  112.0  134.0   \n",
       "3                  1385.0  221.658484  42.952029  170.0  187.0  210.0  250.0   \n",
       "\n",
       "                    max  \n",
       "Frequencycluster         \n",
       "0                  31.0  \n",
       "1                  84.0  \n",
       "2                 169.0  \n",
       "3                 364.0  "
      ]
     },
     "execution_count": 110,
     "metadata": {},
     "output_type": "execute_result"
    }
   ],
   "source": [
    "# 위 그래프를 통해서 elbow point는 4인 지점으로 설정\n",
    "kmeans = KMeans(n_clusters = 4)\n",
    "kmeans.fit(c_rfm[['Frequency']])\n",
    "c_rfm['Frequencycluster'] = kmeans.predict(c_rfm[['Frequency']])\n",
    "\n",
    "c_rfm = order_cluster('Frequencycluster', 'Frequency', c_rfm, True)\n",
    "c_rfm.groupby('Frequencycluster')['Frequency'].describe()"
   ]
  },
  {
   "cell_type": "code",
   "execution_count": 111,
   "id": "f7378210",
   "metadata": {},
   "outputs": [
    {
     "data": {
      "text/plain": [
       "count    3.931400e+04\n",
       "mean     3.389647e+05\n",
       "std      5.633172e+05\n",
       "min      1.000000e+03\n",
       "25%      4.100000e+04\n",
       "50%      1.400000e+05\n",
       "75%      3.930000e+05\n",
       "max      1.401900e+07\n",
       "Name: Monetary, dtype: float64"
      ]
     },
     "execution_count": 111,
     "metadata": {},
     "output_type": "execute_result"
    }
   ],
   "source": [
    "# Monetary 도출을 위한 데이터 추출\n",
    "c_rfm.Monetary.describe()"
   ]
  },
  {
   "cell_type": "code",
   "execution_count": 112,
   "id": "4407b635",
   "metadata": {},
   "outputs": [
    {
     "name": "stderr",
     "output_type": "stream",
     "text": [
      "/Users/jjeori/opt/anaconda3/lib/python3.9/site-packages/seaborn/distributions.py:2619: FutureWarning: `distplot` is a deprecated function and will be removed in a future version. Please adapt your code to use either `displot` (a figure-level function with similar flexibility) or `kdeplot` (an axes-level function for kernel density plots).\n",
      "  warnings.warn(msg, FutureWarning)\n"
     ]
    },
    {
     "data": {
      "image/png": "[encoded data removed]",
      "text/plain": [
       "<Figure size 864x432 with 1 Axes>"
      ]
     },
     "metadata": {},
     "output_type": "display_data"
    }
   ],
   "source": [
    "# 구매 빈도의 흐름 시각화\n",
    "sns.set(palette = 'muted', color_codes = True, style = 'white')\n",
    "fig, ax = plt.subplots(figsize = (12, 6))\n",
    "sns.despine(left = True)\n",
    "sns.distplot(c_rfm['Monetary'], hist = False)\n",
    "plt.show()"
   ]
  },
  {
   "cell_type": "code",
   "execution_count": 113,
   "id": "a16f0ca7",
   "metadata": {},
   "outputs": [
    {
     "name": "stderr",
     "output_type": "stream",
     "text": [
      "/var/folders/c1/3m4yfnr1033cv80bgnw17ly00000gn/T/ipykernel_24268/705172312.py:9: SettingWithCopyWarning: \n",
      "A value is trying to be set on a copy of a slice from a DataFrame.\n",
      "Try using .loc[row_indexer,col_indexer] = value instead\n",
      "\n",
      "See the caveats in the documentation: https://pandas.pydata.org/pandas-docs/stable/user_guide/indexing.html#returning-a-view-versus-a-copy\n",
      "  df_monetary['cluster'] = kmeans.labels_\n",
      "/var/folders/c1/3m4yfnr1033cv80bgnw17ly00000gn/T/ipykernel_24268/705172312.py:9: SettingWithCopyWarning: \n",
      "A value is trying to be set on a copy of a slice from a DataFrame.\n",
      "Try using .loc[row_indexer,col_indexer] = value instead\n",
      "\n",
      "See the caveats in the documentation: https://pandas.pydata.org/pandas-docs/stable/user_guide/indexing.html#returning-a-view-versus-a-copy\n",
      "  df_monetary['cluster'] = kmeans.labels_\n",
      "/var/folders/c1/3m4yfnr1033cv80bgnw17ly00000gn/T/ipykernel_24268/705172312.py:9: SettingWithCopyWarning: \n",
      "A value is trying to be set on a copy of a slice from a DataFrame.\n",
      "Try using .loc[row_indexer,col_indexer] = value instead\n",
      "\n",
      "See the caveats in the documentation: https://pandas.pydata.org/pandas-docs/stable/user_guide/indexing.html#returning-a-view-versus-a-copy\n",
      "  df_monetary['cluster'] = kmeans.labels_\n",
      "/var/folders/c1/3m4yfnr1033cv80bgnw17ly00000gn/T/ipykernel_24268/705172312.py:9: SettingWithCopyWarning: \n",
      "A value is trying to be set on a copy of a slice from a DataFrame.\n",
      "Try using .loc[row_indexer,col_indexer] = value instead\n",
      "\n",
      "See the caveats in the documentation: https://pandas.pydata.org/pandas-docs/stable/user_guide/indexing.html#returning-a-view-versus-a-copy\n",
      "  df_monetary['cluster'] = kmeans.labels_\n",
      "/var/folders/c1/3m4yfnr1033cv80bgnw17ly00000gn/T/ipykernel_24268/705172312.py:9: SettingWithCopyWarning: \n",
      "A value is trying to be set on a copy of a slice from a DataFrame.\n",
      "Try using .loc[row_indexer,col_indexer] = value instead\n",
      "\n",
      "See the caveats in the documentation: https://pandas.pydata.org/pandas-docs/stable/user_guide/indexing.html#returning-a-view-versus-a-copy\n",
      "  df_monetary['cluster'] = kmeans.labels_\n",
      "/var/folders/c1/3m4yfnr1033cv80bgnw17ly00000gn/T/ipykernel_24268/705172312.py:9: SettingWithCopyWarning: \n",
      "A value is trying to be set on a copy of a slice from a DataFrame.\n",
      "Try using .loc[row_indexer,col_indexer] = value instead\n",
      "\n",
      "See the caveats in the documentation: https://pandas.pydata.org/pandas-docs/stable/user_guide/indexing.html#returning-a-view-versus-a-copy\n",
      "  df_monetary['cluster'] = kmeans.labels_\n",
      "/var/folders/c1/3m4yfnr1033cv80bgnw17ly00000gn/T/ipykernel_24268/705172312.py:9: SettingWithCopyWarning: \n",
      "A value is trying to be set on a copy of a slice from a DataFrame.\n",
      "Try using .loc[row_indexer,col_indexer] = value instead\n",
      "\n",
      "See the caveats in the documentation: https://pandas.pydata.org/pandas-docs/stable/user_guide/indexing.html#returning-a-view-versus-a-copy\n",
      "  df_monetary['cluster'] = kmeans.labels_\n",
      "/var/folders/c1/3m4yfnr1033cv80bgnw17ly00000gn/T/ipykernel_24268/705172312.py:9: SettingWithCopyWarning: \n",
      "A value is trying to be set on a copy of a slice from a DataFrame.\n",
      "Try using .loc[row_indexer,col_indexer] = value instead\n",
      "\n",
      "See the caveats in the documentation: https://pandas.pydata.org/pandas-docs/stable/user_guide/indexing.html#returning-a-view-versus-a-copy\n",
      "  df_monetary['cluster'] = kmeans.labels_\n",
      "/var/folders/c1/3m4yfnr1033cv80bgnw17ly00000gn/T/ipykernel_24268/705172312.py:9: SettingWithCopyWarning: \n",
      "A value is trying to be set on a copy of a slice from a DataFrame.\n",
      "Try using .loc[row_indexer,col_indexer] = value instead\n",
      "\n",
      "See the caveats in the documentation: https://pandas.pydata.org/pandas-docs/stable/user_guide/indexing.html#returning-a-view-versus-a-copy\n",
      "  df_monetary['cluster'] = kmeans.labels_\n"
     ]
    },
    {
     "data": {
      "image/png": "[encoded data removed]",
      "text/plain": [
       "<Figure size 720x360 with 1 Axes>"
      ]
     },
     "metadata": {},
     "output_type": "display_data"
    }
   ],
   "source": [
    "# kmeans 계산하기 위한 elbow point구하기\n",
    "from sklearn.cluster import KMeans\n",
    "\n",
    "point = {}\n",
    "df_monetary = c_rfm[['Monetary']]\n",
    "\n",
    "for k in range(1, 10):\n",
    "    kmeans = KMeans(n_clusters = k, max_iter = 100).fit(df_monetary)\n",
    "    df_monetary['cluster'] = kmeans.labels_\n",
    "    point[k] = kmeans.inertia_\n",
    "\n",
    "plt.figure(figsize = (10, 5))\n",
    "plt.plot(list(point.keys()), list(point.values()))\n",
    "plt.xlabel(\"Number of cluster\")\n",
    "plt.show()"
   ]
  },
  {
   "cell_type": "code",
   "execution_count": 114,
   "id": "8d403c44",
   "metadata": {},
   "outputs": [
    {
     "data": {
      "text/html": [
       "<div>\n",
       "<style scoped>\n",
       "    .dataframe tbody tr th:only-of-type {\n",
       "        vertical-align: middle;\n",
       "    }\n",
       "\n",
       "    .dataframe tbody tr th {\n",
       "        vertical-align: top;\n",
       "    }\n",
       "\n",
       "    .dataframe thead th {\n",
       "        text-align: right;\n",
       "    }\n",
       "</style>\n",
       "<table border=\"1\" class=\"dataframe\">\n",
       "  <thead>\n",
       "    <tr style=\"text-align: right;\">\n",
       "      <th></th>\n",
       "      <th>count</th>\n",
       "      <th>mean</th>\n",
       "      <th>std</th>\n",
       "      <th>min</th>\n",
       "      <th>25%</th>\n",
       "      <th>50%</th>\n",
       "      <th>75%</th>\n",
       "      <th>max</th>\n",
       "    </tr>\n",
       "    <tr>\n",
       "      <th>Monetarycluster</th>\n",
       "      <th></th>\n",
       "      <th></th>\n",
       "      <th></th>\n",
       "      <th></th>\n",
       "      <th></th>\n",
       "      <th></th>\n",
       "      <th></th>\n",
       "      <th></th>\n",
       "    </tr>\n",
       "  </thead>\n",
       "  <tbody>\n",
       "    <tr>\n",
       "      <th>0</th>\n",
       "      <td>29941.0</td>\n",
       "      <td>1.199555e+05</td>\n",
       "      <td>1.104065e+05</td>\n",
       "      <td>1000.0</td>\n",
       "      <td>28000.0</td>\n",
       "      <td>83000.0</td>\n",
       "      <td>188000.0</td>\n",
       "      <td>413000.0</td>\n",
       "    </tr>\n",
       "    <tr>\n",
       "      <th>1</th>\n",
       "      <td>7170.0</td>\n",
       "      <td>7.079558e+05</td>\n",
       "      <td>2.295649e+05</td>\n",
       "      <td>414000.0</td>\n",
       "      <td>515000.0</td>\n",
       "      <td>652000.0</td>\n",
       "      <td>867000.0</td>\n",
       "      <td>1262000.0</td>\n",
       "    </tr>\n",
       "    <tr>\n",
       "      <th>2</th>\n",
       "      <td>1936.0</td>\n",
       "      <td>1.818054e+06</td>\n",
       "      <td>4.587393e+05</td>\n",
       "      <td>1263000.0</td>\n",
       "      <td>1428750.0</td>\n",
       "      <td>1687500.0</td>\n",
       "      <td>2114000.0</td>\n",
       "      <td>3035000.0</td>\n",
       "    </tr>\n",
       "    <tr>\n",
       "      <th>3</th>\n",
       "      <td>267.0</td>\n",
       "      <td>4.264700e+06</td>\n",
       "      <td>1.454173e+06</td>\n",
       "      <td>3042000.0</td>\n",
       "      <td>3361000.0</td>\n",
       "      <td>3769000.0</td>\n",
       "      <td>4534000.0</td>\n",
       "      <td>14019000.0</td>\n",
       "    </tr>\n",
       "  </tbody>\n",
       "</table>\n",
       "</div>"
      ],
      "text/plain": [
       "                   count          mean           std        min        25%  \\\n",
       "Monetarycluster                                                              \n",
       "0                29941.0  1.199555e+05  1.104065e+05     1000.0    28000.0   \n",
       "1                 7170.0  7.079558e+05  2.295649e+05   414000.0   515000.0   \n",
       "2                 1936.0  1.818054e+06  4.587393e+05  1263000.0  1428750.0   \n",
       "3                  267.0  4.264700e+06  1.454173e+06  3042000.0  3361000.0   \n",
       "\n",
       "                       50%        75%         max  \n",
       "Monetarycluster                                    \n",
       "0                  83000.0   188000.0    413000.0  \n",
       "1                 652000.0   867000.0   1262000.0  \n",
       "2                1687500.0  2114000.0   3035000.0  \n",
       "3                3769000.0  4534000.0  14019000.0  "
      ]
     },
     "execution_count": 114,
     "metadata": {},
     "output_type": "execute_result"
    }
   ],
   "source": [
    "# 위 그래프를 통해서 elbow point는 4인 지점으로 설정\n",
    "kmeans = KMeans(n_clusters = 4)\n",
    "kmeans.fit(c_rfm[['Monetary']])\n",
    "c_rfm['Monetarycluster'] = kmeans.predict(c_rfm[['Monetary']])\n",
    "\n",
    "c_rfm = order_cluster('Monetarycluster', 'Monetary', c_rfm, True)\n",
    "c_rfm.groupby('Monetarycluster')['Monetary'].describe()"
   ]
  },
  {
   "cell_type": "code",
   "execution_count": 90,
   "id": "42b5d4e0",
   "metadata": {},
   "outputs": [],
   "source": [
    "c_rfm.drop(['Unnamed: 0'], axis = 1, inplace = True)"
   ]
  },
  {
   "cell_type": "code",
   "execution_count": 115,
   "id": "62d7f371",
   "metadata": {},
   "outputs": [],
   "source": [
    "c_rfm.to_csv(\"Desktop/convenience_rfm.csv\")"
   ]
  },
  {
   "cell_type": "markdown",
   "id": "21c63a6d",
   "metadata": {},
   "source": [
    "### 대형마트 RFM 점수 산정"
   ]
  },
  {
   "cell_type": "code",
   "execution_count": 52,
   "id": "93d358ac",
   "metadata": {},
   "outputs": [
    {
     "data": {
      "text/plain": [
       "count    32485.000000\n",
       "mean       123.559766\n",
       "std        117.388042\n",
       "min          1.000000\n",
       "25%         16.000000\n",
       "50%         79.000000\n",
       "75%        224.000000\n",
       "max        365.000000\n",
       "Name: Recency, dtype: float64"
      ]
     },
     "execution_count": 52,
     "metadata": {},
     "output_type": "execute_result"
    }
   ],
   "source": [
    "# 대형마트 최근 구매 날짜\n",
    "# 평균적으로 고객 한 명당 최근에 구매한 날짜는 123일 전\n",
    "b_rfm.Recency.describe()"
   ]
  },
  {
   "cell_type": "code",
   "execution_count": 53,
   "id": "b0a00bf1",
   "metadata": {},
   "outputs": [
    {
     "name": "stderr",
     "output_type": "stream",
     "text": [
      "/Users/jjeori/opt/anaconda3/lib/python3.9/site-packages/seaborn/distributions.py:2619: FutureWarning: `distplot` is a deprecated function and will be removed in a future version. Please adapt your code to use either `displot` (a figure-level function with similar flexibility) or `histplot` (an axes-level function for histograms).\n",
      "  warnings.warn(msg, FutureWarning)\n"
     ]
    },
    {
     "data": {
      "image/png": "[encoded data removed]",
      "text/plain": [
       "<Figure size 864x432 with 1 Axes>"
      ]
     },
     "metadata": {},
     "output_type": "display_data"
    }
   ],
   "source": [
    "# 시간 차이의 흐름 시각화\n",
    "sns.set(palette = 'muted', color_codes = True, style = 'white')\n",
    "fig, ax = plt.subplots(figsize = (12, 6))\n",
    "sns.despine(left = True)\n",
    "sns.distplot(b_rfm['Recency'], bins = 30)\n",
    "plt.show()\n",
    "\n",
    "# 최근 결제 수가 많다는 걸 알 수 있다."
   ]
  },
  {
   "cell_type": "code",
   "execution_count": 54,
   "id": "87431ea7",
   "metadata": {},
   "outputs": [
    {
     "name": "stderr",
     "output_type": "stream",
     "text": [
      "/var/folders/c1/3m4yfnr1033cv80bgnw17ly00000gn/T/ipykernel_24268/3714228198.py:9: SettingWithCopyWarning: \n",
      "A value is trying to be set on a copy of a slice from a DataFrame.\n",
      "Try using .loc[row_indexer,col_indexer] = value instead\n",
      "\n",
      "See the caveats in the documentation: https://pandas.pydata.org/pandas-docs/stable/user_guide/indexing.html#returning-a-view-versus-a-copy\n",
      "  df_recency['cluster'] = kmeans.labels_\n",
      "/var/folders/c1/3m4yfnr1033cv80bgnw17ly00000gn/T/ipykernel_24268/3714228198.py:9: SettingWithCopyWarning: \n",
      "A value is trying to be set on a copy of a slice from a DataFrame.\n",
      "Try using .loc[row_indexer,col_indexer] = value instead\n",
      "\n",
      "See the caveats in the documentation: https://pandas.pydata.org/pandas-docs/stable/user_guide/indexing.html#returning-a-view-versus-a-copy\n",
      "  df_recency['cluster'] = kmeans.labels_\n",
      "/var/folders/c1/3m4yfnr1033cv80bgnw17ly00000gn/T/ipykernel_24268/3714228198.py:9: SettingWithCopyWarning: \n",
      "A value is trying to be set on a copy of a slice from a DataFrame.\n",
      "Try using .loc[row_indexer,col_indexer] = value instead\n",
      "\n",
      "See the caveats in the documentation: https://pandas.pydata.org/pandas-docs/stable/user_guide/indexing.html#returning-a-view-versus-a-copy\n",
      "  df_recency['cluster'] = kmeans.labels_\n",
      "/var/folders/c1/3m4yfnr1033cv80bgnw17ly00000gn/T/ipykernel_24268/3714228198.py:9: SettingWithCopyWarning: \n",
      "A value is trying to be set on a copy of a slice from a DataFrame.\n",
      "Try using .loc[row_indexer,col_indexer] = value instead\n",
      "\n",
      "See the caveats in the documentation: https://pandas.pydata.org/pandas-docs/stable/user_guide/indexing.html#returning-a-view-versus-a-copy\n",
      "  df_recency['cluster'] = kmeans.labels_\n",
      "/var/folders/c1/3m4yfnr1033cv80bgnw17ly00000gn/T/ipykernel_24268/3714228198.py:9: SettingWithCopyWarning: \n",
      "A value is trying to be set on a copy of a slice from a DataFrame.\n",
      "Try using .loc[row_indexer,col_indexer] = value instead\n",
      "\n",
      "See the caveats in the documentation: https://pandas.pydata.org/pandas-docs/stable/user_guide/indexing.html#returning-a-view-versus-a-copy\n",
      "  df_recency['cluster'] = kmeans.labels_\n",
      "/var/folders/c1/3m4yfnr1033cv80bgnw17ly00000gn/T/ipykernel_24268/3714228198.py:9: SettingWithCopyWarning: \n",
      "A value is trying to be set on a copy of a slice from a DataFrame.\n",
      "Try using .loc[row_indexer,col_indexer] = value instead\n",
      "\n",
      "See the caveats in the documentation: https://pandas.pydata.org/pandas-docs/stable/user_guide/indexing.html#returning-a-view-versus-a-copy\n",
      "  df_recency['cluster'] = kmeans.labels_\n",
      "/var/folders/c1/3m4yfnr1033cv80bgnw17ly00000gn/T/ipykernel_24268/3714228198.py:9: SettingWithCopyWarning: \n",
      "A value is trying to be set on a copy of a slice from a DataFrame.\n",
      "Try using .loc[row_indexer,col_indexer] = value instead\n",
      "\n",
      "See the caveats in the documentation: https://pandas.pydata.org/pandas-docs/stable/user_guide/indexing.html#returning-a-view-versus-a-copy\n",
      "  df_recency['cluster'] = kmeans.labels_\n",
      "/var/folders/c1/3m4yfnr1033cv80bgnw17ly00000gn/T/ipykernel_24268/3714228198.py:9: SettingWithCopyWarning: \n",
      "A value is trying to be set on a copy of a slice from a DataFrame.\n",
      "Try using .loc[row_indexer,col_indexer] = value instead\n",
      "\n",
      "See the caveats in the documentation: https://pandas.pydata.org/pandas-docs/stable/user_guide/indexing.html#returning-a-view-versus-a-copy\n",
      "  df_recency['cluster'] = kmeans.labels_\n",
      "/var/folders/c1/3m4yfnr1033cv80bgnw17ly00000gn/T/ipykernel_24268/3714228198.py:9: SettingWithCopyWarning: \n",
      "A value is trying to be set on a copy of a slice from a DataFrame.\n",
      "Try using .loc[row_indexer,col_indexer] = value instead\n",
      "\n",
      "See the caveats in the documentation: https://pandas.pydata.org/pandas-docs/stable/user_guide/indexing.html#returning-a-view-versus-a-copy\n",
      "  df_recency['cluster'] = kmeans.labels_\n"
     ]
    },
    {
     "data": {
      "image/png": "[encoded data removed]",
      "text/plain": [
       "<Figure size 432x288 with 1 Axes>"
      ]
     },
     "metadata": {},
     "output_type": "display_data"
    }
   ],
   "source": [
    "# kmeans 계산하기 위한 elbow point구하기\n",
    "from sklearn.cluster import KMeans\n",
    "\n",
    "point = {}\n",
    "df_recency = b_rfm[['Recency']]\n",
    "\n",
    "for k in range(1, 10):\n",
    "    kmeans = KMeans(n_clusters = k, max_iter = 100).fit(df_recency)\n",
    "    df_recency['cluster'] = kmeans.labels_\n",
    "    point[k] = kmeans.inertia_\n",
    "\n",
    "plt.plot(list(point.keys()), list(point.values()))\n",
    "plt.show()"
   ]
  },
  {
   "cell_type": "code",
   "execution_count": 55,
   "id": "fbcc92dd",
   "metadata": {},
   "outputs": [
    {
     "data": {
      "text/html": [
       "<div>\n",
       "<style scoped>\n",
       "    .dataframe tbody tr th:only-of-type {\n",
       "        vertical-align: middle;\n",
       "    }\n",
       "\n",
       "    .dataframe tbody tr th {\n",
       "        vertical-align: top;\n",
       "    }\n",
       "\n",
       "    .dataframe thead th {\n",
       "        text-align: right;\n",
       "    }\n",
       "</style>\n",
       "<table border=\"1\" class=\"dataframe\">\n",
       "  <thead>\n",
       "    <tr style=\"text-align: right;\">\n",
       "      <th></th>\n",
       "      <th>count</th>\n",
       "      <th>mean</th>\n",
       "      <th>std</th>\n",
       "      <th>min</th>\n",
       "      <th>25%</th>\n",
       "      <th>50%</th>\n",
       "      <th>75%</th>\n",
       "      <th>max</th>\n",
       "    </tr>\n",
       "    <tr>\n",
       "      <th>Recencycluster</th>\n",
       "      <th></th>\n",
       "      <th></th>\n",
       "      <th></th>\n",
       "      <th></th>\n",
       "      <th></th>\n",
       "      <th></th>\n",
       "      <th></th>\n",
       "      <th></th>\n",
       "    </tr>\n",
       "  </thead>\n",
       "  <tbody>\n",
       "    <tr>\n",
       "      <th>0</th>\n",
       "      <td>6066.0</td>\n",
       "      <td>316.021925</td>\n",
       "      <td>27.961887</td>\n",
       "      <td>266.0</td>\n",
       "      <td>294.0</td>\n",
       "      <td>316.0</td>\n",
       "      <td>339.0</td>\n",
       "      <td>365.0</td>\n",
       "    </tr>\n",
       "    <tr>\n",
       "      <th>1</th>\n",
       "      <td>5005.0</td>\n",
       "      <td>215.102298</td>\n",
       "      <td>29.400742</td>\n",
       "      <td>166.0</td>\n",
       "      <td>189.0</td>\n",
       "      <td>215.0</td>\n",
       "      <td>241.0</td>\n",
       "      <td>265.0</td>\n",
       "    </tr>\n",
       "    <tr>\n",
       "      <th>2</th>\n",
       "      <td>5902.0</td>\n",
       "      <td>116.172145</td>\n",
       "      <td>28.418350</td>\n",
       "      <td>70.0</td>\n",
       "      <td>91.0</td>\n",
       "      <td>117.0</td>\n",
       "      <td>141.0</td>\n",
       "      <td>165.0</td>\n",
       "    </tr>\n",
       "    <tr>\n",
       "      <th>3</th>\n",
       "      <td>15512.0</td>\n",
       "      <td>21.571364</td>\n",
       "      <td>18.805862</td>\n",
       "      <td>1.0</td>\n",
       "      <td>6.0</td>\n",
       "      <td>15.0</td>\n",
       "      <td>33.0</td>\n",
       "      <td>69.0</td>\n",
       "    </tr>\n",
       "  </tbody>\n",
       "</table>\n",
       "</div>"
      ],
      "text/plain": [
       "                  count        mean        std    min    25%    50%    75%  \\\n",
       "Recencycluster                                                               \n",
       "0                6066.0  316.021925  27.961887  266.0  294.0  316.0  339.0   \n",
       "1                5005.0  215.102298  29.400742  166.0  189.0  215.0  241.0   \n",
       "2                5902.0  116.172145  28.418350   70.0   91.0  117.0  141.0   \n",
       "3               15512.0   21.571364  18.805862    1.0    6.0   15.0   33.0   \n",
       "\n",
       "                  max  \n",
       "Recencycluster         \n",
       "0               365.0  \n",
       "1               265.0  \n",
       "2               165.0  \n",
       "3                69.0  "
      ]
     },
     "execution_count": 55,
     "metadata": {},
     "output_type": "execute_result"
    }
   ],
   "source": [
    "# 위 그래프를 통해서 elbow point는 4인 지점으로 설정\n",
    "kmeans = KMeans(n_clusters = 4)\n",
    "kmeans.fit(b_rfm[['Recency']])\n",
    "b_rfm['Recencycluster'] = kmeans.predict(b_rfm[['Recency']])\n",
    "\n",
    "b_rfm = order_cluster('Recencycluster', 'Recency', b_rfm, False)\n",
    "b_rfm.groupby('Recencycluster')['Recency'].describe()"
   ]
  },
  {
   "cell_type": "code",
   "execution_count": 56,
   "id": "8b733ffa",
   "metadata": {},
   "outputs": [
    {
     "data": {
      "text/plain": [
       "count    32485.000000\n",
       "mean        13.649654\n",
       "std         20.197018\n",
       "min          1.000000\n",
       "25%          2.000000\n",
       "50%          6.000000\n",
       "75%         16.000000\n",
       "max        287.000000\n",
       "Name: Frequency, dtype: float64"
      ]
     },
     "execution_count": 56,
     "metadata": {},
     "output_type": "execute_result"
    }
   ],
   "source": [
    "# Frequency 도출을 위한 데이터 추출\n",
    "b_rfm.Frequency.describe()"
   ]
  },
  {
   "cell_type": "code",
   "execution_count": 58,
   "id": "ad5d56c6",
   "metadata": {},
   "outputs": [
    {
     "name": "stderr",
     "output_type": "stream",
     "text": [
      "/Users/jjeori/opt/anaconda3/lib/python3.9/site-packages/seaborn/distributions.py:2619: FutureWarning: `distplot` is a deprecated function and will be removed in a future version. Please adapt your code to use either `displot` (a figure-level function with similar flexibility) or `histplot` (an axes-level function for histograms).\n",
      "  warnings.warn(msg, FutureWarning)\n"
     ]
    },
    {
     "data": {
      "image/png": "[encoded data removed]",
      "text/plain": [
       "<Figure size 864x432 with 1 Axes>"
      ]
     },
     "metadata": {},
     "output_type": "display_data"
    }
   ],
   "source": [
    "# 구매 빈도의 흐름 시각화\n",
    "sns.set(palette = 'muted', color_codes = True, style = 'whitegrid')\n",
    "fig, ax = plt.subplots(figsize = (12, 6))\n",
    "sns.despine(left = True)\n",
    "sns.distplot(b_rfm['Frequency'], bins = 30)\n",
    "plt.show()"
   ]
  },
  {
   "cell_type": "code",
   "execution_count": 59,
   "id": "ebdd6ec3",
   "metadata": {},
   "outputs": [
    {
     "name": "stderr",
     "output_type": "stream",
     "text": [
      "/var/folders/c1/3m4yfnr1033cv80bgnw17ly00000gn/T/ipykernel_24268/780887470.py:9: SettingWithCopyWarning: \n",
      "A value is trying to be set on a copy of a slice from a DataFrame.\n",
      "Try using .loc[row_indexer,col_indexer] = value instead\n",
      "\n",
      "See the caveats in the documentation: https://pandas.pydata.org/pandas-docs/stable/user_guide/indexing.html#returning-a-view-versus-a-copy\n",
      "  df_frequency['cluster'] = kmeans.labels_\n",
      "/var/folders/c1/3m4yfnr1033cv80bgnw17ly00000gn/T/ipykernel_24268/780887470.py:9: SettingWithCopyWarning: \n",
      "A value is trying to be set on a copy of a slice from a DataFrame.\n",
      "Try using .loc[row_indexer,col_indexer] = value instead\n",
      "\n",
      "See the caveats in the documentation: https://pandas.pydata.org/pandas-docs/stable/user_guide/indexing.html#returning-a-view-versus-a-copy\n",
      "  df_frequency['cluster'] = kmeans.labels_\n",
      "/var/folders/c1/3m4yfnr1033cv80bgnw17ly00000gn/T/ipykernel_24268/780887470.py:9: SettingWithCopyWarning: \n",
      "A value is trying to be set on a copy of a slice from a DataFrame.\n",
      "Try using .loc[row_indexer,col_indexer] = value instead\n",
      "\n",
      "See the caveats in the documentation: https://pandas.pydata.org/pandas-docs/stable/user_guide/indexing.html#returning-a-view-versus-a-copy\n",
      "  df_frequency['cluster'] = kmeans.labels_\n",
      "/var/folders/c1/3m4yfnr1033cv80bgnw17ly00000gn/T/ipykernel_24268/780887470.py:9: SettingWithCopyWarning: \n",
      "A value is trying to be set on a copy of a slice from a DataFrame.\n",
      "Try using .loc[row_indexer,col_indexer] = value instead\n",
      "\n",
      "See the caveats in the documentation: https://pandas.pydata.org/pandas-docs/stable/user_guide/indexing.html#returning-a-view-versus-a-copy\n",
      "  df_frequency['cluster'] = kmeans.labels_\n",
      "/var/folders/c1/3m4yfnr1033cv80bgnw17ly00000gn/T/ipykernel_24268/780887470.py:9: SettingWithCopyWarning: \n",
      "A value is trying to be set on a copy of a slice from a DataFrame.\n",
      "Try using .loc[row_indexer,col_indexer] = value instead\n",
      "\n",
      "See the caveats in the documentation: https://pandas.pydata.org/pandas-docs/stable/user_guide/indexing.html#returning-a-view-versus-a-copy\n",
      "  df_frequency['cluster'] = kmeans.labels_\n",
      "/var/folders/c1/3m4yfnr1033cv80bgnw17ly00000gn/T/ipykernel_24268/780887470.py:9: SettingWithCopyWarning: \n",
      "A value is trying to be set on a copy of a slice from a DataFrame.\n",
      "Try using .loc[row_indexer,col_indexer] = value instead\n",
      "\n",
      "See the caveats in the documentation: https://pandas.pydata.org/pandas-docs/stable/user_guide/indexing.html#returning-a-view-versus-a-copy\n",
      "  df_frequency['cluster'] = kmeans.labels_\n",
      "/var/folders/c1/3m4yfnr1033cv80bgnw17ly00000gn/T/ipykernel_24268/780887470.py:9: SettingWithCopyWarning: \n",
      "A value is trying to be set on a copy of a slice from a DataFrame.\n",
      "Try using .loc[row_indexer,col_indexer] = value instead\n",
      "\n",
      "See the caveats in the documentation: https://pandas.pydata.org/pandas-docs/stable/user_guide/indexing.html#returning-a-view-versus-a-copy\n",
      "  df_frequency['cluster'] = kmeans.labels_\n",
      "/var/folders/c1/3m4yfnr1033cv80bgnw17ly00000gn/T/ipykernel_24268/780887470.py:9: SettingWithCopyWarning: \n",
      "A value is trying to be set on a copy of a slice from a DataFrame.\n",
      "Try using .loc[row_indexer,col_indexer] = value instead\n",
      "\n",
      "See the caveats in the documentation: https://pandas.pydata.org/pandas-docs/stable/user_guide/indexing.html#returning-a-view-versus-a-copy\n",
      "  df_frequency['cluster'] = kmeans.labels_\n",
      "/var/folders/c1/3m4yfnr1033cv80bgnw17ly00000gn/T/ipykernel_24268/780887470.py:9: SettingWithCopyWarning: \n",
      "A value is trying to be set on a copy of a slice from a DataFrame.\n",
      "Try using .loc[row_indexer,col_indexer] = value instead\n",
      "\n",
      "See the caveats in the documentation: https://pandas.pydata.org/pandas-docs/stable/user_guide/indexing.html#returning-a-view-versus-a-copy\n",
      "  df_frequency['cluster'] = kmeans.labels_\n"
     ]
    },
    {
     "data": {
      "image/png": "[encoded data removed]",
      "text/plain": [
       "<Figure size 720x360 with 1 Axes>"
      ]
     },
     "metadata": {},
     "output_type": "display_data"
    }
   ],
   "source": [
    "# kmeans 계산하기 위한 elbow point구하기\n",
    "from sklearn.cluster import KMeans\n",
    "\n",
    "point = {}\n",
    "df_frequency = b_rfm[['Frequency']]\n",
    "\n",
    "for k in range(1, 10):\n",
    "    kmeans = KMeans(n_clusters = k, max_iter = 100).fit(df_frequency)\n",
    "    df_frequency['cluster'] = kmeans.labels_\n",
    "    point[k] = kmeans.inertia_\n",
    "\n",
    "plt.figure(figsize = (10, 5))\n",
    "plt.plot(list(point.keys()), list(point.values()))\n",
    "plt.xlabel(\"Number of cluster\")\n",
    "plt.show()"
   ]
  },
  {
   "cell_type": "code",
   "execution_count": 60,
   "id": "f6cff68e",
   "metadata": {},
   "outputs": [
    {
     "data": {
      "text/html": [
       "<div>\n",
       "<style scoped>\n",
       "    .dataframe tbody tr th:only-of-type {\n",
       "        vertical-align: middle;\n",
       "    }\n",
       "\n",
       "    .dataframe tbody tr th {\n",
       "        vertical-align: top;\n",
       "    }\n",
       "\n",
       "    .dataframe thead th {\n",
       "        text-align: right;\n",
       "    }\n",
       "</style>\n",
       "<table border=\"1\" class=\"dataframe\">\n",
       "  <thead>\n",
       "    <tr style=\"text-align: right;\">\n",
       "      <th></th>\n",
       "      <th>count</th>\n",
       "      <th>mean</th>\n",
       "      <th>std</th>\n",
       "      <th>min</th>\n",
       "      <th>25%</th>\n",
       "      <th>50%</th>\n",
       "      <th>75%</th>\n",
       "      <th>max</th>\n",
       "    </tr>\n",
       "    <tr>\n",
       "      <th>Frequencycluster</th>\n",
       "      <th></th>\n",
       "      <th></th>\n",
       "      <th></th>\n",
       "      <th></th>\n",
       "      <th></th>\n",
       "      <th></th>\n",
       "      <th></th>\n",
       "      <th></th>\n",
       "    </tr>\n",
       "  </thead>\n",
       "  <tbody>\n",
       "    <tr>\n",
       "      <th>0</th>\n",
       "      <td>22958.0</td>\n",
       "      <td>4.650928</td>\n",
       "      <td>3.529763</td>\n",
       "      <td>1.0</td>\n",
       "      <td>2.0</td>\n",
       "      <td>4.0</td>\n",
       "      <td>7.0</td>\n",
       "      <td>13.0</td>\n",
       "    </tr>\n",
       "    <tr>\n",
       "      <th>1</th>\n",
       "      <td>6899.0</td>\n",
       "      <td>22.946224</td>\n",
       "      <td>7.097374</td>\n",
       "      <td>14.0</td>\n",
       "      <td>17.0</td>\n",
       "      <td>21.0</td>\n",
       "      <td>28.0</td>\n",
       "      <td>39.0</td>\n",
       "    </tr>\n",
       "    <tr>\n",
       "      <th>2</th>\n",
       "      <td>2160.0</td>\n",
       "      <td>56.356481</td>\n",
       "      <td>12.943271</td>\n",
       "      <td>40.0</td>\n",
       "      <td>45.0</td>\n",
       "      <td>53.0</td>\n",
       "      <td>65.0</td>\n",
       "      <td>88.0</td>\n",
       "    </tr>\n",
       "    <tr>\n",
       "      <th>3</th>\n",
       "      <td>468.0</td>\n",
       "      <td>120.933761</td>\n",
       "      <td>31.863969</td>\n",
       "      <td>89.0</td>\n",
       "      <td>98.0</td>\n",
       "      <td>111.0</td>\n",
       "      <td>133.0</td>\n",
       "      <td>287.0</td>\n",
       "    </tr>\n",
       "  </tbody>\n",
       "</table>\n",
       "</div>"
      ],
      "text/plain": [
       "                    count        mean        std   min   25%    50%    75%  \\\n",
       "Frequencycluster                                                             \n",
       "0                 22958.0    4.650928   3.529763   1.0   2.0    4.0    7.0   \n",
       "1                  6899.0   22.946224   7.097374  14.0  17.0   21.0   28.0   \n",
       "2                  2160.0   56.356481  12.943271  40.0  45.0   53.0   65.0   \n",
       "3                   468.0  120.933761  31.863969  89.0  98.0  111.0  133.0   \n",
       "\n",
       "                    max  \n",
       "Frequencycluster         \n",
       "0                  13.0  \n",
       "1                  39.0  \n",
       "2                  88.0  \n",
       "3                 287.0  "
      ]
     },
     "execution_count": 60,
     "metadata": {},
     "output_type": "execute_result"
    }
   ],
   "source": [
    "# 위 그래프를 통해서 elbow point는 4인 지점으로 설정\n",
    "kmeans = KMeans(n_clusters = 4)\n",
    "kmeans.fit(b_rfm[['Frequency']])\n",
    "b_rfm['Frequencycluster'] = kmeans.predict(b_rfm[['Frequency']])\n",
    "\n",
    "b_rfm = order_cluster('Frequencycluster', 'Frequency', b_rfm, True)\n",
    "b_rfm.groupby('Frequencycluster')['Frequency'].describe()"
   ]
  },
  {
   "cell_type": "code",
   "execution_count": 61,
   "id": "3ec1d994",
   "metadata": {},
   "outputs": [
    {
     "data": {
      "text/plain": [
       "count    3.248500e+04\n",
       "mean     2.789659e+05\n",
       "std      4.428213e+05\n",
       "min      1.000000e+03\n",
       "25%      4.100000e+04\n",
       "50%      1.210000e+05\n",
       "75%      3.280000e+05\n",
       "max      1.557000e+07\n",
       "Name: Monetary, dtype: float64"
      ]
     },
     "execution_count": 61,
     "metadata": {},
     "output_type": "execute_result"
    }
   ],
   "source": [
    "# Monetary 도출을 위한 데이터 추출\n",
    "b_rfm.Monetary.describe()"
   ]
  },
  {
   "cell_type": "code",
   "execution_count": 62,
   "id": "0549b9a3",
   "metadata": {},
   "outputs": [
    {
     "name": "stderr",
     "output_type": "stream",
     "text": [
      "/Users/jjeori/opt/anaconda3/lib/python3.9/site-packages/seaborn/distributions.py:2619: FutureWarning: `distplot` is a deprecated function and will be removed in a future version. Please adapt your code to use either `displot` (a figure-level function with similar flexibility) or `kdeplot` (an axes-level function for kernel density plots).\n",
      "  warnings.warn(msg, FutureWarning)\n"
     ]
    },
    {
     "data": {
      "image/png": "[encoded data removed]",
      "text/plain": [
       "<Figure size 864x432 with 1 Axes>"
      ]
     },
     "metadata": {},
     "output_type": "display_data"
    }
   ],
   "source": [
    "# 구매 빈도의 흐름 시각화\n",
    "sns.set(palette = 'muted', color_codes = True, style = 'white')\n",
    "fig, ax = plt.subplots(figsize = (12, 6))\n",
    "sns.despine(left = True)\n",
    "sns.distplot(b_rfm['Monetary'], hist = False)\n",
    "plt.show()"
   ]
  },
  {
   "cell_type": "code",
   "execution_count": 63,
   "id": "5bec0e08",
   "metadata": {},
   "outputs": [
    {
     "name": "stderr",
     "output_type": "stream",
     "text": [
      "/var/folders/c1/3m4yfnr1033cv80bgnw17ly00000gn/T/ipykernel_24268/4091499729.py:9: SettingWithCopyWarning: \n",
      "A value is trying to be set on a copy of a slice from a DataFrame.\n",
      "Try using .loc[row_indexer,col_indexer] = value instead\n",
      "\n",
      "See the caveats in the documentation: https://pandas.pydata.org/pandas-docs/stable/user_guide/indexing.html#returning-a-view-versus-a-copy\n",
      "  df_monetary['cluster'] = kmeans.labels_\n",
      "/var/folders/c1/3m4yfnr1033cv80bgnw17ly00000gn/T/ipykernel_24268/4091499729.py:9: SettingWithCopyWarning: \n",
      "A value is trying to be set on a copy of a slice from a DataFrame.\n",
      "Try using .loc[row_indexer,col_indexer] = value instead\n",
      "\n",
      "See the caveats in the documentation: https://pandas.pydata.org/pandas-docs/stable/user_guide/indexing.html#returning-a-view-versus-a-copy\n",
      "  df_monetary['cluster'] = kmeans.labels_\n",
      "/var/folders/c1/3m4yfnr1033cv80bgnw17ly00000gn/T/ipykernel_24268/4091499729.py:9: SettingWithCopyWarning: \n",
      "A value is trying to be set on a copy of a slice from a DataFrame.\n",
      "Try using .loc[row_indexer,col_indexer] = value instead\n",
      "\n",
      "See the caveats in the documentation: https://pandas.pydata.org/pandas-docs/stable/user_guide/indexing.html#returning-a-view-versus-a-copy\n",
      "  df_monetary['cluster'] = kmeans.labels_\n",
      "/var/folders/c1/3m4yfnr1033cv80bgnw17ly00000gn/T/ipykernel_24268/4091499729.py:9: SettingWithCopyWarning: \n",
      "A value is trying to be set on a copy of a slice from a DataFrame.\n",
      "Try using .loc[row_indexer,col_indexer] = value instead\n",
      "\n",
      "See the caveats in the documentation: https://pandas.pydata.org/pandas-docs/stable/user_guide/indexing.html#returning-a-view-versus-a-copy\n",
      "  df_monetary['cluster'] = kmeans.labels_\n",
      "/var/folders/c1/3m4yfnr1033cv80bgnw17ly00000gn/T/ipykernel_24268/4091499729.py:9: SettingWithCopyWarning: \n",
      "A value is trying to be set on a copy of a slice from a DataFrame.\n",
      "Try using .loc[row_indexer,col_indexer] = value instead\n",
      "\n",
      "See the caveats in the documentation: https://pandas.pydata.org/pandas-docs/stable/user_guide/indexing.html#returning-a-view-versus-a-copy\n",
      "  df_monetary['cluster'] = kmeans.labels_\n",
      "/var/folders/c1/3m4yfnr1033cv80bgnw17ly00000gn/T/ipykernel_24268/4091499729.py:9: SettingWithCopyWarning: \n",
      "A value is trying to be set on a copy of a slice from a DataFrame.\n",
      "Try using .loc[row_indexer,col_indexer] = value instead\n",
      "\n",
      "See the caveats in the documentation: https://pandas.pydata.org/pandas-docs/stable/user_guide/indexing.html#returning-a-view-versus-a-copy\n",
      "  df_monetary['cluster'] = kmeans.labels_\n",
      "/var/folders/c1/3m4yfnr1033cv80bgnw17ly00000gn/T/ipykernel_24268/4091499729.py:9: SettingWithCopyWarning: \n",
      "A value is trying to be set on a copy of a slice from a DataFrame.\n",
      "Try using .loc[row_indexer,col_indexer] = value instead\n",
      "\n",
      "See the caveats in the documentation: https://pandas.pydata.org/pandas-docs/stable/user_guide/indexing.html#returning-a-view-versus-a-copy\n",
      "  df_monetary['cluster'] = kmeans.labels_\n",
      "/var/folders/c1/3m4yfnr1033cv80bgnw17ly00000gn/T/ipykernel_24268/4091499729.py:9: SettingWithCopyWarning: \n",
      "A value is trying to be set on a copy of a slice from a DataFrame.\n",
      "Try using .loc[row_indexer,col_indexer] = value instead\n",
      "\n",
      "See the caveats in the documentation: https://pandas.pydata.org/pandas-docs/stable/user_guide/indexing.html#returning-a-view-versus-a-copy\n",
      "  df_monetary['cluster'] = kmeans.labels_\n",
      "/var/folders/c1/3m4yfnr1033cv80bgnw17ly00000gn/T/ipykernel_24268/4091499729.py:9: SettingWithCopyWarning: \n",
      "A value is trying to be set on a copy of a slice from a DataFrame.\n",
      "Try using .loc[row_indexer,col_indexer] = value instead\n",
      "\n",
      "See the caveats in the documentation: https://pandas.pydata.org/pandas-docs/stable/user_guide/indexing.html#returning-a-view-versus-a-copy\n",
      "  df_monetary['cluster'] = kmeans.labels_\n"
     ]
    },
    {
     "data": {
      "image/png": "[encoded data removed]",
      "text/plain": [
       "<Figure size 720x360 with 1 Axes>"
      ]
     },
     "metadata": {},
     "output_type": "display_data"
    }
   ],
   "source": [
    "# kmeans 계산하기 위한 elbow point구하기\n",
    "from sklearn.cluster import KMeans\n",
    "\n",
    "point = {}\n",
    "df_monetary = b_rfm[['Monetary']]\n",
    "\n",
    "for k in range(1, 10):\n",
    "    kmeans = KMeans(n_clusters = k, max_iter = 100).fit(df_monetary)\n",
    "    df_monetary['cluster'] = kmeans.labels_\n",
    "    point[k] = kmeans.inertia_\n",
    "\n",
    "plt.figure(figsize = (10, 5))\n",
    "plt.plot(list(point.keys()), list(point.values()))\n",
    "plt.xlabel(\"Number of cluster\")\n",
    "plt.show()"
   ]
  },
  {
   "cell_type": "code",
   "execution_count": 64,
   "id": "3d8663be",
   "metadata": {},
   "outputs": [
    {
     "data": {
      "text/html": [
       "<div>\n",
       "<style scoped>\n",
       "    .dataframe tbody tr th:only-of-type {\n",
       "        vertical-align: middle;\n",
       "    }\n",
       "\n",
       "    .dataframe tbody tr th {\n",
       "        vertical-align: top;\n",
       "    }\n",
       "\n",
       "    .dataframe thead th {\n",
       "        text-align: right;\n",
       "    }\n",
       "</style>\n",
       "<table border=\"1\" class=\"dataframe\">\n",
       "  <thead>\n",
       "    <tr style=\"text-align: right;\">\n",
       "      <th></th>\n",
       "      <th>count</th>\n",
       "      <th>mean</th>\n",
       "      <th>std</th>\n",
       "      <th>min</th>\n",
       "      <th>25%</th>\n",
       "      <th>50%</th>\n",
       "      <th>75%</th>\n",
       "      <th>max</th>\n",
       "    </tr>\n",
       "    <tr>\n",
       "      <th>Monetarycluster</th>\n",
       "      <th></th>\n",
       "      <th></th>\n",
       "      <th></th>\n",
       "      <th></th>\n",
       "      <th></th>\n",
       "      <th></th>\n",
       "      <th></th>\n",
       "      <th></th>\n",
       "    </tr>\n",
       "  </thead>\n",
       "  <tbody>\n",
       "    <tr>\n",
       "      <th>0</th>\n",
       "      <td>24149.0</td>\n",
       "      <td>9.841364e+04</td>\n",
       "      <td>8.388597e+04</td>\n",
       "      <td>1000.0</td>\n",
       "      <td>30000.0</td>\n",
       "      <td>72000.0</td>\n",
       "      <td>151000.0</td>\n",
       "      <td>317000.0</td>\n",
       "    </tr>\n",
       "    <tr>\n",
       "      <th>1</th>\n",
       "      <td>6186.0</td>\n",
       "      <td>5.363873e+05</td>\n",
       "      <td>1.654008e+05</td>\n",
       "      <td>318000.0</td>\n",
       "      <td>394000.0</td>\n",
       "      <td>500000.0</td>\n",
       "      <td>654000.0</td>\n",
       "      <td>927000.0</td>\n",
       "    </tr>\n",
       "    <tr>\n",
       "      <th>2</th>\n",
       "      <td>1801.0</td>\n",
       "      <td>1.316483e+06</td>\n",
       "      <td>3.032577e+05</td>\n",
       "      <td>928000.0</td>\n",
       "      <td>1063000.0</td>\n",
       "      <td>1246000.0</td>\n",
       "      <td>1518000.0</td>\n",
       "      <td>2087000.0</td>\n",
       "    </tr>\n",
       "    <tr>\n",
       "      <th>3</th>\n",
       "      <td>349.0</td>\n",
       "      <td>2.855413e+06</td>\n",
       "      <td>1.088898e+06</td>\n",
       "      <td>2089000.0</td>\n",
       "      <td>2281000.0</td>\n",
       "      <td>2515000.0</td>\n",
       "      <td>3097000.0</td>\n",
       "      <td>15570000.0</td>\n",
       "    </tr>\n",
       "  </tbody>\n",
       "</table>\n",
       "</div>"
      ],
      "text/plain": [
       "                   count          mean           std        min        25%  \\\n",
       "Monetarycluster                                                              \n",
       "0                24149.0  9.841364e+04  8.388597e+04     1000.0    30000.0   \n",
       "1                 6186.0  5.363873e+05  1.654008e+05   318000.0   394000.0   \n",
       "2                 1801.0  1.316483e+06  3.032577e+05   928000.0  1063000.0   \n",
       "3                  349.0  2.855413e+06  1.088898e+06  2089000.0  2281000.0   \n",
       "\n",
       "                       50%        75%         max  \n",
       "Monetarycluster                                    \n",
       "0                  72000.0   151000.0    317000.0  \n",
       "1                 500000.0   654000.0    927000.0  \n",
       "2                1246000.0  1518000.0   2087000.0  \n",
       "3                2515000.0  3097000.0  15570000.0  "
      ]
     },
     "execution_count": 64,
     "metadata": {},
     "output_type": "execute_result"
    }
   ],
   "source": [
    "# 위 그래프를 통해서 elbow point는 4인 지점으로 설정\n",
    "kmeans = KMeans(n_clusters = 4)\n",
    "kmeans.fit(b_rfm[['Monetary']])\n",
    "b_rfm['Monetarycluster'] = kmeans.predict(b_rfm[['Monetary']])\n",
    "\n",
    "b_rfm = order_cluster('Monetarycluster', 'Monetary', b_rfm, True)\n",
    "b_rfm.groupby('Monetarycluster')['Monetary'].describe()"
   ]
  },
  {
   "cell_type": "code",
   "execution_count": 88,
   "id": "8a59aa01",
   "metadata": {},
   "outputs": [],
   "source": [
    "b_rfm.drop(['Unnamed: 0'], axis = 1, inplace = True)"
   ]
  },
  {
   "cell_type": "code",
   "execution_count": 89,
   "id": "e5363dcd",
   "metadata": {},
   "outputs": [],
   "source": [
    "b_rfm.to_csv(\"Desktop/bigmart_rfm.csv\")"
   ]
  },
  {
   "cell_type": "markdown",
   "id": "444bc232",
   "metadata": {},
   "source": [
    "### 슈퍼마켓 RFM 점수 산정"
   ]
  },
  {
   "cell_type": "code",
   "execution_count": 68,
   "id": "bdacc555",
   "metadata": {},
   "outputs": [
    {
     "data": {
      "text/plain": [
       "count    32248.000000\n",
       "mean       125.588936\n",
       "std        117.989379\n",
       "min          1.000000\n",
       "25%         17.000000\n",
       "50%         83.000000\n",
       "75%        231.000000\n",
       "max        365.000000\n",
       "Name: Recency, dtype: float64"
      ]
     },
     "execution_count": 68,
     "metadata": {},
     "output_type": "execute_result"
    }
   ],
   "source": [
    "# 편의점 최근 구매 날짜\n",
    "# 평균적으로 고객 한 명당 최근에 구매한 날짜는 125일 전\n",
    "s_rfm.Recency.describe()"
   ]
  },
  {
   "cell_type": "code",
   "execution_count": 69,
   "id": "92137200",
   "metadata": {},
   "outputs": [
    {
     "name": "stderr",
     "output_type": "stream",
     "text": [
      "/Users/jjeori/opt/anaconda3/lib/python3.9/site-packages/seaborn/distributions.py:2619: FutureWarning: `distplot` is a deprecated function and will be removed in a future version. Please adapt your code to use either `displot` (a figure-level function with similar flexibility) or `histplot` (an axes-level function for histograms).\n",
      "  warnings.warn(msg, FutureWarning)\n"
     ]
    },
    {
     "data": {
      "image/png": "[encoded data removed]",
      "text/plain": [
       "<Figure size 864x432 with 1 Axes>"
      ]
     },
     "metadata": {},
     "output_type": "display_data"
    }
   ],
   "source": [
    "# 시간 차이의 흐름 시각화\n",
    "sns.set(palette = 'muted', color_codes = True, style = 'white')\n",
    "fig, ax = plt.subplots(figsize = (12, 6))\n",
    "sns.despine(left = True)\n",
    "sns.distplot(s_rfm['Recency'], bins = 30)\n",
    "plt.show()\n",
    "\n",
    "# 최근 결제 수가 많다는 걸 알 수 있다."
   ]
  },
  {
   "cell_type": "code",
   "execution_count": 70,
   "id": "97a45b63",
   "metadata": {},
   "outputs": [
    {
     "name": "stderr",
     "output_type": "stream",
     "text": [
      "/var/folders/c1/3m4yfnr1033cv80bgnw17ly00000gn/T/ipykernel_24268/178582060.py:9: SettingWithCopyWarning: \n",
      "A value is trying to be set on a copy of a slice from a DataFrame.\n",
      "Try using .loc[row_indexer,col_indexer] = value instead\n",
      "\n",
      "See the caveats in the documentation: https://pandas.pydata.org/pandas-docs/stable/user_guide/indexing.html#returning-a-view-versus-a-copy\n",
      "  df_recency['cluster'] = kmeans.labels_\n",
      "/var/folders/c1/3m4yfnr1033cv80bgnw17ly00000gn/T/ipykernel_24268/178582060.py:9: SettingWithCopyWarning: \n",
      "A value is trying to be set on a copy of a slice from a DataFrame.\n",
      "Try using .loc[row_indexer,col_indexer] = value instead\n",
      "\n",
      "See the caveats in the documentation: https://pandas.pydata.org/pandas-docs/stable/user_guide/indexing.html#returning-a-view-versus-a-copy\n",
      "  df_recency['cluster'] = kmeans.labels_\n",
      "/var/folders/c1/3m4yfnr1033cv80bgnw17ly00000gn/T/ipykernel_24268/178582060.py:9: SettingWithCopyWarning: \n",
      "A value is trying to be set on a copy of a slice from a DataFrame.\n",
      "Try using .loc[row_indexer,col_indexer] = value instead\n",
      "\n",
      "See the caveats in the documentation: https://pandas.pydata.org/pandas-docs/stable/user_guide/indexing.html#returning-a-view-versus-a-copy\n",
      "  df_recency['cluster'] = kmeans.labels_\n",
      "/var/folders/c1/3m4yfnr1033cv80bgnw17ly00000gn/T/ipykernel_24268/178582060.py:9: SettingWithCopyWarning: \n",
      "A value is trying to be set on a copy of a slice from a DataFrame.\n",
      "Try using .loc[row_indexer,col_indexer] = value instead\n",
      "\n",
      "See the caveats in the documentation: https://pandas.pydata.org/pandas-docs/stable/user_guide/indexing.html#returning-a-view-versus-a-copy\n",
      "  df_recency['cluster'] = kmeans.labels_\n",
      "/var/folders/c1/3m4yfnr1033cv80bgnw17ly00000gn/T/ipykernel_24268/178582060.py:9: SettingWithCopyWarning: \n",
      "A value is trying to be set on a copy of a slice from a DataFrame.\n",
      "Try using .loc[row_indexer,col_indexer] = value instead\n",
      "\n",
      "See the caveats in the documentation: https://pandas.pydata.org/pandas-docs/stable/user_guide/indexing.html#returning-a-view-versus-a-copy\n",
      "  df_recency['cluster'] = kmeans.labels_\n",
      "/var/folders/c1/3m4yfnr1033cv80bgnw17ly00000gn/T/ipykernel_24268/178582060.py:9: SettingWithCopyWarning: \n",
      "A value is trying to be set on a copy of a slice from a DataFrame.\n",
      "Try using .loc[row_indexer,col_indexer] = value instead\n",
      "\n",
      "See the caveats in the documentation: https://pandas.pydata.org/pandas-docs/stable/user_guide/indexing.html#returning-a-view-versus-a-copy\n",
      "  df_recency['cluster'] = kmeans.labels_\n",
      "/var/folders/c1/3m4yfnr1033cv80bgnw17ly00000gn/T/ipykernel_24268/178582060.py:9: SettingWithCopyWarning: \n",
      "A value is trying to be set on a copy of a slice from a DataFrame.\n",
      "Try using .loc[row_indexer,col_indexer] = value instead\n",
      "\n",
      "See the caveats in the documentation: https://pandas.pydata.org/pandas-docs/stable/user_guide/indexing.html#returning-a-view-versus-a-copy\n",
      "  df_recency['cluster'] = kmeans.labels_\n",
      "/var/folders/c1/3m4yfnr1033cv80bgnw17ly00000gn/T/ipykernel_24268/178582060.py:9: SettingWithCopyWarning: \n",
      "A value is trying to be set on a copy of a slice from a DataFrame.\n",
      "Try using .loc[row_indexer,col_indexer] = value instead\n",
      "\n",
      "See the caveats in the documentation: https://pandas.pydata.org/pandas-docs/stable/user_guide/indexing.html#returning-a-view-versus-a-copy\n",
      "  df_recency['cluster'] = kmeans.labels_\n",
      "/var/folders/c1/3m4yfnr1033cv80bgnw17ly00000gn/T/ipykernel_24268/178582060.py:9: SettingWithCopyWarning: \n",
      "A value is trying to be set on a copy of a slice from a DataFrame.\n",
      "Try using .loc[row_indexer,col_indexer] = value instead\n",
      "\n",
      "See the caveats in the documentation: https://pandas.pydata.org/pandas-docs/stable/user_guide/indexing.html#returning-a-view-versus-a-copy\n",
      "  df_recency['cluster'] = kmeans.labels_\n"
     ]
    },
    {
     "data": {
      "image/png": "[encoded data removed]",
      "text/plain": [
       "<Figure size 432x288 with 1 Axes>"
      ]
     },
     "metadata": {},
     "output_type": "display_data"
    }
   ],
   "source": [
    "# kmeans 계산하기 위한 elbow point구하기\n",
    "from sklearn.cluster import KMeans\n",
    "\n",
    "point = {}\n",
    "df_recency = s_rfm[['Recency']]\n",
    "\n",
    "for k in range(1, 10):\n",
    "    kmeans = KMeans(n_clusters = k, max_iter = 100).fit(df_recency)\n",
    "    df_recency['cluster'] = kmeans.labels_\n",
    "    point[k] = kmeans.inertia_\n",
    "\n",
    "plt.plot(list(point.keys()), list(point.values()))\n",
    "plt.show()"
   ]
  },
  {
   "cell_type": "code",
   "execution_count": 71,
   "id": "e5d7f32b",
   "metadata": {},
   "outputs": [
    {
     "data": {
      "text/html": [
       "<div>\n",
       "<style scoped>\n",
       "    .dataframe tbody tr th:only-of-type {\n",
       "        vertical-align: middle;\n",
       "    }\n",
       "\n",
       "    .dataframe tbody tr th {\n",
       "        vertical-align: top;\n",
       "    }\n",
       "\n",
       "    .dataframe thead th {\n",
       "        text-align: right;\n",
       "    }\n",
       "</style>\n",
       "<table border=\"1\" class=\"dataframe\">\n",
       "  <thead>\n",
       "    <tr style=\"text-align: right;\">\n",
       "      <th></th>\n",
       "      <th>count</th>\n",
       "      <th>mean</th>\n",
       "      <th>std</th>\n",
       "      <th>min</th>\n",
       "      <th>25%</th>\n",
       "      <th>50%</th>\n",
       "      <th>75%</th>\n",
       "      <th>max</th>\n",
       "    </tr>\n",
       "    <tr>\n",
       "      <th>Recencycluster</th>\n",
       "      <th></th>\n",
       "      <th></th>\n",
       "      <th></th>\n",
       "      <th></th>\n",
       "      <th></th>\n",
       "      <th></th>\n",
       "      <th></th>\n",
       "      <th></th>\n",
       "    </tr>\n",
       "  </thead>\n",
       "  <tbody>\n",
       "    <tr>\n",
       "      <th>0</th>\n",
       "      <td>6065.0</td>\n",
       "      <td>315.934707</td>\n",
       "      <td>27.957463</td>\n",
       "      <td>267.0</td>\n",
       "      <td>293.0</td>\n",
       "      <td>315.0</td>\n",
       "      <td>340.0</td>\n",
       "      <td>365.0</td>\n",
       "    </tr>\n",
       "    <tr>\n",
       "      <th>1</th>\n",
       "      <td>5265.0</td>\n",
       "      <td>217.666287</td>\n",
       "      <td>29.539618</td>\n",
       "      <td>166.0</td>\n",
       "      <td>191.0</td>\n",
       "      <td>219.0</td>\n",
       "      <td>244.0</td>\n",
       "      <td>266.0</td>\n",
       "    </tr>\n",
       "    <tr>\n",
       "      <th>2</th>\n",
       "      <td>5881.0</td>\n",
       "      <td>114.204047</td>\n",
       "      <td>28.994009</td>\n",
       "      <td>68.0</td>\n",
       "      <td>89.0</td>\n",
       "      <td>113.0</td>\n",
       "      <td>140.0</td>\n",
       "      <td>165.0</td>\n",
       "    </tr>\n",
       "    <tr>\n",
       "      <th>3</th>\n",
       "      <td>15037.0</td>\n",
       "      <td>21.028197</td>\n",
       "      <td>18.430095</td>\n",
       "      <td>1.0</td>\n",
       "      <td>6.0</td>\n",
       "      <td>15.0</td>\n",
       "      <td>33.0</td>\n",
       "      <td>67.0</td>\n",
       "    </tr>\n",
       "  </tbody>\n",
       "</table>\n",
       "</div>"
      ],
      "text/plain": [
       "                  count        mean        std    min    25%    50%    75%  \\\n",
       "Recencycluster                                                               \n",
       "0                6065.0  315.934707  27.957463  267.0  293.0  315.0  340.0   \n",
       "1                5265.0  217.666287  29.539618  166.0  191.0  219.0  244.0   \n",
       "2                5881.0  114.204047  28.994009   68.0   89.0  113.0  140.0   \n",
       "3               15037.0   21.028197  18.430095    1.0    6.0   15.0   33.0   \n",
       "\n",
       "                  max  \n",
       "Recencycluster         \n",
       "0               365.0  \n",
       "1               266.0  \n",
       "2               165.0  \n",
       "3                67.0  "
      ]
     },
     "execution_count": 71,
     "metadata": {},
     "output_type": "execute_result"
    }
   ],
   "source": [
    "# 위 그래프를 통해서 elbow point는 4인 지점으로 설정\n",
    "kmeans = KMeans(n_clusters = 4)\n",
    "kmeans.fit(s_rfm[['Recency']])\n",
    "s_rfm['Recencycluster'] = kmeans.predict(s_rfm[['Recency']])\n",
    "\n",
    "\n",
    "s_rfm = order_cluster('Recencycluster', 'Recency', s_rfm, False)\n",
    "s_rfm.groupby('Recencycluster')['Recency'].describe()"
   ]
  },
  {
   "cell_type": "code",
   "execution_count": 72,
   "id": "cb0ab94b",
   "metadata": {},
   "outputs": [
    {
     "data": {
      "text/plain": [
       "count    32248.000000\n",
       "mean        13.989085\n",
       "std         22.235061\n",
       "min          1.000000\n",
       "25%          2.000000\n",
       "50%          6.000000\n",
       "75%         16.000000\n",
       "max        320.000000\n",
       "Name: Frequency, dtype: float64"
      ]
     },
     "execution_count": 72,
     "metadata": {},
     "output_type": "execute_result"
    }
   ],
   "source": [
    "# Frequency 도출을 위한 데이터 추출\n",
    "s_rfm.Frequency.describe()"
   ]
  },
  {
   "cell_type": "code",
   "execution_count": 83,
   "id": "dbc54929",
   "metadata": {},
   "outputs": [
    {
     "name": "stderr",
     "output_type": "stream",
     "text": [
      "/Users/jjeori/opt/anaconda3/lib/python3.9/site-packages/seaborn/distributions.py:2619: FutureWarning: `distplot` is a deprecated function and will be removed in a future version. Please adapt your code to use either `displot` (a figure-level function with similar flexibility) or `histplot` (an axes-level function for histograms).\n",
      "  warnings.warn(msg, FutureWarning)\n"
     ]
    },
    {
     "data": {
      "image/png": "[encoded data removed]",
      "text/plain": [
       "<Figure size 864x432 with 1 Axes>"
      ]
     },
     "metadata": {},
     "output_type": "display_data"
    }
   ],
   "source": [
    "# 구매 빈도의 흐름 시각화\n",
    "sns.set(palette = 'muted', color_codes = True, style = 'whitegrid')\n",
    "fig, ax = plt.subplots(figsize = (12, 6))\n",
    "sns.despine(left = True)\n",
    "sns.distplot(s_rfm['Frequency'], bins = 30)\n",
    "plt.show()"
   ]
  },
  {
   "cell_type": "code",
   "execution_count": 74,
   "id": "f861293e",
   "metadata": {},
   "outputs": [
    {
     "name": "stderr",
     "output_type": "stream",
     "text": [
      "/var/folders/c1/3m4yfnr1033cv80bgnw17ly00000gn/T/ipykernel_24268/2259815604.py:9: SettingWithCopyWarning: \n",
      "A value is trying to be set on a copy of a slice from a DataFrame.\n",
      "Try using .loc[row_indexer,col_indexer] = value instead\n",
      "\n",
      "See the caveats in the documentation: https://pandas.pydata.org/pandas-docs/stable/user_guide/indexing.html#returning-a-view-versus-a-copy\n",
      "  df_frequency['cluster'] = kmeans.labels_\n",
      "/var/folders/c1/3m4yfnr1033cv80bgnw17ly00000gn/T/ipykernel_24268/2259815604.py:9: SettingWithCopyWarning: \n",
      "A value is trying to be set on a copy of a slice from a DataFrame.\n",
      "Try using .loc[row_indexer,col_indexer] = value instead\n",
      "\n",
      "See the caveats in the documentation: https://pandas.pydata.org/pandas-docs/stable/user_guide/indexing.html#returning-a-view-versus-a-copy\n",
      "  df_frequency['cluster'] = kmeans.labels_\n",
      "/var/folders/c1/3m4yfnr1033cv80bgnw17ly00000gn/T/ipykernel_24268/2259815604.py:9: SettingWithCopyWarning: \n",
      "A value is trying to be set on a copy of a slice from a DataFrame.\n",
      "Try using .loc[row_indexer,col_indexer] = value instead\n",
      "\n",
      "See the caveats in the documentation: https://pandas.pydata.org/pandas-docs/stable/user_guide/indexing.html#returning-a-view-versus-a-copy\n",
      "  df_frequency['cluster'] = kmeans.labels_\n",
      "/var/folders/c1/3m4yfnr1033cv80bgnw17ly00000gn/T/ipykernel_24268/2259815604.py:9: SettingWithCopyWarning: \n",
      "A value is trying to be set on a copy of a slice from a DataFrame.\n",
      "Try using .loc[row_indexer,col_indexer] = value instead\n",
      "\n",
      "See the caveats in the documentation: https://pandas.pydata.org/pandas-docs/stable/user_guide/indexing.html#returning-a-view-versus-a-copy\n",
      "  df_frequency['cluster'] = kmeans.labels_\n",
      "/var/folders/c1/3m4yfnr1033cv80bgnw17ly00000gn/T/ipykernel_24268/2259815604.py:9: SettingWithCopyWarning: \n",
      "A value is trying to be set on a copy of a slice from a DataFrame.\n",
      "Try using .loc[row_indexer,col_indexer] = value instead\n",
      "\n",
      "See the caveats in the documentation: https://pandas.pydata.org/pandas-docs/stable/user_guide/indexing.html#returning-a-view-versus-a-copy\n",
      "  df_frequency['cluster'] = kmeans.labels_\n",
      "/var/folders/c1/3m4yfnr1033cv80bgnw17ly00000gn/T/ipykernel_24268/2259815604.py:9: SettingWithCopyWarning: \n",
      "A value is trying to be set on a copy of a slice from a DataFrame.\n",
      "Try using .loc[row_indexer,col_indexer] = value instead\n",
      "\n",
      "See the caveats in the documentation: https://pandas.pydata.org/pandas-docs/stable/user_guide/indexing.html#returning-a-view-versus-a-copy\n",
      "  df_frequency['cluster'] = kmeans.labels_\n",
      "/var/folders/c1/3m4yfnr1033cv80bgnw17ly00000gn/T/ipykernel_24268/2259815604.py:9: SettingWithCopyWarning: \n",
      "A value is trying to be set on a copy of a slice from a DataFrame.\n",
      "Try using .loc[row_indexer,col_indexer] = value instead\n",
      "\n",
      "See the caveats in the documentation: https://pandas.pydata.org/pandas-docs/stable/user_guide/indexing.html#returning-a-view-versus-a-copy\n",
      "  df_frequency['cluster'] = kmeans.labels_\n",
      "/var/folders/c1/3m4yfnr1033cv80bgnw17ly00000gn/T/ipykernel_24268/2259815604.py:9: SettingWithCopyWarning: \n",
      "A value is trying to be set on a copy of a slice from a DataFrame.\n",
      "Try using .loc[row_indexer,col_indexer] = value instead\n",
      "\n",
      "See the caveats in the documentation: https://pandas.pydata.org/pandas-docs/stable/user_guide/indexing.html#returning-a-view-versus-a-copy\n",
      "  df_frequency['cluster'] = kmeans.labels_\n",
      "/var/folders/c1/3m4yfnr1033cv80bgnw17ly00000gn/T/ipykernel_24268/2259815604.py:9: SettingWithCopyWarning: \n",
      "A value is trying to be set on a copy of a slice from a DataFrame.\n",
      "Try using .loc[row_indexer,col_indexer] = value instead\n",
      "\n",
      "See the caveats in the documentation: https://pandas.pydata.org/pandas-docs/stable/user_guide/indexing.html#returning-a-view-versus-a-copy\n",
      "  df_frequency['cluster'] = kmeans.labels_\n"
     ]
    },
    {
     "data": {
      "image/png": "[encoded data removed]",
      "text/plain": [
       "<Figure size 720x360 with 1 Axes>"
      ]
     },
     "metadata": {},
     "output_type": "display_data"
    }
   ],
   "source": [
    "# kmeans 계산하기 위한 elbow point구하기\n",
    "from sklearn.cluster import KMeans\n",
    "\n",
    "point = {}\n",
    "df_frequency = s_rfm[['Frequency']]\n",
    "\n",
    "for k in range(1, 10):\n",
    "    kmeans = KMeans(n_clusters = k, max_iter = 100).fit(df_frequency)\n",
    "    df_frequency['cluster'] = kmeans.labels_\n",
    "    point[k] = kmeans.inertia_\n",
    "\n",
    "plt.figure(figsize = (10, 5))\n",
    "plt.plot(list(point.keys()), list(point.values()))\n",
    "plt.xlabel(\"Number of cluster\")\n",
    "plt.show()"
   ]
  },
  {
   "cell_type": "code",
   "execution_count": 75,
   "id": "e158c27d",
   "metadata": {},
   "outputs": [
    {
     "data": {
      "text/html": [
       "<div>\n",
       "<style scoped>\n",
       "    .dataframe tbody tr th:only-of-type {\n",
       "        vertical-align: middle;\n",
       "    }\n",
       "\n",
       "    .dataframe tbody tr th {\n",
       "        vertical-align: top;\n",
       "    }\n",
       "\n",
       "    .dataframe thead th {\n",
       "        text-align: right;\n",
       "    }\n",
       "</style>\n",
       "<table border=\"1\" class=\"dataframe\">\n",
       "  <thead>\n",
       "    <tr style=\"text-align: right;\">\n",
       "      <th></th>\n",
       "      <th>count</th>\n",
       "      <th>mean</th>\n",
       "      <th>std</th>\n",
       "      <th>min</th>\n",
       "      <th>25%</th>\n",
       "      <th>50%</th>\n",
       "      <th>75%</th>\n",
       "      <th>max</th>\n",
       "    </tr>\n",
       "    <tr>\n",
       "      <th>Frequencycluster</th>\n",
       "      <th></th>\n",
       "      <th></th>\n",
       "      <th></th>\n",
       "      <th></th>\n",
       "      <th></th>\n",
       "      <th></th>\n",
       "      <th></th>\n",
       "      <th></th>\n",
       "    </tr>\n",
       "  </thead>\n",
       "  <tbody>\n",
       "    <tr>\n",
       "      <th>0</th>\n",
       "      <td>24050.0</td>\n",
       "      <td>4.935884</td>\n",
       "      <td>3.951719</td>\n",
       "      <td>1.0</td>\n",
       "      <td>2.0</td>\n",
       "      <td>4.0</td>\n",
       "      <td>7.0</td>\n",
       "      <td>15.0</td>\n",
       "    </tr>\n",
       "    <tr>\n",
       "      <th>1</th>\n",
       "      <td>5802.0</td>\n",
       "      <td>25.680972</td>\n",
       "      <td>7.622815</td>\n",
       "      <td>16.0</td>\n",
       "      <td>19.0</td>\n",
       "      <td>24.0</td>\n",
       "      <td>31.0</td>\n",
       "      <td>43.0</td>\n",
       "    </tr>\n",
       "    <tr>\n",
       "      <th>2</th>\n",
       "      <td>1927.0</td>\n",
       "      <td>62.132849</td>\n",
       "      <td>14.679900</td>\n",
       "      <td>44.0</td>\n",
       "      <td>50.0</td>\n",
       "      <td>58.0</td>\n",
       "      <td>72.0</td>\n",
       "      <td>98.0</td>\n",
       "    </tr>\n",
       "    <tr>\n",
       "      <th>3</th>\n",
       "      <td>469.0</td>\n",
       "      <td>135.780384</td>\n",
       "      <td>36.623120</td>\n",
       "      <td>99.0</td>\n",
       "      <td>109.0</td>\n",
       "      <td>125.0</td>\n",
       "      <td>149.0</td>\n",
       "      <td>320.0</td>\n",
       "    </tr>\n",
       "  </tbody>\n",
       "</table>\n",
       "</div>"
      ],
      "text/plain": [
       "                    count        mean        std   min    25%    50%    75%  \\\n",
       "Frequencycluster                                                              \n",
       "0                 24050.0    4.935884   3.951719   1.0    2.0    4.0    7.0   \n",
       "1                  5802.0   25.680972   7.622815  16.0   19.0   24.0   31.0   \n",
       "2                  1927.0   62.132849  14.679900  44.0   50.0   58.0   72.0   \n",
       "3                   469.0  135.780384  36.623120  99.0  109.0  125.0  149.0   \n",
       "\n",
       "                    max  \n",
       "Frequencycluster         \n",
       "0                  15.0  \n",
       "1                  43.0  \n",
       "2                  98.0  \n",
       "3                 320.0  "
      ]
     },
     "execution_count": 75,
     "metadata": {},
     "output_type": "execute_result"
    }
   ],
   "source": [
    "# 위 그래프를 통해서 elbow point는 4인 지점으로 설정\n",
    "kmeans = KMeans(n_clusters = 4)\n",
    "kmeans.fit(s_rfm[['Frequency']])\n",
    "s_rfm['Frequencycluster'] = kmeans.predict(s_rfm[['Frequency']])\n",
    "\n",
    "s_rfm = order_cluster('Frequencycluster', 'Frequency', s_rfm, True)\n",
    "s_rfm.groupby('Frequencycluster')['Frequency'].describe()"
   ]
  },
  {
   "cell_type": "code",
   "execution_count": 76,
   "id": "be56fdfe",
   "metadata": {},
   "outputs": [
    {
     "data": {
      "text/plain": [
       "count    3.931700e+04\n",
       "mean     3.412692e+05\n",
       "std      6.305631e+05\n",
       "min      1.000000e+03\n",
       "25%      4.100000e+04\n",
       "50%      1.400000e+05\n",
       "75%      3.930000e+05\n",
       "max      4.462500e+07\n",
       "Name: Monetary, dtype: float64"
      ]
     },
     "execution_count": 76,
     "metadata": {},
     "output_type": "execute_result"
    }
   ],
   "source": [
    "# Monetary 도출을 위한 데이터 추출\n",
    "c_rfm.Monetary.describe()"
   ]
  },
  {
   "cell_type": "code",
   "execution_count": 77,
   "id": "89ddc560",
   "metadata": {},
   "outputs": [
    {
     "name": "stderr",
     "output_type": "stream",
     "text": [
      "/Users/jjeori/opt/anaconda3/lib/python3.9/site-packages/seaborn/distributions.py:2619: FutureWarning: `distplot` is a deprecated function and will be removed in a future version. Please adapt your code to use either `displot` (a figure-level function with similar flexibility) or `kdeplot` (an axes-level function for kernel density plots).\n",
      "  warnings.warn(msg, FutureWarning)\n"
     ]
    },
    {
     "data": {
      "image/png": "[encoded data removed]",
      "text/plain": [
       "<Figure size 864x432 with 1 Axes>"
      ]
     },
     "metadata": {},
     "output_type": "display_data"
    }
   ],
   "source": [
    "# 구매 빈도의 흐름 시각화\n",
    "sns.set(palette = 'muted', color_codes = True, style = 'white')\n",
    "fig, ax = plt.subplots(figsize = (12, 6))\n",
    "sns.despine(left = True)\n",
    "sns.distplot(s_rfm['Monetary'], hist = False)\n",
    "plt.show()"
   ]
  },
  {
   "cell_type": "code",
   "execution_count": 78,
   "id": "44ac0f07",
   "metadata": {},
   "outputs": [
    {
     "name": "stderr",
     "output_type": "stream",
     "text": [
      "/var/folders/c1/3m4yfnr1033cv80bgnw17ly00000gn/T/ipykernel_24268/1983227630.py:9: SettingWithCopyWarning: \n",
      "A value is trying to be set on a copy of a slice from a DataFrame.\n",
      "Try using .loc[row_indexer,col_indexer] = value instead\n",
      "\n",
      "See the caveats in the documentation: https://pandas.pydata.org/pandas-docs/stable/user_guide/indexing.html#returning-a-view-versus-a-copy\n",
      "  df_monetary['cluster'] = kmeans.labels_\n",
      "/var/folders/c1/3m4yfnr1033cv80bgnw17ly00000gn/T/ipykernel_24268/1983227630.py:9: SettingWithCopyWarning: \n",
      "A value is trying to be set on a copy of a slice from a DataFrame.\n",
      "Try using .loc[row_indexer,col_indexer] = value instead\n",
      "\n",
      "See the caveats in the documentation: https://pandas.pydata.org/pandas-docs/stable/user_guide/indexing.html#returning-a-view-versus-a-copy\n",
      "  df_monetary['cluster'] = kmeans.labels_\n",
      "/var/folders/c1/3m4yfnr1033cv80bgnw17ly00000gn/T/ipykernel_24268/1983227630.py:9: SettingWithCopyWarning: \n",
      "A value is trying to be set on a copy of a slice from a DataFrame.\n",
      "Try using .loc[row_indexer,col_indexer] = value instead\n",
      "\n",
      "See the caveats in the documentation: https://pandas.pydata.org/pandas-docs/stable/user_guide/indexing.html#returning-a-view-versus-a-copy\n",
      "  df_monetary['cluster'] = kmeans.labels_\n",
      "/var/folders/c1/3m4yfnr1033cv80bgnw17ly00000gn/T/ipykernel_24268/1983227630.py:9: SettingWithCopyWarning: \n",
      "A value is trying to be set on a copy of a slice from a DataFrame.\n",
      "Try using .loc[row_indexer,col_indexer] = value instead\n",
      "\n",
      "See the caveats in the documentation: https://pandas.pydata.org/pandas-docs/stable/user_guide/indexing.html#returning-a-view-versus-a-copy\n",
      "  df_monetary['cluster'] = kmeans.labels_\n",
      "/var/folders/c1/3m4yfnr1033cv80bgnw17ly00000gn/T/ipykernel_24268/1983227630.py:9: SettingWithCopyWarning: \n",
      "A value is trying to be set on a copy of a slice from a DataFrame.\n",
      "Try using .loc[row_indexer,col_indexer] = value instead\n",
      "\n",
      "See the caveats in the documentation: https://pandas.pydata.org/pandas-docs/stable/user_guide/indexing.html#returning-a-view-versus-a-copy\n",
      "  df_monetary['cluster'] = kmeans.labels_\n",
      "/var/folders/c1/3m4yfnr1033cv80bgnw17ly00000gn/T/ipykernel_24268/1983227630.py:9: SettingWithCopyWarning: \n",
      "A value is trying to be set on a copy of a slice from a DataFrame.\n",
      "Try using .loc[row_indexer,col_indexer] = value instead\n",
      "\n",
      "See the caveats in the documentation: https://pandas.pydata.org/pandas-docs/stable/user_guide/indexing.html#returning-a-view-versus-a-copy\n",
      "  df_monetary['cluster'] = kmeans.labels_\n",
      "/var/folders/c1/3m4yfnr1033cv80bgnw17ly00000gn/T/ipykernel_24268/1983227630.py:9: SettingWithCopyWarning: \n",
      "A value is trying to be set on a copy of a slice from a DataFrame.\n",
      "Try using .loc[row_indexer,col_indexer] = value instead\n",
      "\n",
      "See the caveats in the documentation: https://pandas.pydata.org/pandas-docs/stable/user_guide/indexing.html#returning-a-view-versus-a-copy\n",
      "  df_monetary['cluster'] = kmeans.labels_\n",
      "/var/folders/c1/3m4yfnr1033cv80bgnw17ly00000gn/T/ipykernel_24268/1983227630.py:9: SettingWithCopyWarning: \n",
      "A value is trying to be set on a copy of a slice from a DataFrame.\n",
      "Try using .loc[row_indexer,col_indexer] = value instead\n",
      "\n",
      "See the caveats in the documentation: https://pandas.pydata.org/pandas-docs/stable/user_guide/indexing.html#returning-a-view-versus-a-copy\n",
      "  df_monetary['cluster'] = kmeans.labels_\n",
      "/var/folders/c1/3m4yfnr1033cv80bgnw17ly00000gn/T/ipykernel_24268/1983227630.py:9: SettingWithCopyWarning: \n",
      "A value is trying to be set on a copy of a slice from a DataFrame.\n",
      "Try using .loc[row_indexer,col_indexer] = value instead\n",
      "\n",
      "See the caveats in the documentation: https://pandas.pydata.org/pandas-docs/stable/user_guide/indexing.html#returning-a-view-versus-a-copy\n",
      "  df_monetary['cluster'] = kmeans.labels_\n"
     ]
    },
    {
     "data": {
      "image/png": "[encoded data removed]",
      "text/plain": [
       "<Figure size 720x360 with 1 Axes>"
      ]
     },
     "metadata": {},
     "output_type": "display_data"
    }
   ],
   "source": [
    "# kmeans 계산하기 위한 elbow point구하기\n",
    "from sklearn.cluster import KMeans\n",
    "\n",
    "point = {}\n",
    "df_monetary = s_rfm[['Monetary']]\n",
    "\n",
    "for k in range(1, 10):\n",
    "    kmeans = KMeans(n_clusters = k, max_iter = 100).fit(df_monetary)\n",
    "    df_monetary['cluster'] = kmeans.labels_\n",
    "    point[k] = kmeans.inertia_\n",
    "\n",
    "plt.figure(figsize = (10, 5))\n",
    "plt.plot(list(point.keys()), list(point.values()))\n",
    "plt.xlabel(\"Number of cluster\")\n",
    "plt.show()"
   ]
  },
  {
   "cell_type": "code",
   "execution_count": 79,
   "id": "40ac546d",
   "metadata": {
    "scrolled": false
   },
   "outputs": [
    {
     "data": {
      "text/html": [
       "<div>\n",
       "<style scoped>\n",
       "    .dataframe tbody tr th:only-of-type {\n",
       "        vertical-align: middle;\n",
       "    }\n",
       "\n",
       "    .dataframe tbody tr th {\n",
       "        vertical-align: top;\n",
       "    }\n",
       "\n",
       "    .dataframe thead th {\n",
       "        text-align: right;\n",
       "    }\n",
       "</style>\n",
       "<table border=\"1\" class=\"dataframe\">\n",
       "  <thead>\n",
       "    <tr style=\"text-align: right;\">\n",
       "      <th></th>\n",
       "      <th>count</th>\n",
       "      <th>mean</th>\n",
       "      <th>std</th>\n",
       "      <th>min</th>\n",
       "      <th>25%</th>\n",
       "      <th>50%</th>\n",
       "      <th>75%</th>\n",
       "      <th>max</th>\n",
       "    </tr>\n",
       "    <tr>\n",
       "      <th>Monetarycluster</th>\n",
       "      <th></th>\n",
       "      <th></th>\n",
       "      <th></th>\n",
       "      <th></th>\n",
       "      <th></th>\n",
       "      <th></th>\n",
       "      <th></th>\n",
       "      <th></th>\n",
       "    </tr>\n",
       "  </thead>\n",
       "  <tbody>\n",
       "    <tr>\n",
       "      <th>0</th>\n",
       "      <td>25892.0</td>\n",
       "      <td>7.471702e+04</td>\n",
       "      <td>7.085922e+04</td>\n",
       "      <td>1000.0</td>\n",
       "      <td>19000.0</td>\n",
       "      <td>49000.0</td>\n",
       "      <td>112000.0</td>\n",
       "      <td>285000.0</td>\n",
       "    </tr>\n",
       "    <tr>\n",
       "      <th>1</th>\n",
       "      <td>4893.0</td>\n",
       "      <td>4.972277e+05</td>\n",
       "      <td>1.686660e+05</td>\n",
       "      <td>286000.0</td>\n",
       "      <td>356000.0</td>\n",
       "      <td>451000.0</td>\n",
       "      <td>610000.0</td>\n",
       "      <td>912000.0</td>\n",
       "    </tr>\n",
       "    <tr>\n",
       "      <th>2</th>\n",
       "      <td>1215.0</td>\n",
       "      <td>1.330183e+06</td>\n",
       "      <td>3.320060e+05</td>\n",
       "      <td>913000.0</td>\n",
       "      <td>1050500.0</td>\n",
       "      <td>1253000.0</td>\n",
       "      <td>1540000.0</td>\n",
       "      <td>2213000.0</td>\n",
       "    </tr>\n",
       "    <tr>\n",
       "      <th>3</th>\n",
       "      <td>248.0</td>\n",
       "      <td>3.112738e+06</td>\n",
       "      <td>1.059963e+06</td>\n",
       "      <td>2228000.0</td>\n",
       "      <td>2467500.0</td>\n",
       "      <td>2792000.0</td>\n",
       "      <td>3316000.0</td>\n",
       "      <td>11806000.0</td>\n",
       "    </tr>\n",
       "  </tbody>\n",
       "</table>\n",
       "</div>"
      ],
      "text/plain": [
       "                   count          mean           std        min        25%  \\\n",
       "Monetarycluster                                                              \n",
       "0                25892.0  7.471702e+04  7.085922e+04     1000.0    19000.0   \n",
       "1                 4893.0  4.972277e+05  1.686660e+05   286000.0   356000.0   \n",
       "2                 1215.0  1.330183e+06  3.320060e+05   913000.0  1050500.0   \n",
       "3                  248.0  3.112738e+06  1.059963e+06  2228000.0  2467500.0   \n",
       "\n",
       "                       50%        75%         max  \n",
       "Monetarycluster                                    \n",
       "0                  49000.0   112000.0    285000.0  \n",
       "1                 451000.0   610000.0    912000.0  \n",
       "2                1253000.0  1540000.0   2213000.0  \n",
       "3                2792000.0  3316000.0  11806000.0  "
      ]
     },
     "execution_count": 79,
     "metadata": {},
     "output_type": "execute_result"
    }
   ],
   "source": [
    "# 위 그래프를 통해서 elbow point는 4인 지점으로 설정\n",
    "kmeans = KMeans(n_clusters = 4)\n",
    "kmeans.fit(s_rfm[['Monetary']])\n",
    "s_rfm['Monetarycluster'] = kmeans.predict(s_rfm[['Monetary']])\n",
    "\n",
    "s_rfm = order_cluster('Monetarycluster', 'Monetary', s_rfm, True)\n",
    "s_rfm.groupby('Monetarycluster')['Monetary'].describe()"
   ]
  },
  {
   "cell_type": "markdown",
   "id": "cbd4fe4b",
   "metadata": {},
   "source": [
    "### 편의점 / 대형마트 / 슈퍼마켓의 분산분석 결과\n",
    "> 모든 평균의 차이는 통계적으로 유의미하다는 결과를 얻음"
   ]
  },
  {
   "cell_type": "code",
   "execution_count": 53,
   "id": "3c204f27",
   "metadata": {},
   "outputs": [],
   "source": [
    "import numpy as np\n",
    "import pandas as pd\n",
    "import matplotlib.pyplot as plt\n",
    "import seaborn as sns\n",
    "\n",
    "\n",
    "large_df = np.array(list(df_1['Recency']))\n",
    "regular_df = np.array(list(df_2['Recency']))\n",
    "convenience_df = np.array(list(df['Recency']))\n",
    "\n",
    "data = {\n",
    "    \"group\" : [\"big\"] * len(large_df) + [\"small\"] * len(regular_df) + [\"convenience\"] * len(convenience_df),\n",
    "    \"Recency\" : np.concatenate([large_df, regular_df, convenience_df]) \n",
    "}\n",
    "\n",
    "df = pd.DataFrame(data)"
   ]
  },
  {
   "cell_type": "code",
   "execution_count": 54,
   "id": "26cdd4a5",
   "metadata": {},
   "outputs": [
    {
     "name": "stdout",
     "output_type": "stream",
     "text": [
      "F-statistic: 188.1622617657498\n",
      "p-value: 2.6890463440214696e-82\n",
      "그룹 간의 평균 차이는 통계적으로 유의미합니다.\n"
     ]
    }
   ],
   "source": [
    "from scipy.stats import f_oneway\n",
    "\n",
    "f_statistic, p_value = f_oneway(large_df, regular_df, convenience)\n",
    "\n",
    "print(\"F-statistic:\", f_statistic)\n",
    "print(\"p-value:\", p_value)\n",
    "\n",
    "alpha = 0.05\n",
    "\n",
    "if p_value < alpha:\n",
    "    print(\"그룹 간의 평균 차이는 통계적으로 유의미합니다.\")\n",
    "    \n",
    "else:\n",
    "    print(\"그룹 간의 평균 차이는 통계적으로 유의미하지 않습니다.\")"
   ]
  },
  {
   "cell_type": "code",
   "execution_count": 55,
   "id": "8684bf6f",
   "metadata": {},
   "outputs": [
    {
     "data": {
      "image/png": "[encoded data removed]",
      "text/plain": [
       "<Figure size 720x432 with 1 Axes>"
      ]
     },
     "metadata": {
      "needs_background": "light"
     },
     "output_type": "display_data"
    }
   ],
   "source": [
    "plt.figure(figsize = (10, 6))\n",
    "sns.boxplot(x = \"group\", y = \"Recency\", data = df)\n",
    "plt.xlabel(\"group\")\n",
    "plt.ylabel(\"Recency\")\n",
    "plt.title(\"result\")\n",
    "plt.show()"
   ]
  },
  {
   "cell_type": "code",
   "execution_count": 45,
   "id": "296a4ecb",
   "metadata": {},
   "outputs": [],
   "source": [
    "import numpy as np\n",
    "import pandas as pd\n",
    "import matplotlib.pyplot as plt\n",
    "import seaborn as sns\n",
    "\n",
    "large_df = np.array(list(df_1['Frequency']))\n",
    "regular_df = np.array(list(df_2['Frequency']))\n",
    "convenience_df = np.array(list(df['Frequency']))\n",
    "\n",
    "data = {\n",
    "    \"group\" : [\"big\"] * len(large_df) + [\"small\"] * len(regular_df) + [\"convenience\"] * len(convenience_df),\n",
    "    \"Frequency\" : np.concatenate([large_df, regular_df, convenience_df]) \n",
    "}\n",
    "\n",
    "df = pd.DataFrame(data)"
   ]
  },
  {
   "cell_type": "code",
   "execution_count": 46,
   "id": "e9dec4bc",
   "metadata": {},
   "outputs": [
    {
     "name": "stdout",
     "output_type": "stream",
     "text": [
      "F-statistic: 19463.88293782079\n",
      "p-value: 0.0\n",
      "그룹 간의 평균 차이는 통계적으로 유의미합니다.\n"
     ]
    }
   ],
   "source": [
    "from scipy.stats import f_oneway\n",
    "\n",
    "f_statistic, p_value = f_oneway(large_df, regular_df, convenience)\n",
    "\n",
    "print(\"F-statistic:\", f_statistic)\n",
    "print(\"p-value:\", p_value)\n",
    "\n",
    "alpha = 0.05\n",
    "\n",
    "if p_value < alpha:\n",
    "    print(\"그룹 간의 평균 차이는 통계적으로 유의미합니다.\")\n",
    "    \n",
    "else:\n",
    "    print(\"그룹 간의 평균 차이는 통계적으로 유의미하지 않습니다.\")"
   ]
  },
  {
   "cell_type": "code",
   "execution_count": 49,
   "id": "d1a97276",
   "metadata": {},
   "outputs": [
    {
     "data": {
      "image/png": "[encoded data removed]",
      "text/plain": [
       "<Figure size 720x432 with 1 Axes>"
      ]
     },
     "metadata": {
      "needs_background": "light"
     },
     "output_type": "display_data"
    }
   ],
   "source": [
    "plt.figure(figsize = (10, 6))\n",
    "sns.boxplot(x = \"group\", y = \"Frequency\", data = df)\n",
    "plt.xlabel(\"group\")\n",
    "plt.ylabel(\"Frequency\")\n",
    "plt.title(\"result\")\n",
    "plt.show()"
   ]
  },
  {
   "cell_type": "code",
   "execution_count": 60,
   "id": "3faa21e2",
   "metadata": {},
   "outputs": [],
   "source": [
    "import numpy as np\n",
    "import pandas as pd\n",
    "import matplotlib.pyplot as plt\n",
    "import seaborn as sns\n",
    "\n",
    "large_df = np.array(list(df_1['Monetary']))\n",
    "regular_df = np.array(list(df_2['Monetary']))\n",
    "convenience_df = np.array(list(df['Monetary']))\n",
    "\n",
    "data = {\n",
    "    \"group\" : [\"big\"] * len(large_df) + [\"small\"] * len(regular_df) + [\"convenience\"] * len(convenience_df),\n",
    "    \"Monetary\" : np.concatenate([large_df, regular_df, convenience_df]) \n",
    "}\n",
    "\n",
    "df = pd.DataFrame(data)"
   ]
  },
  {
   "cell_type": "code",
   "execution_count": 61,
   "id": "f7f680ec",
   "metadata": {},
   "outputs": [
    {
     "name": "stdout",
     "output_type": "stream",
     "text": [
      "F-statistic: 6928.653712021943\n",
      "p-value: 0.0\n",
      "그룹 간의 평균 차이는 통계적으로 유의미합니다.\n"
     ]
    }
   ],
   "source": [
    "from scipy.stats import f_oneway\n",
    "\n",
    "f_statistic, p_value = f_oneway(large_df, regular_df, convenience)\n",
    "\n",
    "print(\"F-statistic:\", f_statistic)\n",
    "print(\"p-value:\", p_value)\n",
    "\n",
    "alpha = 0.05\n",
    "\n",
    "if p_value < alpha:\n",
    "    print(\"그룹 간의 평균 차이는 통계적으로 유의미합니다.\")\n",
    "    \n",
    "else:\n",
    "    print(\"그룹 간의 평균 차이는 통계적으로 유의미하지 않습니다.\")"
   ]
  },
  {
   "cell_type": "code",
   "execution_count": 63,
   "id": "854413ee",
   "metadata": {},
   "outputs": [
    {
     "data": {
      "image/png": "[encoded data removed]",
      "text/plain": [
       "<Figure size 720x432 with 1 Axes>"
      ]
     },
     "metadata": {
      "needs_background": "light"
     },
     "output_type": "display_data"
    }
   ],
   "source": [
    "plt.figure(figsize = (10, 6))\n",
    "sns.pointplot(x = \"group\", y = \"Monetary\", data = df, ci = \"sd\")\n",
    "plt.xlabel(\"group\")\n",
    "plt.ylabel(\"Frequency\")\n",
    "plt.title(\"result\")\n",
    "plt.show()"
   ]
  },
  {
   "cell_type": "code",
   "execution_count": 129,
   "id": "3bc3228f",
   "metadata": {},
   "outputs": [],
   "source": [
    "import pandas as pd\n",
    "import numpy as np\n",
    "import matplotlib.pyplot as plt\n",
    "from matplotlib import style\n",
    "import seaborn as sns\n",
    "from datetime import datetime\n",
    "from tqdm import tqdm\n",
    "\n",
    "df = pd.read_csv(\"Desktop/rfm_online.csv\")"
   ]
  },
  {
   "cell_type": "code",
   "execution_count": 141,
   "id": "d787bd51",
   "metadata": {},
   "outputs": [
    {
     "name": "stderr",
     "output_type": "stream",
     "text": [
      "/Users/jjeori/opt/anaconda3/lib/python3.9/site-packages/seaborn/distributions.py:2619: FutureWarning: `distplot` is a deprecated function and will be removed in a future version. Please adapt your code to use either `displot` (a figure-level function with similar flexibility) or `histplot` (an axes-level function for histograms).\n",
      "  warnings.warn(msg, FutureWarning)\n"
     ]
    },
    {
     "data": {
      "image/png": "[encoded data removed]",
      "text/plain": [
       "<Figure size 864x432 with 1 Axes>"
      ]
     },
     "metadata": {},
     "output_type": "display_data"
    }
   ],
   "source": [
    "# 시간 차이의 흐름 시각화\n",
    "sns.set(palette = 'muted', color_codes = True, style = 'white')\n",
    "fig, ax = plt.subplots(figsize = (12, 6))\n",
    "sns.despine(left = True)\n",
    "sns.distplot(df['Recency'], bins = 30)\n",
    "plt.show()\n",
    "\n",
    "# 최근 결제 수가 많다는 걸 알 수 있다."
   ]
  },
  {
   "cell_type": "code",
   "execution_count": 142,
   "id": "1c4e892f",
   "metadata": {},
   "outputs": [
    {
     "name": "stderr",
     "output_type": "stream",
     "text": [
      "/var/folders/c1/3m4yfnr1033cv80bgnw17ly00000gn/T/ipykernel_3412/1028562607.py:9: SettingWithCopyWarning: \n",
      "A value is trying to be set on a copy of a slice from a DataFrame.\n",
      "Try using .loc[row_indexer,col_indexer] = value instead\n",
      "\n",
      "See the caveats in the documentation: https://pandas.pydata.org/pandas-docs/stable/user_guide/indexing.html#returning-a-view-versus-a-copy\n",
      "  df_recency['cluster'] = kmeans.labels_\n",
      "/var/folders/c1/3m4yfnr1033cv80bgnw17ly00000gn/T/ipykernel_3412/1028562607.py:9: SettingWithCopyWarning: \n",
      "A value is trying to be set on a copy of a slice from a DataFrame.\n",
      "Try using .loc[row_indexer,col_indexer] = value instead\n",
      "\n",
      "See the caveats in the documentation: https://pandas.pydata.org/pandas-docs/stable/user_guide/indexing.html#returning-a-view-versus-a-copy\n",
      "  df_recency['cluster'] = kmeans.labels_\n",
      "/var/folders/c1/3m4yfnr1033cv80bgnw17ly00000gn/T/ipykernel_3412/1028562607.py:9: SettingWithCopyWarning: \n",
      "A value is trying to be set on a copy of a slice from a DataFrame.\n",
      "Try using .loc[row_indexer,col_indexer] = value instead\n",
      "\n",
      "See the caveats in the documentation: https://pandas.pydata.org/pandas-docs/stable/user_guide/indexing.html#returning-a-view-versus-a-copy\n",
      "  df_recency['cluster'] = kmeans.labels_\n",
      "/var/folders/c1/3m4yfnr1033cv80bgnw17ly00000gn/T/ipykernel_3412/1028562607.py:9: SettingWithCopyWarning: \n",
      "A value is trying to be set on a copy of a slice from a DataFrame.\n",
      "Try using .loc[row_indexer,col_indexer] = value instead\n",
      "\n",
      "See the caveats in the documentation: https://pandas.pydata.org/pandas-docs/stable/user_guide/indexing.html#returning-a-view-versus-a-copy\n",
      "  df_recency['cluster'] = kmeans.labels_\n",
      "/var/folders/c1/3m4yfnr1033cv80bgnw17ly00000gn/T/ipykernel_3412/1028562607.py:9: SettingWithCopyWarning: \n",
      "A value is trying to be set on a copy of a slice from a DataFrame.\n",
      "Try using .loc[row_indexer,col_indexer] = value instead\n",
      "\n",
      "See the caveats in the documentation: https://pandas.pydata.org/pandas-docs/stable/user_guide/indexing.html#returning-a-view-versus-a-copy\n",
      "  df_recency['cluster'] = kmeans.labels_\n",
      "/var/folders/c1/3m4yfnr1033cv80bgnw17ly00000gn/T/ipykernel_3412/1028562607.py:9: SettingWithCopyWarning: \n",
      "A value is trying to be set on a copy of a slice from a DataFrame.\n",
      "Try using .loc[row_indexer,col_indexer] = value instead\n",
      "\n",
      "See the caveats in the documentation: https://pandas.pydata.org/pandas-docs/stable/user_guide/indexing.html#returning-a-view-versus-a-copy\n",
      "  df_recency['cluster'] = kmeans.labels_\n",
      "/var/folders/c1/3m4yfnr1033cv80bgnw17ly00000gn/T/ipykernel_3412/1028562607.py:9: SettingWithCopyWarning: \n",
      "A value is trying to be set on a copy of a slice from a DataFrame.\n",
      "Try using .loc[row_indexer,col_indexer] = value instead\n",
      "\n",
      "See the caveats in the documentation: https://pandas.pydata.org/pandas-docs/stable/user_guide/indexing.html#returning-a-view-versus-a-copy\n",
      "  df_recency['cluster'] = kmeans.labels_\n",
      "/var/folders/c1/3m4yfnr1033cv80bgnw17ly00000gn/T/ipykernel_3412/1028562607.py:9: SettingWithCopyWarning: \n",
      "A value is trying to be set on a copy of a slice from a DataFrame.\n",
      "Try using .loc[row_indexer,col_indexer] = value instead\n",
      "\n",
      "See the caveats in the documentation: https://pandas.pydata.org/pandas-docs/stable/user_guide/indexing.html#returning-a-view-versus-a-copy\n",
      "  df_recency['cluster'] = kmeans.labels_\n",
      "/var/folders/c1/3m4yfnr1033cv80bgnw17ly00000gn/T/ipykernel_3412/1028562607.py:9: SettingWithCopyWarning: \n",
      "A value is trying to be set on a copy of a slice from a DataFrame.\n",
      "Try using .loc[row_indexer,col_indexer] = value instead\n",
      "\n",
      "See the caveats in the documentation: https://pandas.pydata.org/pandas-docs/stable/user_guide/indexing.html#returning-a-view-versus-a-copy\n",
      "  df_recency['cluster'] = kmeans.labels_\n"
     ]
    },
    {
     "data": {
      "image/png": "[encoded data removed]",
      "text/plain": [
       "<Figure size 432x288 with 1 Axes>"
      ]
     },
     "metadata": {},
     "output_type": "display_data"
    }
   ],
   "source": [
    "# kmeans 계산하기 위한 elbow point구하기\n",
    "from sklearn.cluster import KMeans\n",
    "\n",
    "point = {}\n",
    "df_recency = df[['Recency']]\n",
    "\n",
    "for k in range(1, 10):\n",
    "    kmeans = KMeans(n_clusters = k, max_iter = 100).fit(df_recency)\n",
    "    df_recency['cluster'] = kmeans.labels_\n",
    "    point[k] = kmeans.inertia_\n",
    "\n",
    "plt.plot(list(point.keys()), list(point.values()))\n",
    "plt.show()"
   ]
  },
  {
   "cell_type": "code",
   "execution_count": 143,
   "id": "428ce574",
   "metadata": {},
   "outputs": [
    {
     "data": {
      "text/html": [
       "<div>\n",
       "<style scoped>\n",
       "    .dataframe tbody tr th:only-of-type {\n",
       "        vertical-align: middle;\n",
       "    }\n",
       "\n",
       "    .dataframe tbody tr th {\n",
       "        vertical-align: top;\n",
       "    }\n",
       "\n",
       "    .dataframe thead th {\n",
       "        text-align: right;\n",
       "    }\n",
       "</style>\n",
       "<table border=\"1\" class=\"dataframe\">\n",
       "  <thead>\n",
       "    <tr style=\"text-align: right;\">\n",
       "      <th></th>\n",
       "      <th>count</th>\n",
       "      <th>mean</th>\n",
       "      <th>std</th>\n",
       "      <th>min</th>\n",
       "      <th>25%</th>\n",
       "      <th>50%</th>\n",
       "      <th>75%</th>\n",
       "      <th>max</th>\n",
       "    </tr>\n",
       "    <tr>\n",
       "      <th>Recencycluster</th>\n",
       "      <th></th>\n",
       "      <th></th>\n",
       "      <th></th>\n",
       "      <th></th>\n",
       "      <th></th>\n",
       "      <th></th>\n",
       "      <th></th>\n",
       "      <th></th>\n",
       "    </tr>\n",
       "  </thead>\n",
       "  <tbody>\n",
       "    <tr>\n",
       "      <th>0</th>\n",
       "      <td>5580.0</td>\n",
       "      <td>314.914695</td>\n",
       "      <td>28.627151</td>\n",
       "      <td>264.0</td>\n",
       "      <td>291.0</td>\n",
       "      <td>314.0</td>\n",
       "      <td>340.0</td>\n",
       "      <td>365.0</td>\n",
       "    </tr>\n",
       "    <tr>\n",
       "      <th>1</th>\n",
       "      <td>4912.0</td>\n",
       "      <td>212.763844</td>\n",
       "      <td>30.512730</td>\n",
       "      <td>161.0</td>\n",
       "      <td>186.0</td>\n",
       "      <td>212.0</td>\n",
       "      <td>240.0</td>\n",
       "      <td>263.0</td>\n",
       "    </tr>\n",
       "    <tr>\n",
       "      <th>2</th>\n",
       "      <td>5527.0</td>\n",
       "      <td>109.856342</td>\n",
       "      <td>28.372809</td>\n",
       "      <td>64.0</td>\n",
       "      <td>85.0</td>\n",
       "      <td>109.0</td>\n",
       "      <td>135.0</td>\n",
       "      <td>160.0</td>\n",
       "    </tr>\n",
       "    <tr>\n",
       "      <th>3</th>\n",
       "      <td>14478.0</td>\n",
       "      <td>18.012916</td>\n",
       "      <td>16.882834</td>\n",
       "      <td>1.0</td>\n",
       "      <td>4.0</td>\n",
       "      <td>12.0</td>\n",
       "      <td>28.0</td>\n",
       "      <td>63.0</td>\n",
       "    </tr>\n",
       "  </tbody>\n",
       "</table>\n",
       "</div>"
      ],
      "text/plain": [
       "                  count        mean        std    min    25%    50%    75%  \\\n",
       "Recencycluster                                                               \n",
       "0                5580.0  314.914695  28.627151  264.0  291.0  314.0  340.0   \n",
       "1                4912.0  212.763844  30.512730  161.0  186.0  212.0  240.0   \n",
       "2                5527.0  109.856342  28.372809   64.0   85.0  109.0  135.0   \n",
       "3               14478.0   18.012916  16.882834    1.0    4.0   12.0   28.0   \n",
       "\n",
       "                  max  \n",
       "Recencycluster         \n",
       "0               365.0  \n",
       "1               263.0  \n",
       "2               160.0  \n",
       "3                63.0  "
      ]
     },
     "execution_count": 143,
     "metadata": {},
     "output_type": "execute_result"
    }
   ],
   "source": [
    "# 위 그래프를 통해서 elbow point는 4인 지점으로 설정\n",
    "kmeans = KMeans(n_clusters = 4)\n",
    "kmeans.fit(df[['Recency']])\n",
    "df['Recencycluster'] = kmeans.predict(df[['Recency']])\n",
    "\n",
    "# cluster 분석 모형\n",
    "def order_cluster(cluster_field_name, target_field_name, df, ascending):\n",
    "    df_new = df.groupby(cluster_field_name)[target_field_name].mean().reset_index()\n",
    "    df_new = df_new.sort_values(by = target_field_name, ascending = ascending).reset_index(drop = True)\n",
    "    df_new['index'] = df_new.index\n",
    "    df_final = pd.merge(df, df_new[[cluster_field_name, 'index']], on = cluster_field_name)\n",
    "    df_final = df_final.drop([cluster_field_name], axis = 1)\n",
    "    df_final = df_final.rename(columns = {\"index\" : cluster_field_name})\n",
    "    return df_final\n",
    "\n",
    "df = order_cluster('Recencycluster', 'Recency', df, False)\n",
    "df.groupby('Recencycluster')['Recency'].describe()"
   ]
  },
  {
   "cell_type": "code",
   "execution_count": 144,
   "id": "e6aca93c",
   "metadata": {},
   "outputs": [
    {
     "name": "stderr",
     "output_type": "stream",
     "text": [
      "/Users/jjeori/opt/anaconda3/lib/python3.9/site-packages/seaborn/distributions.py:2619: FutureWarning: `distplot` is a deprecated function and will be removed in a future version. Please adapt your code to use either `displot` (a figure-level function with similar flexibility) or `histplot` (an axes-level function for histograms).\n",
      "  warnings.warn(msg, FutureWarning)\n"
     ]
    },
    {
     "data": {
      "image/png": "[encoded data removed]",
      "text/plain": [
       "<Figure size 864x432 with 1 Axes>"
      ]
     },
     "metadata": {},
     "output_type": "display_data"
    }
   ],
   "source": [
    "# 구매 빈도의 흐름 시각화\n",
    "sns.set(palette = 'muted', color_codes = True, style = 'whitegrid')\n",
    "fig, ax = plt.subplots(figsize = (12, 6))\n",
    "sns.despine(left = True)\n",
    "sns.distplot(df['Frequency'], bins = 30)\n",
    "plt.show()"
   ]
  },
  {
   "cell_type": "code",
   "execution_count": 134,
   "id": "1a533a0d",
   "metadata": {},
   "outputs": [
    {
     "name": "stderr",
     "output_type": "stream",
     "text": [
      "/var/folders/c1/3m4yfnr1033cv80bgnw17ly00000gn/T/ipykernel_3412/2379556223.py:9: SettingWithCopyWarning: \n",
      "A value is trying to be set on a copy of a slice from a DataFrame.\n",
      "Try using .loc[row_indexer,col_indexer] = value instead\n",
      "\n",
      "See the caveats in the documentation: https://pandas.pydata.org/pandas-docs/stable/user_guide/indexing.html#returning-a-view-versus-a-copy\n",
      "  df_frequency['cluster'] = kmeans.labels_\n",
      "/var/folders/c1/3m4yfnr1033cv80bgnw17ly00000gn/T/ipykernel_3412/2379556223.py:9: SettingWithCopyWarning: \n",
      "A value is trying to be set on a copy of a slice from a DataFrame.\n",
      "Try using .loc[row_indexer,col_indexer] = value instead\n",
      "\n",
      "See the caveats in the documentation: https://pandas.pydata.org/pandas-docs/stable/user_guide/indexing.html#returning-a-view-versus-a-copy\n",
      "  df_frequency['cluster'] = kmeans.labels_\n",
      "/var/folders/c1/3m4yfnr1033cv80bgnw17ly00000gn/T/ipykernel_3412/2379556223.py:9: SettingWithCopyWarning: \n",
      "A value is trying to be set on a copy of a slice from a DataFrame.\n",
      "Try using .loc[row_indexer,col_indexer] = value instead\n",
      "\n",
      "See the caveats in the documentation: https://pandas.pydata.org/pandas-docs/stable/user_guide/indexing.html#returning-a-view-versus-a-copy\n",
      "  df_frequency['cluster'] = kmeans.labels_\n",
      "/var/folders/c1/3m4yfnr1033cv80bgnw17ly00000gn/T/ipykernel_3412/2379556223.py:9: SettingWithCopyWarning: \n",
      "A value is trying to be set on a copy of a slice from a DataFrame.\n",
      "Try using .loc[row_indexer,col_indexer] = value instead\n",
      "\n",
      "See the caveats in the documentation: https://pandas.pydata.org/pandas-docs/stable/user_guide/indexing.html#returning-a-view-versus-a-copy\n",
      "  df_frequency['cluster'] = kmeans.labels_\n",
      "/var/folders/c1/3m4yfnr1033cv80bgnw17ly00000gn/T/ipykernel_3412/2379556223.py:9: SettingWithCopyWarning: \n",
      "A value is trying to be set on a copy of a slice from a DataFrame.\n",
      "Try using .loc[row_indexer,col_indexer] = value instead\n",
      "\n",
      "See the caveats in the documentation: https://pandas.pydata.org/pandas-docs/stable/user_guide/indexing.html#returning-a-view-versus-a-copy\n",
      "  df_frequency['cluster'] = kmeans.labels_\n",
      "/var/folders/c1/3m4yfnr1033cv80bgnw17ly00000gn/T/ipykernel_3412/2379556223.py:9: SettingWithCopyWarning: \n",
      "A value is trying to be set on a copy of a slice from a DataFrame.\n",
      "Try using .loc[row_indexer,col_indexer] = value instead\n",
      "\n",
      "See the caveats in the documentation: https://pandas.pydata.org/pandas-docs/stable/user_guide/indexing.html#returning-a-view-versus-a-copy\n",
      "  df_frequency['cluster'] = kmeans.labels_\n",
      "/var/folders/c1/3m4yfnr1033cv80bgnw17ly00000gn/T/ipykernel_3412/2379556223.py:9: SettingWithCopyWarning: \n",
      "A value is trying to be set on a copy of a slice from a DataFrame.\n",
      "Try using .loc[row_indexer,col_indexer] = value instead\n",
      "\n",
      "See the caveats in the documentation: https://pandas.pydata.org/pandas-docs/stable/user_guide/indexing.html#returning-a-view-versus-a-copy\n",
      "  df_frequency['cluster'] = kmeans.labels_\n",
      "/var/folders/c1/3m4yfnr1033cv80bgnw17ly00000gn/T/ipykernel_3412/2379556223.py:9: SettingWithCopyWarning: \n",
      "A value is trying to be set on a copy of a slice from a DataFrame.\n",
      "Try using .loc[row_indexer,col_indexer] = value instead\n",
      "\n",
      "See the caveats in the documentation: https://pandas.pydata.org/pandas-docs/stable/user_guide/indexing.html#returning-a-view-versus-a-copy\n",
      "  df_frequency['cluster'] = kmeans.labels_\n",
      "/var/folders/c1/3m4yfnr1033cv80bgnw17ly00000gn/T/ipykernel_3412/2379556223.py:9: SettingWithCopyWarning: \n",
      "A value is trying to be set on a copy of a slice from a DataFrame.\n",
      "Try using .loc[row_indexer,col_indexer] = value instead\n",
      "\n",
      "See the caveats in the documentation: https://pandas.pydata.org/pandas-docs/stable/user_guide/indexing.html#returning-a-view-versus-a-copy\n",
      "  df_frequency['cluster'] = kmeans.labels_\n"
     ]
    },
    {
     "data": {
      "image/png": "[encoded data removed]",
      "text/plain": [
       "<Figure size 720x360 with 1 Axes>"
      ]
     },
     "metadata": {},
     "output_type": "display_data"
    }
   ],
   "source": [
    "# kmeans 계산하기 위한 elbow point구하기\n",
    "from sklearn.cluster import KMeans\n",
    "\n",
    "point = {}\n",
    "df_frequency = df[['Frequency']]\n",
    "\n",
    "for k in range(1, 10):\n",
    "    kmeans = KMeans(n_clusters = k, max_iter = 100).fit(df_frequency)\n",
    "    df_frequency['cluster'] = kmeans.labels_\n",
    "    point[k] = kmeans.inertia_\n",
    "\n",
    "plt.figure(figsize = (10, 5))\n",
    "plt.plot(list(point.keys()), list(point.values()))\n",
    "plt.xlabel(\"Number of cluster\")\n",
    "plt.show()"
   ]
  },
  {
   "cell_type": "code",
   "execution_count": 145,
   "id": "c31c0d66",
   "metadata": {},
   "outputs": [
    {
     "data": {
      "text/html": [
       "<div>\n",
       "<style scoped>\n",
       "    .dataframe tbody tr th:only-of-type {\n",
       "        vertical-align: middle;\n",
       "    }\n",
       "\n",
       "    .dataframe tbody tr th {\n",
       "        vertical-align: top;\n",
       "    }\n",
       "\n",
       "    .dataframe thead th {\n",
       "        text-align: right;\n",
       "    }\n",
       "</style>\n",
       "<table border=\"1\" class=\"dataframe\">\n",
       "  <thead>\n",
       "    <tr style=\"text-align: right;\">\n",
       "      <th></th>\n",
       "      <th>count</th>\n",
       "      <th>mean</th>\n",
       "      <th>std</th>\n",
       "      <th>min</th>\n",
       "      <th>25%</th>\n",
       "      <th>50%</th>\n",
       "      <th>75%</th>\n",
       "      <th>max</th>\n",
       "    </tr>\n",
       "    <tr>\n",
       "      <th>Frequencycluster</th>\n",
       "      <th></th>\n",
       "      <th></th>\n",
       "      <th></th>\n",
       "      <th></th>\n",
       "      <th></th>\n",
       "      <th></th>\n",
       "      <th></th>\n",
       "      <th></th>\n",
       "    </tr>\n",
       "  </thead>\n",
       "  <tbody>\n",
       "    <tr>\n",
       "      <th>0</th>\n",
       "      <td>20153.0</td>\n",
       "      <td>4.965712</td>\n",
       "      <td>3.842144</td>\n",
       "      <td>1.0</td>\n",
       "      <td>2.0</td>\n",
       "      <td>4.0</td>\n",
       "      <td>8.0</td>\n",
       "      <td>14.0</td>\n",
       "    </tr>\n",
       "    <tr>\n",
       "      <th>1</th>\n",
       "      <td>6637.0</td>\n",
       "      <td>23.907488</td>\n",
       "      <td>6.703813</td>\n",
       "      <td>15.0</td>\n",
       "      <td>18.0</td>\n",
       "      <td>23.0</td>\n",
       "      <td>29.0</td>\n",
       "      <td>38.0</td>\n",
       "    </tr>\n",
       "    <tr>\n",
       "      <th>2</th>\n",
       "      <td>2976.0</td>\n",
       "      <td>53.669355</td>\n",
       "      <td>11.117684</td>\n",
       "      <td>39.0</td>\n",
       "      <td>44.0</td>\n",
       "      <td>51.0</td>\n",
       "      <td>61.0</td>\n",
       "      <td>80.0</td>\n",
       "    </tr>\n",
       "    <tr>\n",
       "      <th>3</th>\n",
       "      <td>731.0</td>\n",
       "      <td>107.905609</td>\n",
       "      <td>26.309603</td>\n",
       "      <td>81.0</td>\n",
       "      <td>89.0</td>\n",
       "      <td>99.0</td>\n",
       "      <td>120.0</td>\n",
       "      <td>269.0</td>\n",
       "    </tr>\n",
       "  </tbody>\n",
       "</table>\n",
       "</div>"
      ],
      "text/plain": [
       "                    count        mean        std   min   25%   50%    75%  \\\n",
       "Frequencycluster                                                            \n",
       "0                 20153.0    4.965712   3.842144   1.0   2.0   4.0    8.0   \n",
       "1                  6637.0   23.907488   6.703813  15.0  18.0  23.0   29.0   \n",
       "2                  2976.0   53.669355  11.117684  39.0  44.0  51.0   61.0   \n",
       "3                   731.0  107.905609  26.309603  81.0  89.0  99.0  120.0   \n",
       "\n",
       "                    max  \n",
       "Frequencycluster         \n",
       "0                  14.0  \n",
       "1                  38.0  \n",
       "2                  80.0  \n",
       "3                 269.0  "
      ]
     },
     "execution_count": 145,
     "metadata": {},
     "output_type": "execute_result"
    }
   ],
   "source": [
    "# 위 그래프를 통해서 elbow point는 4인 지점으로 설정\n",
    "kmeans = KMeans(n_clusters = 4)\n",
    "kmeans.fit(df[['Frequency']])\n",
    "df['Frequencycluster'] = kmeans.predict(df[['Frequency']])\n",
    "\n",
    "df = order_cluster('Frequencycluster', 'Frequency', df, True)\n",
    "df.groupby('Frequencycluster')['Frequency'].describe()"
   ]
  },
  {
   "cell_type": "code",
   "execution_count": 136,
   "id": "d7eb869b",
   "metadata": {},
   "outputs": [
    {
     "name": "stderr",
     "output_type": "stream",
     "text": [
      "/Users/jjeori/opt/anaconda3/lib/python3.9/site-packages/seaborn/distributions.py:2619: FutureWarning: `distplot` is a deprecated function and will be removed in a future version. Please adapt your code to use either `displot` (a figure-level function with similar flexibility) or `kdeplot` (an axes-level function for kernel density plots).\n",
      "  warnings.warn(msg, FutureWarning)\n"
     ]
    },
    {
     "data": {
      "image/png": "[encoded data removed]",
      "text/plain": [
       "<Figure size 864x432 with 1 Axes>"
      ]
     },
     "metadata": {},
     "output_type": "display_data"
    }
   ],
   "source": [
    "# 구매 빈도의 흐름 시각화\n",
    "sns.set(palette = 'muted', color_codes = True, style = 'white')\n",
    "fig, ax = plt.subplots(figsize = (12, 6))\n",
    "sns.despine(left = True)\n",
    "sns.distplot(df['Monetary'], hist = False)\n",
    "plt.show()"
   ]
  },
  {
   "cell_type": "code",
   "execution_count": 146,
   "id": "0e9c6cc7",
   "metadata": {},
   "outputs": [
    {
     "name": "stderr",
     "output_type": "stream",
     "text": [
      "/var/folders/c1/3m4yfnr1033cv80bgnw17ly00000gn/T/ipykernel_3412/1510517582.py:9: SettingWithCopyWarning: \n",
      "A value is trying to be set on a copy of a slice from a DataFrame.\n",
      "Try using .loc[row_indexer,col_indexer] = value instead\n",
      "\n",
      "See the caveats in the documentation: https://pandas.pydata.org/pandas-docs/stable/user_guide/indexing.html#returning-a-view-versus-a-copy\n",
      "  df_monetary['cluster'] = kmeans.labels_\n",
      "/var/folders/c1/3m4yfnr1033cv80bgnw17ly00000gn/T/ipykernel_3412/1510517582.py:9: SettingWithCopyWarning: \n",
      "A value is trying to be set on a copy of a slice from a DataFrame.\n",
      "Try using .loc[row_indexer,col_indexer] = value instead\n",
      "\n",
      "See the caveats in the documentation: https://pandas.pydata.org/pandas-docs/stable/user_guide/indexing.html#returning-a-view-versus-a-copy\n",
      "  df_monetary['cluster'] = kmeans.labels_\n",
      "/var/folders/c1/3m4yfnr1033cv80bgnw17ly00000gn/T/ipykernel_3412/1510517582.py:9: SettingWithCopyWarning: \n",
      "A value is trying to be set on a copy of a slice from a DataFrame.\n",
      "Try using .loc[row_indexer,col_indexer] = value instead\n",
      "\n",
      "See the caveats in the documentation: https://pandas.pydata.org/pandas-docs/stable/user_guide/indexing.html#returning-a-view-versus-a-copy\n",
      "  df_monetary['cluster'] = kmeans.labels_\n",
      "/var/folders/c1/3m4yfnr1033cv80bgnw17ly00000gn/T/ipykernel_3412/1510517582.py:9: SettingWithCopyWarning: \n",
      "A value is trying to be set on a copy of a slice from a DataFrame.\n",
      "Try using .loc[row_indexer,col_indexer] = value instead\n",
      "\n",
      "See the caveats in the documentation: https://pandas.pydata.org/pandas-docs/stable/user_guide/indexing.html#returning-a-view-versus-a-copy\n",
      "  df_monetary['cluster'] = kmeans.labels_\n",
      "/var/folders/c1/3m4yfnr1033cv80bgnw17ly00000gn/T/ipykernel_3412/1510517582.py:9: SettingWithCopyWarning: \n",
      "A value is trying to be set on a copy of a slice from a DataFrame.\n",
      "Try using .loc[row_indexer,col_indexer] = value instead\n",
      "\n",
      "See the caveats in the documentation: https://pandas.pydata.org/pandas-docs/stable/user_guide/indexing.html#returning-a-view-versus-a-copy\n",
      "  df_monetary['cluster'] = kmeans.labels_\n",
      "/var/folders/c1/3m4yfnr1033cv80bgnw17ly00000gn/T/ipykernel_3412/1510517582.py:9: SettingWithCopyWarning: \n",
      "A value is trying to be set on a copy of a slice from a DataFrame.\n",
      "Try using .loc[row_indexer,col_indexer] = value instead\n",
      "\n",
      "See the caveats in the documentation: https://pandas.pydata.org/pandas-docs/stable/user_guide/indexing.html#returning-a-view-versus-a-copy\n",
      "  df_monetary['cluster'] = kmeans.labels_\n",
      "/var/folders/c1/3m4yfnr1033cv80bgnw17ly00000gn/T/ipykernel_3412/1510517582.py:9: SettingWithCopyWarning: \n",
      "A value is trying to be set on a copy of a slice from a DataFrame.\n",
      "Try using .loc[row_indexer,col_indexer] = value instead\n",
      "\n",
      "See the caveats in the documentation: https://pandas.pydata.org/pandas-docs/stable/user_guide/indexing.html#returning-a-view-versus-a-copy\n",
      "  df_monetary['cluster'] = kmeans.labels_\n",
      "/var/folders/c1/3m4yfnr1033cv80bgnw17ly00000gn/T/ipykernel_3412/1510517582.py:9: SettingWithCopyWarning: \n",
      "A value is trying to be set on a copy of a slice from a DataFrame.\n",
      "Try using .loc[row_indexer,col_indexer] = value instead\n",
      "\n",
      "See the caveats in the documentation: https://pandas.pydata.org/pandas-docs/stable/user_guide/indexing.html#returning-a-view-versus-a-copy\n",
      "  df_monetary['cluster'] = kmeans.labels_\n",
      "/var/folders/c1/3m4yfnr1033cv80bgnw17ly00000gn/T/ipykernel_3412/1510517582.py:9: SettingWithCopyWarning: \n",
      "A value is trying to be set on a copy of a slice from a DataFrame.\n",
      "Try using .loc[row_indexer,col_indexer] = value instead\n",
      "\n",
      "See the caveats in the documentation: https://pandas.pydata.org/pandas-docs/stable/user_guide/indexing.html#returning-a-view-versus-a-copy\n",
      "  df_monetary['cluster'] = kmeans.labels_\n"
     ]
    },
    {
     "data": {
      "image/png": "[encoded data removed]",
      "text/plain": [
       "<Figure size 720x360 with 1 Axes>"
      ]
     },
     "metadata": {},
     "output_type": "display_data"
    }
   ],
   "source": [
    "# kmeans 계산하기 위한 elbow point구하기\n",
    "from sklearn.cluster import KMeans\n",
    "\n",
    "point = {}\n",
    "df_monetary = df[['Monetary']]\n",
    "\n",
    "for k in range(1, 10):\n",
    "    kmeans = KMeans(n_clusters = k, max_iter = 100).fit(df_monetary)\n",
    "    df_monetary['cluster'] = kmeans.labels_\n",
    "    point[k] = kmeans.inertia_\n",
    "\n",
    "plt.figure(figsize = (10, 5))\n",
    "plt.plot(list(point.keys()), list(point.values()))\n",
    "plt.xlabel(\"Number of cluster\")\n",
    "plt.show()"
   ]
  },
  {
   "cell_type": "code",
   "execution_count": 147,
   "id": "dd505ac9",
   "metadata": {
    "scrolled": true
   },
   "outputs": [
    {
     "data": {
      "text/html": [
       "<div>\n",
       "<style scoped>\n",
       "    .dataframe tbody tr th:only-of-type {\n",
       "        vertical-align: middle;\n",
       "    }\n",
       "\n",
       "    .dataframe tbody tr th {\n",
       "        vertical-align: top;\n",
       "    }\n",
       "\n",
       "    .dataframe thead th {\n",
       "        text-align: right;\n",
       "    }\n",
       "</style>\n",
       "<table border=\"1\" class=\"dataframe\">\n",
       "  <thead>\n",
       "    <tr style=\"text-align: right;\">\n",
       "      <th></th>\n",
       "      <th>count</th>\n",
       "      <th>mean</th>\n",
       "      <th>std</th>\n",
       "      <th>min</th>\n",
       "      <th>25%</th>\n",
       "      <th>50%</th>\n",
       "      <th>75%</th>\n",
       "      <th>max</th>\n",
       "    </tr>\n",
       "    <tr>\n",
       "      <th>Monetarycluster</th>\n",
       "      <th></th>\n",
       "      <th></th>\n",
       "      <th></th>\n",
       "      <th></th>\n",
       "      <th></th>\n",
       "      <th></th>\n",
       "      <th></th>\n",
       "      <th></th>\n",
       "    </tr>\n",
       "  </thead>\n",
       "  <tbody>\n",
       "    <tr>\n",
       "      <th>0</th>\n",
       "      <td>21879.0</td>\n",
       "      <td>2.260921e+05</td>\n",
       "      <td>1.924233e+05</td>\n",
       "      <td>1000.0</td>\n",
       "      <td>65000.0</td>\n",
       "      <td>162000.0</td>\n",
       "      <td>350000.0</td>\n",
       "      <td>728000.0</td>\n",
       "    </tr>\n",
       "    <tr>\n",
       "      <th>1</th>\n",
       "      <td>6129.0</td>\n",
       "      <td>1.232367e+06</td>\n",
       "      <td>3.713447e+05</td>\n",
       "      <td>729000.0</td>\n",
       "      <td>913000.0</td>\n",
       "      <td>1160000.0</td>\n",
       "      <td>1512000.0</td>\n",
       "      <td>2067000.0</td>\n",
       "    </tr>\n",
       "    <tr>\n",
       "      <th>2</th>\n",
       "      <td>2090.0</td>\n",
       "      <td>2.904660e+06</td>\n",
       "      <td>6.680070e+05</td>\n",
       "      <td>2069000.0</td>\n",
       "      <td>2336500.0</td>\n",
       "      <td>2749000.0</td>\n",
       "      <td>3339000.0</td>\n",
       "      <td>4611000.0</td>\n",
       "    </tr>\n",
       "    <tr>\n",
       "      <th>3</th>\n",
       "      <td>399.0</td>\n",
       "      <td>6.313095e+06</td>\n",
       "      <td>2.113694e+06</td>\n",
       "      <td>4614000.0</td>\n",
       "      <td>5036000.0</td>\n",
       "      <td>5648000.0</td>\n",
       "      <td>7001500.0</td>\n",
       "      <td>29720000.0</td>\n",
       "    </tr>\n",
       "  </tbody>\n",
       "</table>\n",
       "</div>"
      ],
      "text/plain": [
       "                   count          mean           std        min        25%  \\\n",
       "Monetarycluster                                                              \n",
       "0                21879.0  2.260921e+05  1.924233e+05     1000.0    65000.0   \n",
       "1                 6129.0  1.232367e+06  3.713447e+05   729000.0   913000.0   \n",
       "2                 2090.0  2.904660e+06  6.680070e+05  2069000.0  2336500.0   \n",
       "3                  399.0  6.313095e+06  2.113694e+06  4614000.0  5036000.0   \n",
       "\n",
       "                       50%        75%         max  \n",
       "Monetarycluster                                    \n",
       "0                 162000.0   350000.0    728000.0  \n",
       "1                1160000.0  1512000.0   2067000.0  \n",
       "2                2749000.0  3339000.0   4611000.0  \n",
       "3                5648000.0  7001500.0  29720000.0  "
      ]
     },
     "execution_count": 147,
     "metadata": {},
     "output_type": "execute_result"
    }
   ],
   "source": [
    "# 위 그래프를 통해서 elbow point는 4인 지점으로 설정\n",
    "kmeans = KMeans(n_clusters = 4)\n",
    "kmeans.fit(df[['Monetary']])\n",
    "df['Monetarycluster'] = kmeans.predict(df[['Monetary']])\n",
    "\n",
    "df = order_cluster('Monetarycluster', 'Monetary', df, True)\n",
    "df.groupby('Monetarycluster')['Monetary'].describe()"
   ]
  },
  {
   "cell_type": "code",
   "execution_count": 25,
   "id": "9a0f0f16",
   "metadata": {},
   "outputs": [],
   "source": [
    "import pandas as pd\n",
    "\n",
    "rfm = pd.read_csv(\"Desktop/RFM 통합.csv\", index_col = 0)"
   ]
  },
  {
   "cell_type": "code",
   "execution_count": 31,
   "id": "1d7a2f03",
   "metadata": {},
   "outputs": [
    {
     "data": {
      "text/html": [
       "<div>\n",
       "<style scoped>\n",
       "    .dataframe tbody tr th:only-of-type {\n",
       "        vertical-align: middle;\n",
       "    }\n",
       "\n",
       "    .dataframe tbody tr th {\n",
       "        vertical-align: top;\n",
       "    }\n",
       "\n",
       "    .dataframe thead th {\n",
       "        text-align: right;\n",
       "    }\n",
       "</style>\n",
       "<table border=\"1\" class=\"dataframe\">\n",
       "  <thead>\n",
       "    <tr style=\"text-align: right;\">\n",
       "      <th></th>\n",
       "      <th>person_id</th>\n",
       "      <th>Recency</th>\n",
       "      <th>Frequency</th>\n",
       "      <th>Monetary</th>\n",
       "      <th>age_group</th>\n",
       "      <th>person_gender</th>\n",
       "      <th>category</th>\n",
       "      <th>Recencycluster</th>\n",
       "      <th>Frequencycluster</th>\n",
       "      <th>Monetarycluster</th>\n",
       "    </tr>\n",
       "  </thead>\n",
       "  <tbody>\n",
       "    <tr>\n",
       "      <th>39314</th>\n",
       "      <td>00000981c283cfe1fbbab3ed85a1c203</td>\n",
       "      <td>21</td>\n",
       "      <td>4</td>\n",
       "      <td>85000</td>\n",
       "      <td>28</td>\n",
       "      <td>1</td>\n",
       "      <td>대형마트</td>\n",
       "      <td>3</td>\n",
       "      <td>0</td>\n",
       "      <td>0</td>\n",
       "    </tr>\n",
       "    <tr>\n",
       "      <th>39315</th>\n",
       "      <td>0000376b90eaaa09394dd9ff9b685347</td>\n",
       "      <td>42</td>\n",
       "      <td>10</td>\n",
       "      <td>179000</td>\n",
       "      <td>28</td>\n",
       "      <td>1</td>\n",
       "      <td>대형마트</td>\n",
       "      <td>3</td>\n",
       "      <td>0</td>\n",
       "      <td>0</td>\n",
       "    </tr>\n",
       "    <tr>\n",
       "      <th>39316</th>\n",
       "      <td>0004620a0561bc07f84a249bc8888896</td>\n",
       "      <td>22</td>\n",
       "      <td>9</td>\n",
       "      <td>121000</td>\n",
       "      <td>36</td>\n",
       "      <td>0</td>\n",
       "      <td>대형마트</td>\n",
       "      <td>3</td>\n",
       "      <td>0</td>\n",
       "      <td>0</td>\n",
       "    </tr>\n",
       "    <tr>\n",
       "      <th>39317</th>\n",
       "      <td>00150a79b44ff31f8cd37a2689b4966b</td>\n",
       "      <td>19</td>\n",
       "      <td>3</td>\n",
       "      <td>42000</td>\n",
       "      <td>32</td>\n",
       "      <td>0</td>\n",
       "      <td>대형마트</td>\n",
       "      <td>3</td>\n",
       "      <td>0</td>\n",
       "      <td>0</td>\n",
       "    </tr>\n",
       "    <tr>\n",
       "      <th>39318</th>\n",
       "      <td>0018545de82f6b606d0b50ec186007e0</td>\n",
       "      <td>29</td>\n",
       "      <td>4</td>\n",
       "      <td>120000</td>\n",
       "      <td>36</td>\n",
       "      <td>0</td>\n",
       "      <td>대형마트</td>\n",
       "      <td>3</td>\n",
       "      <td>0</td>\n",
       "      <td>0</td>\n",
       "    </tr>\n",
       "    <tr>\n",
       "      <th>...</th>\n",
       "      <td>...</td>\n",
       "      <td>...</td>\n",
       "      <td>...</td>\n",
       "      <td>...</td>\n",
       "      <td>...</td>\n",
       "      <td>...</td>\n",
       "      <td>...</td>\n",
       "      <td>...</td>\n",
       "      <td>...</td>\n",
       "      <td>...</td>\n",
       "    </tr>\n",
       "    <tr>\n",
       "      <th>71794</th>\n",
       "      <td>fd89fd1e3b14908b82f467f8c1d6524a</td>\n",
       "      <td>217</td>\n",
       "      <td>69</td>\n",
       "      <td>2367000</td>\n",
       "      <td>48</td>\n",
       "      <td>0</td>\n",
       "      <td>대형마트</td>\n",
       "      <td>1</td>\n",
       "      <td>2</td>\n",
       "      <td>3</td>\n",
       "    </tr>\n",
       "    <tr>\n",
       "      <th>71795</th>\n",
       "      <td>194c03d74bf8a72891b7d2900c68ce94</td>\n",
       "      <td>94</td>\n",
       "      <td>51</td>\n",
       "      <td>2512000</td>\n",
       "      <td>32</td>\n",
       "      <td>0</td>\n",
       "      <td>대형마트</td>\n",
       "      <td>2</td>\n",
       "      <td>2</td>\n",
       "      <td>3</td>\n",
       "    </tr>\n",
       "    <tr>\n",
       "      <th>71796</th>\n",
       "      <td>2eecf6fc7c9d943c00364f4974f52b79</td>\n",
       "      <td>82</td>\n",
       "      <td>68</td>\n",
       "      <td>2122000</td>\n",
       "      <td>60</td>\n",
       "      <td>0</td>\n",
       "      <td>대형마트</td>\n",
       "      <td>2</td>\n",
       "      <td>2</td>\n",
       "      <td>3</td>\n",
       "    </tr>\n",
       "    <tr>\n",
       "      <th>71797</th>\n",
       "      <td>669e2aaacc1de539ed390ff06c1527ed</td>\n",
       "      <td>133</td>\n",
       "      <td>52</td>\n",
       "      <td>2158000</td>\n",
       "      <td>52</td>\n",
       "      <td>0</td>\n",
       "      <td>대형마트</td>\n",
       "      <td>2</td>\n",
       "      <td>2</td>\n",
       "      <td>3</td>\n",
       "    </tr>\n",
       "    <tr>\n",
       "      <th>71798</th>\n",
       "      <td>94fdbdce4b5f3dd8ff415cd1d01241df</td>\n",
       "      <td>81</td>\n",
       "      <td>81</td>\n",
       "      <td>2116000</td>\n",
       "      <td>32</td>\n",
       "      <td>1</td>\n",
       "      <td>대형마트</td>\n",
       "      <td>2</td>\n",
       "      <td>2</td>\n",
       "      <td>3</td>\n",
       "    </tr>\n",
       "  </tbody>\n",
       "</table>\n",
       "<p>32485 rows × 10 columns</p>\n",
       "</div>"
      ],
      "text/plain": [
       "                              person_id  Recency  Frequency  Monetary  \\\n",
       "39314  00000981c283cfe1fbbab3ed85a1c203       21          4     85000   \n",
       "39315  0000376b90eaaa09394dd9ff9b685347       42         10    179000   \n",
       "39316  0004620a0561bc07f84a249bc8888896       22          9    121000   \n",
       "39317  00150a79b44ff31f8cd37a2689b4966b       19          3     42000   \n",
       "39318  0018545de82f6b606d0b50ec186007e0       29          4    120000   \n",
       "...                                 ...      ...        ...       ...   \n",
       "71794  fd89fd1e3b14908b82f467f8c1d6524a      217         69   2367000   \n",
       "71795  194c03d74bf8a72891b7d2900c68ce94       94         51   2512000   \n",
       "71796  2eecf6fc7c9d943c00364f4974f52b79       82         68   2122000   \n",
       "71797  669e2aaacc1de539ed390ff06c1527ed      133         52   2158000   \n",
       "71798  94fdbdce4b5f3dd8ff415cd1d01241df       81         81   2116000   \n",
       "\n",
       "       age_group  person_gender category  Recencycluster  Frequencycluster  \\\n",
       "39314         28              1     대형마트               3                 0   \n",
       "39315         28              1     대형마트               3                 0   \n",
       "39316         36              0     대형마트               3                 0   \n",
       "39317         32              0     대형마트               3                 0   \n",
       "39318         36              0     대형마트               3                 0   \n",
       "...          ...            ...      ...             ...               ...   \n",
       "71794         48              0     대형마트               1                 2   \n",
       "71795         32              0     대형마트               2                 2   \n",
       "71796         60              0     대형마트               2                 2   \n",
       "71797         52              0     대형마트               2                 2   \n",
       "71798         32              1     대형마트               2                 2   \n",
       "\n",
       "       Monetarycluster  \n",
       "39314                0  \n",
       "39315                0  \n",
       "39316                0  \n",
       "39317                0  \n",
       "39318                0  \n",
       "...                ...  \n",
       "71794                3  \n",
       "71795                3  \n",
       "71796                3  \n",
       "71797                3  \n",
       "71798                3  \n",
       "\n",
       "[32485 rows x 10 columns]"
      ]
     },
     "execution_count": 31,
     "metadata": {},
     "output_type": "execute_result"
    }
   ],
   "source": [
    "rfm[rfm['category'] == '대형마트']"
   ]
  },
  {
   "cell_type": "code",
   "execution_count": null,
   "id": "4c429c0e",
   "metadata": {},
   "outputs": [],
   "source": []
  }
 ],
 "metadata": {
  "kernelspec": {
   "display_name": "Python 3 (ipykernel)",
   "language": "python",
   "name": "python3"
  },
  "language_info": {
   "codemirror_mode": {
    "name": "ipython",
    "version": 3
   },
   "file_extension": ".py",
   "mimetype": "text/x-python",
   "name": "python",
   "nbconvert_exporter": "python",
   "pygments_lexer": "ipython3",
   "version": "3.9.7"
  }
 },
 "nbformat": 4,
 "nbformat_minor": 5
}
