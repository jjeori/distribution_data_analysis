{
 "cells": [
  {
   "cell_type": "markdown",
   "id": "11773de0",
   "metadata": {},
   "source": [
    "### RFM 고객 분석\n",
    "1. 식료품 구매하는 소비자들을 분석 목적\n",
    "2. 오프라인과 온라인을 나눠서 분석하고 어떤 차이점이 있는지 확인하기\n",
    "3. 추가적으로 오프라인에서도 대형마트와 일만 마트가 구분되기 때문에 이에 대한 분석도 가능할 듯\n",
    "\n",
    "참고문헌: https://zephyrus1111.tistory.com/13"
   ]
  },
  {
   "cell_type": "code",
   "execution_count": null,
   "id": "290af889",
   "metadata": {},
   "outputs": [],
   "source": [
    "import pandas as pd\n",
    "\n",
    "card_filter_data = pd.read_csv(\"Desktop/card_data_filter.csv\")"
   ]
  },
  {
   "cell_type": "code",
   "execution_count": null,
   "id": "c5fe49c3",
   "metadata": {},
   "outputs": [],
   "source": [
    "# online과 offline으로 분류하기\n",
    "offline = card_filter_data[card_filter_data['large_category'] == '생활/마트']\n",
    "online = card_filter_data[card_filter_data['large_category'] == '온라인쇼핑']"
   ]
  },
  {
   "cell_type": "code",
   "execution_count": null,
   "id": "4fc16cdc",
   "metadata": {},
   "outputs": [],
   "source": [
    "# offline의 pay_date 타입 변환하기\n",
    "offline['pay_date'] = pd.to_datetime(offline['pay_date'])"
   ]
  },
  {
   "cell_type": "code",
   "execution_count": null,
   "id": "25c103de",
   "metadata": {},
   "outputs": [],
   "source": [
    "# 오프라인 거래 데이터에서 고객별로 최근 방문일, 방문횟수, 구매금액 기준으로 점수를 구하기\n",
    "# tqdm은 for loop를 실행할 때 progress bar를 출력해주는 모듈, 이를 통해 남은 시간을 파악 가능\n",
    "from tqdm import tqdm\n",
    "\n",
    "# 중복 제거된 고객 아이디\n",
    "customer_id = list(offline['person_id'].unique())\n",
    "\n",
    "# 각 고객별로 구매금액 얼마인지 파악하기\n",
    "monetary_df = pd.DataFrame() # 빈 데이터 프레임 생성\n",
    "monetary_df['person_id'] = customer_id # 고객아이디 삽입\n",
    "\n",
    "monetary_data = [] # 구매금액 담을 리스트"
   ]
  },
  {
   "cell_type": "code",
   "execution_count": null,
   "id": "d07d7b2c",
   "metadata": {},
   "outputs": [],
   "source": [
    "# 고객별 총 구매금액 넣기\n",
    "for ci in tqdm(customer_id):\n",
    "    temp = offline.query('person_id == @ci') # 해당 아이디의 고객 데이터 추출\n",
    "    amount = sum(temp['amount'])\n",
    "    monetary_data.append(amount)\n",
    "    \n",
    "monetary_df['Monetary'] = monetary_data"
   ]
  },
  {
   "cell_type": "code",
   "execution_count": null,
   "id": "67e3480a",
   "metadata": {},
   "outputs": [],
   "source": [
    "# recency 각 고객별 최근방문일 알아보기\n",
    "temp_recency_df = offline[['person_id', 'pay_date']].drop_duplicates()\n",
    "recency_df = temp_recency_df.groupby('person_id')['pay_date'].max().reset_index()\n",
    "recency_df = recency_df.rename(columns = {'pay_date': 'Recency'})"
   ]
  },
  {
   "cell_type": "code",
   "execution_count": null,
   "id": "fc344de0",
   "metadata": {},
   "outputs": [],
   "source": [
    "# Frequency 각 고객별 방문횟수를 알아보기\n",
    "temp_frequency_df = offline[['person_id', 'pay_date']].drop_duplicates()\n",
    "frequency_df = temp_frequency_df.groupby('person_id')['pay_date'].nunique().reset_index()\n",
    "frequency_df = frequency_df.rename(columns = {'paydate' : 'Frequency'})"
   ]
  },
  {
   "cell_type": "code",
   "execution_count": null,
   "id": "699f7baf",
   "metadata": {},
   "outputs": [],
   "source": [
    "# monetary_df 칼럼명 변경하기\n",
    "monetary_df = monetary_df.rename(columns = {'Customer_ID' : 'person_id'})"
   ]
  },
  {
   "cell_type": "code",
   "execution_count": null,
   "id": "3d5a1003",
   "metadata": {},
   "outputs": [],
   "source": [
    "# 각 df 병합하기\n",
    "rfm_df = pd.merge(recency_df, frequency_df, how = 'left', on = 'person_id')\n",
    "rfm_df = pd.merge(rfm_df, monetary_df, how = 'left', on = 'person_id')"
   ]
  },
  {
   "cell_type": "code",
   "execution_count": null,
   "id": "5a4073ab",
   "metadata": {},
   "outputs": [],
   "source": [
    "# F, M은 정수형태라 점수를 매기기 쉽지만, R는 날짜 형식이라 점수를 매기는데 무리가 있다. 따라서 추가적인 작업 필요\n",
    "# 1단계: 기준시간 설정 / 2단계: 시간차이 계산 / 3단계 초단위로 변환\n",
    "rfm_df.info()"
   ]
  },
  {
   "cell_type": "code",
   "execution_count": null,
   "id": "e91601af",
   "metadata": {},
   "outputs": [],
   "source": [
    "rfm_df"
   ]
  },
  {
   "cell_type": "code",
   "execution_count": null,
   "id": "b7bdeda4",
   "metadata": {},
   "outputs": [],
   "source": [
    "# 기준시간은 어떻게 잡을까?\n",
    "# 시간의 크기는 크게 잡는다. 이유는 빈도, 가격 또한 클수록 큰 점수를 부여하기 때문에 동일하게 설정\n",
    "# 2022-06-01로 설정 Recency의 min: 2022-07-01 max: 2023-06-30\n",
    "\n",
    "current_day = pd.to_datetime('20220601')\n",
    "time_diff = rfm_df['Recency']-current_day\n",
    "time_in_seconds = [x.total_seconds() for x in time_diff] # total_seconds() 함수는 시간 차이를 초단위로 변환해준다.\n",
    "rfm_df['Recency'] = time_in_seconds # 데이터 삽입하기"
   ]
  },
  {
   "cell_type": "code",
   "execution_count": null,
   "id": "ab783660",
   "metadata": {},
   "outputs": [],
   "source": [
    "rfm_df.to_csv(\"Desktop/rfm_df.csv\")"
   ]
  },
  {
   "cell_type": "code",
   "execution_count": null,
   "id": "a2c764ec",
   "metadata": {},
   "outputs": [],
   "source": [
    "from tqdm import tqdm\n",
    "rfm_df = pd.read_csv(\"Desktop/rfm_df.csv\")"
   ]
  },
  {
   "cell_type": "code",
   "execution_count": null,
   "id": "d29e6e2e",
   "metadata": {},
   "outputs": [],
   "source": [
    "rfm_df"
   ]
  },
  {
   "cell_type": "code",
   "execution_count": null,
   "id": "31865db5",
   "metadata": {},
   "outputs": [],
   "source": [
    "# online의 pay_date 타입 변환하기\n",
    "online['pay_date'] = pd.to_datetime(online['pay_date'])"
   ]
  },
  {
   "cell_type": "code",
   "execution_count": null,
   "id": "03c2b775",
   "metadata": {},
   "outputs": [],
   "source": [
    "# 온라인 거래 데이터에서 고객별로 최근 방문일, 방문횟수, 구매금액 기준으로 점수를 구하기\n",
    "# tqdm은 for loop를 실행할 때 progress bar를 출력해주는 모듈, 이를 통해 남은 시간을 파악 가능\n",
    "from tqdm import tqdm\n",
    "\n",
    "# 중복 제거된 고객 아이디\n",
    "customer_id = list(online['person_id'].unique())\n",
    "\n",
    "# 각 고객별로 구매금액 얼마인지 파악하기\n",
    "monetary_df = pd.DataFrame() # 빈 데이터 프레임 생성\n",
    "monetary_df['person_id'] = customer_id # 고객아이디 삽입\n",
    "\n",
    "monetary_data = [] # 구매금액 담을 리스트"
   ]
  },
  {
   "cell_type": "code",
   "execution_count": null,
   "id": "bdeca518",
   "metadata": {},
   "outputs": [],
   "source": [
    "# 고객별 총 구매금액 넣기\n",
    "for ci in tqdm(customer_id):\n",
    "    temp = online.query('person_id == @ci') # 해당 아이디의 고객 데이터 추출\n",
    "    amount = sum(temp['amount'])\n",
    "    monetary_data.append(amount)\n",
    "    \n",
    "monetary_df['Monetary'] = monetary_data"
   ]
  },
  {
   "cell_type": "code",
   "execution_count": null,
   "id": "f6b63cb9",
   "metadata": {},
   "outputs": [],
   "source": [
    "# recency 각 고객별 최근방문일 알아보기\n",
    "temp_recency_df = online[['person_id', 'pay_date']].drop_duplicates()\n",
    "recency_df = temp_recency_df.groupby('person_id')['pay_date'].max().reset_index()\n",
    "recency_df = recency_df.rename(columns = {'pay_date': 'Recency'})"
   ]
  },
  {
   "cell_type": "code",
   "execution_count": null,
   "id": "509ce1f7",
   "metadata": {},
   "outputs": [],
   "source": [
    "# Frequency 각 고객별 방문횟수를 알아보기\n",
    "temp_frequency_df = online[['person_id', 'pay_date']].drop_duplicates()\n",
    "frequency_df = temp_frequency_df.groupby('person_id')['pay_date'].nunique().reset_index()\n",
    "frequency_df = frequency_df.rename(columns = {'paydate' : 'Frequency'})"
   ]
  },
  {
   "cell_type": "code",
   "execution_count": null,
   "id": "df917c6f",
   "metadata": {},
   "outputs": [],
   "source": [
    "# 각 df 병합하기\n",
    "rfm_df = pd.merge(recency_df, frequency_df, how = 'left', on = 'person_id')\n",
    "rfm_df = pd.merge(rfm_df, monetary_df, how = 'left', on = 'person_id')"
   ]
  },
  {
   "cell_type": "code",
   "execution_count": null,
   "id": "8623af31",
   "metadata": {},
   "outputs": [],
   "source": [
    "# Recency 변환하기\n",
    "current_date = pd.to_datetime(\"20230701\")\n",
    "time_diff = current_date - rfm_df['Recency']\n",
    "time_diff_days = [x.days for x in time_diff]\n",
    "rfm_df['Recency'] = time_diff_days"
   ]
  },
  {
   "cell_type": "code",
   "execution_count": null,
   "id": "391df0ef",
   "metadata": {},
   "outputs": [],
   "source": [
    "# 성별, 나이 추가하기\n",
    "info_df = online[['person_id', 'age_group', 'person_gender']].drop_duplicates()"
   ]
  },
  {
   "cell_type": "code",
   "execution_count": null,
   "id": "6f96783a",
   "metadata": {},
   "outputs": [],
   "source": [
    "rfm_online = pd.merge(rfm_df, info_df, how = 'left', on = 'person_id')"
   ]
  },
  {
   "cell_type": "code",
   "execution_count": null,
   "id": "21a2cc9b",
   "metadata": {},
   "outputs": [],
   "source": [
    "rfm_online.to_csv(\"Desktop/rfm_online.csv\")"
   ]
  },
  {
   "cell_type": "markdown",
   "id": "efdc5829",
   "metadata": {},
   "source": [
    "### RFM_offline 데이터 추가하기\n",
    "> 기존 RFM 값에서 성별, 연령 추가"
   ]
  },
  {
   "cell_type": "code",
   "execution_count": null,
   "id": "8f33ac3a",
   "metadata": {},
   "outputs": [],
   "source": [
    "rfm_offline = pd.read_csv(\"Desktop/rfm_offline.csv\")\n",
    "rfm_offline.drop(['Unnamed: 0'], axis = 1, inplace = True)"
   ]
  },
  {
   "cell_type": "code",
   "execution_count": null,
   "id": "642ca49d",
   "metadata": {},
   "outputs": [],
   "source": [
    "info_off = offline[['person_id', 'age_group', 'person_gender']].drop_duplicates()"
   ]
  },
  {
   "cell_type": "code",
   "execution_count": null,
   "id": "0e6a1137",
   "metadata": {},
   "outputs": [],
   "source": [
    "rfm_offline = pd.merge(rfm_offline, info_off, how = 'left', on = 'person_id')"
   ]
  },
  {
   "cell_type": "code",
   "execution_count": null,
   "id": "8bff8df3",
   "metadata": {},
   "outputs": [],
   "source": [
    "rfm_offline.to_csv(\"Desktop/rfm_offline.csv\")"
   ]
  },
  {
   "cell_type": "code",
   "execution_count": null,
   "id": "987c84c0",
   "metadata": {},
   "outputs": [],
   "source": [
    "rfm_offline"
   ]
  },
  {
   "cell_type": "markdown",
   "id": "3938f059",
   "metadata": {},
   "source": [
    "### 편의점 RFM 고객 분석"
   ]
  },
  {
   "cell_type": "code",
   "execution_count": null,
   "id": "1d8946ea",
   "metadata": {
    "scrolled": false
   },
   "outputs": [],
   "source": [
    "# pay_date 데이터 타입 변환하기\n",
    "convenience_df['pay_date'] = pd.to_datetime(convenience_df['pay_date'])"
   ]
  },
  {
   "cell_type": "code",
   "execution_count": null,
   "id": "01e2c553",
   "metadata": {},
   "outputs": [],
   "source": [
    "# 중복 제거된 고객 아이디\n",
    "customer_id = list(convenience_df['person_id'].unique())\n",
    "\n",
    "# 고객별 구매금액 얼마인지 파악하기\n",
    "monetary_df = pd.DataFrame()\n",
    "monetary_df['person_id'] = customer_id\n",
    "\n",
    "monetary_data = [] # 구매금액 담을 리스트"
   ]
  },
  {
   "cell_type": "code",
   "execution_count": null,
   "id": "db7c4672",
   "metadata": {},
   "outputs": [],
   "source": [
    "# 고객별 총 구매금액 구하기\n",
    "for ci in tqdm(customer_id):\n",
    "    temp = convenience_df.query('person_id == @ci')\n",
    "    amount = sum(temp['amount'])\n",
    "    monetary_data.append(amount)\n",
    "    \n",
    "monetary_df['Monetary'] = monetary_data"
   ]
  },
  {
   "cell_type": "code",
   "execution_count": null,
   "id": "e2552ecc",
   "metadata": {},
   "outputs": [],
   "source": [
    "# recency 각 고객별 최근방문일 알아보기\n",
    "temp_recency_df = convenience_df[['person_id', 'pay_date']].drop_duplicates()\n",
    "recency_df = temp_recency_df.groupby('person_id')['pay_date'].max().reset_index()\n",
    "recency_df = recency_df.rename(columns = {'pay_date' : 'Recency'})"
   ]
  },
  {
   "cell_type": "code",
   "execution_count": null,
   "id": "525f2511",
   "metadata": {},
   "outputs": [],
   "source": [
    "# Frequency 각 고객별 방문횟수 알아보기\n",
    "temp_frequency_df = convenience_df[['person_id', 'pay_date']].drop_duplicates()\n",
    "frequency_df = temp_frequency_df.groupby('person_id')['pay_date'].nunique().reset_index()\n",
    "frequency_df = frequency_df.rename(columns = {'pay_date' : 'Frequency'})"
   ]
  },
  {
   "cell_type": "code",
   "execution_count": null,
   "id": "2f00a761",
   "metadata": {},
   "outputs": [],
   "source": [
    "# 각 df 병합하기\n",
    "convenience_rfm = pd.merge(recency_df, frequency_df, how = 'left', on = 'person_id')\n",
    "convenience_rfm = pd.merge(convenience_rfm, monetary_df, how = 'left', on = 'person_id')"
   ]
  },
  {
   "cell_type": "code",
   "execution_count": null,
   "id": "35b1f358",
   "metadata": {},
   "outputs": [],
   "source": [
    "# Recency day로 변환하기\n",
    "\n",
    "# 최근 날짜 설정\n",
    "current_date = pd.to_datetime('20230701')\n",
    "\n",
    "# 날짜 차이 구하기\n",
    "time_diff = current_date - convenience_rfm['Recency']\n",
    "\n",
    "# 날짜 day로 변환\n",
    "time_in_days = [x.days for x in time_diff]\n",
    "\n",
    "# 변환한 날짜로 교체하기\n",
    "convenience_rfm['Recency'] = time_in_days"
   ]
  },
  {
   "cell_type": "code",
   "execution_count": null,
   "id": "71f4d3b0",
   "metadata": {},
   "outputs": [],
   "source": [
    "# 성별 / 나이 / 편의점 추가하기\n",
    "info_df = convenience_df[['person_id', 'age_group', 'person_gender']].drop_duplicates()\n",
    "\n",
    "convenience_rfm = pd.merge(convenience_rfm, info_df, how = 'left', on = 'person_id')"
   ]
  },
  {
   "cell_type": "code",
   "execution_count": null,
   "id": "99e6d0d2",
   "metadata": {},
   "outputs": [],
   "source": [
    "convenience_rfm['category'] = '편의점'"
   ]
  },
  {
   "cell_type": "code",
   "execution_count": null,
   "id": "3f34fd32",
   "metadata": {},
   "outputs": [],
   "source": [
    "convenience_rfm.to_csv(\"Desktop/convenience_rfm.csv\")"
   ]
  },
  {
   "cell_type": "markdown",
   "id": "b18d80b3",
   "metadata": {},
   "source": [
    "### 대형마트 RFM 고객 분석"
   ]
  },
  {
   "cell_type": "code",
   "execution_count": null,
   "id": "55a0db25",
   "metadata": {},
   "outputs": [],
   "source": [
    "# pay_date 데이터 타입 변환하기\n",
    "bigmart_df['pay_date'] = pd.to_datetime(bigmart_df['pay_date'])"
   ]
  },
  {
   "cell_type": "code",
   "execution_count": null,
   "id": "6083fdfc",
   "metadata": {},
   "outputs": [],
   "source": [
    "# 중복 제거된 고객 아이디\n",
    "customer_id = list(bigmart_df['person_id'].unique())\n",
    "\n",
    "# 고객별 구매금액 얼마인지 파악하기\n",
    "monetary_df = pd.DataFrame()\n",
    "monetary_df['person_id'] = customer_id\n",
    "\n",
    "monetary_data = [] # 구매금액 담을 리스트"
   ]
  },
  {
   "cell_type": "code",
   "execution_count": null,
   "id": "2a4531f9",
   "metadata": {},
   "outputs": [],
   "source": [
    "# 고객별 총 구매금액 구하기\n",
    "for ci in tqdm(customer_id):\n",
    "    temp = bigmart_df.query('person_id == @ci')\n",
    "    amount = sum(temp['amount'])\n",
    "    monetary_data.append(amount)\n",
    "    \n",
    "monetary_df['Monetary'] = monetary_data"
   ]
  },
  {
   "cell_type": "code",
   "execution_count": null,
   "id": "0dcb0fe5",
   "metadata": {},
   "outputs": [],
   "source": [
    "# recency 각 고객별 최근방문일 알아보기\n",
    "temp_recency_df = bigmart_df[['person_id', 'pay_date']].drop_duplicates()\n",
    "recency_df = temp_recency_df.groupby('person_id')['pay_date'].max().reset_index()\n",
    "recency_df = recency_df.rename(columns = {'pay_date' : 'Recency'})"
   ]
  },
  {
   "cell_type": "code",
   "execution_count": null,
   "id": "24005e8e",
   "metadata": {},
   "outputs": [],
   "source": [
    "# Frequency 각 고객별 방문횟수 알아보기\n",
    "temp_frequency_df = bigmart_df[['person_id', 'pay_date']].drop_duplicates()\n",
    "frequency_df = temp_frequency_df.groupby('person_id')['pay_date'].nunique().reset_index()\n",
    "frequency_df = frequency_df.rename(columns = {'pay_date' : 'Frequency'})"
   ]
  },
  {
   "cell_type": "code",
   "execution_count": null,
   "id": "b5f2d6bf",
   "metadata": {},
   "outputs": [],
   "source": [
    "# 각 df 병합하기\n",
    "bigmart_rfm = pd.merge(recency_df, frequency_df, how = 'left', on = 'person_id')\n",
    "bigmart_rfm = pd.merge(bigmart_rfm, monetary_df, how = 'left', on = 'person_id')"
   ]
  },
  {
   "cell_type": "code",
   "execution_count": null,
   "id": "d922f9ae",
   "metadata": {},
   "outputs": [],
   "source": [
    "# Recency day로 변환하기\n",
    "\n",
    "# 최근 날짜 설정\n",
    "current_date = pd.to_datetime('20230701')\n",
    "\n",
    "# 날짜 차이 구하기\n",
    "time_diff = current_date - bigmart_rfm['Recency']\n",
    "\n",
    "# 날짜 day로 변환\n",
    "time_in_days = [x.days for x in time_diff]\n",
    "\n",
    "# 변환한 날짜로 교체하기\n",
    "bigmart_rfm['Recency'] = time_in_days"
   ]
  },
  {
   "cell_type": "code",
   "execution_count": null,
   "id": "7de55649",
   "metadata": {},
   "outputs": [],
   "source": [
    "# 성별 / 나이 / 편의점 추가하기\n",
    "info_df = bigmart_df[['person_id', 'age_group', 'person_gender']].drop_duplicates()\n",
    "\n",
    "bigmart_rfm = pd.merge(bigmart_rfm, info_df, how = 'left', on = 'person_id')\n",
    "\n",
    "bigmart_rfm['category'] = '대형마트'"
   ]
  },
  {
   "cell_type": "code",
   "execution_count": null,
   "id": "32e5d9b8",
   "metadata": {},
   "outputs": [],
   "source": [
    "bigmart_rfm.to_csv(\"Desktop/bigmart_rfm.csv\")"
   ]
  },
  {
   "cell_type": "markdown",
   "id": "30bf5c07",
   "metadata": {},
   "source": [
    "### 마트 RFM 고객 분석"
   ]
  },
  {
   "cell_type": "code",
   "execution_count": null,
   "id": "6aec9ff5",
   "metadata": {},
   "outputs": [],
   "source": [
    "# pay_date 데이터 타입 변환하기\n",
    "smallmart_df['pay_date'] = pd.to_datetime(smallmart_df['pay_date'])"
   ]
  },
  {
   "cell_type": "code",
   "execution_count": null,
   "id": "1fe5c726",
   "metadata": {},
   "outputs": [],
   "source": [
    "# 중복 제거된 고객 아이디\n",
    "customer_id = list(smallmart_df['person_id'].unique())\n",
    "\n",
    "# 고객별 구매금액 얼마인지 파악하기\n",
    "monetary_df = pd.DataFrame()\n",
    "monetary_df['person_id'] = customer_id\n",
    "\n",
    "monetary_data = [] # 구매금액 담을 리스트"
   ]
  },
  {
   "cell_type": "code",
   "execution_count": null,
   "id": "7b4b768a",
   "metadata": {},
   "outputs": [],
   "source": [
    "# 고객별 총 구매금액 구하기\n",
    "for ci in tqdm(customer_id):\n",
    "    temp = smallmart_df.query('person_id == @ci')\n",
    "    amount = sum(temp['amount'])\n",
    "    monetary_data.append(amount)\n",
    "    \n",
    "monetary_df['Monetary'] = monetary_data"
   ]
  },
  {
   "cell_type": "code",
   "execution_count": null,
   "id": "12c038d0",
   "metadata": {},
   "outputs": [],
   "source": [
    "# recency 각 고객별 최근방문일 알아보기\n",
    "temp_recency_df = smallmart_df[['person_id', 'pay_date']].drop_duplicates()\n",
    "recency_df = temp_recency_df.groupby('person_id')['pay_date'].max().reset_index()\n",
    "recency_df = recency_df.rename(columns = {'pay_date' : 'Recency'})"
   ]
  },
  {
   "cell_type": "code",
   "execution_count": null,
   "id": "0566ed74",
   "metadata": {},
   "outputs": [],
   "source": [
    "# Frequency 각 고객별 방문횟수 알아보기\n",
    "temp_frequency_df = smallmart_df[['person_id', 'pay_date']].drop_duplicates()\n",
    "frequency_df = temp_frequency_df.groupby('person_id')['pay_date'].nunique().reset_index()\n",
    "frequency_df = frequency_df.rename(columns = {'pay_date' : 'Frequency'})"
   ]
  },
  {
   "cell_type": "code",
   "execution_count": null,
   "id": "904a1ae6",
   "metadata": {},
   "outputs": [],
   "source": [
    "# 각 df 병합하기\n",
    "smallmart_rfm = pd.merge(recency_df, frequency_df, how = 'left', on = 'person_id')\n",
    "smallmart_rfm = pd.merge(smallmart_rfm, monetary_df, how = 'left', on = 'person_id')"
   ]
  },
  {
   "cell_type": "code",
   "execution_count": null,
   "id": "5ebcf093",
   "metadata": {},
   "outputs": [],
   "source": [
    "# Recency day로 변환하기\n",
    "\n",
    "# 최근 날짜 설정\n",
    "current_date = pd.to_datetime('20230701')\n",
    "\n",
    "# 날짜 차이 구하기\n",
    "time_diff = current_date - smallmart_rfm['Recency']\n",
    "\n",
    "# 날짜 day로 변환\n",
    "time_in_days = [x.days for x in time_diff]\n",
    "\n",
    "# 변환한 날짜로 교체하기\n",
    "smallmart_rfm['Recency'] = time_in_days"
   ]
  },
  {
   "cell_type": "code",
   "execution_count": null,
   "id": "67024898",
   "metadata": {},
   "outputs": [],
   "source": [
    "# 성별 / 나이 / 편의점 추가하기\n",
    "info_df = smallmart_df[['person_id', 'age_group', 'person_gender']].drop_duplicates()\n",
    "\n",
    "smallmart_rfm = pd.merge(smallmart_rfm, info_df, how = 'left', on = 'person_id')\n",
    "\n",
    "smallmart_rfm['category'] = '슈퍼마켓'"
   ]
  },
  {
   "cell_type": "code",
   "execution_count": null,
   "id": "d990d3ca",
   "metadata": {},
   "outputs": [],
   "source": [
    "smallmart_rfm.to_csv(\"Desktop/smallmart_rfm.csv\")"
   ]
  },
  {
   "cell_type": "markdown",
   "id": "304c4b48",
   "metadata": {},
   "source": [
    "### RFM 각 변수에 대한 점수별 기준 산정\n",
    "참고자료: https://stelch.tistory.com/pages/CRM-RFM-%EA%B3%A0%EA%B0%9D%EA%B0%80%EC%B9%98%EB%B6%84%EC%84%9D-feat-%ED%8C%8C%EC%9D%B4%EC%8D%AC-%ED%99%9C%EC%9A%A9"
   ]
  },
  {
   "cell_type": "code",
   "execution_count": null,
   "id": "b6cf3049",
   "metadata": {},
   "outputs": [],
   "source": [
    "import pandas as pd\n",
    "import numpy as np\n",
    "import matplotlib.pyplot as plt\n",
    "from matplotlib import style\n",
    "import seaborn as sns\n",
    "from datetime import datetime\n",
    "from tqdm import tqdm\n",
    "\n",
    "# 데이터 불러오기\n",
    "c_rfm = pd.read_csv(\"Desktop/convenience_rfm.csv\")\n",
    "b_rfm = pd.read_csv(\"Desktop/bigmart_rfm.csv\")\n",
    "s_rfm = pd.read_csv(\"Desktop/smallmart_rfm.csv\")"
   ]
  },
  {
   "cell_type": "code",
   "execution_count": null,
   "id": "3f768ebb",
   "metadata": {},
   "outputs": [],
   "source": [
    "# 편의점 최근 구매 날짜\n",
    "# 평균적으로 고객 한 명당 최근에 구매한 날짜는 109일 전\n",
    "c_rfm.Recency.describe()"
   ]
  },
  {
   "cell_type": "code",
   "execution_count": null,
   "id": "d29653ad",
   "metadata": {},
   "outputs": [],
   "source": [
    "# 시간 차이의 흐름 시각화\n",
    "sns.set(palette = 'muted', color_codes = True, style = 'white')\n",
    "fig, ax = plt.subplots(figsize = (12, 6))\n",
    "sns.despine(left = True)\n",
    "sns.distplot(c_rfm['Recency'], bins = 30)\n",
    "plt.show()\n",
    "\n",
    "# 최근 결제 수가 많다는 걸 알 수 있다."
   ]
  },
  {
   "cell_type": "code",
   "execution_count": null,
   "id": "6274818f",
   "metadata": {},
   "outputs": [],
   "source": [
    "# kmeans 계산하기 위한 elbow point구하기\n",
    "from sklearn.cluster import KMeans\n",
    "\n",
    "point = {}\n",
    "df_recency = c_rfm[['Recency']]\n",
    "\n",
    "for k in range(1, 10):\n",
    "    kmeans = KMeans(n_clusters = k, max_iter = 100).fit(df_recency)\n",
    "    df_recency['cluster'] = kmeans.labels_\n",
    "    point[k] = kmeans.inertia_\n",
    "\n",
    "plt.plot(list(point.keys()), list(point.values()))\n",
    "plt.show()"
   ]
  },
  {
   "cell_type": "code",
   "execution_count": null,
   "id": "bb20a744",
   "metadata": {},
   "outputs": [],
   "source": [
    "# 위 그래프를 통해서 elbow point는 4인 지점으로 설정\n",
    "kmeans = KMeans(n_clusters = 4)\n",
    "kmeans.fit(c_rfm[['Recency']])\n",
    "c_rfm['Recencycluster'] = kmeans.predict(c_rfm[['Recency']])\n",
    "\n",
    "# cluster 분석 모형\n",
    "def order_cluster(cluster_field_name, target_field_name, df, ascending):\n",
    "    df_new = df.groupby(cluster_field_name)[target_field_name].mean().reset_index()\n",
    "    df_new = df_new.sort_values(by = target_field_name, ascending = ascending).reset_index(drop = True)\n",
    "    df_new['index'] = df_new.index\n",
    "    df_final = pd.merge(df, df_new[[cluster_field_name, 'index']], on = cluster_field_name)\n",
    "    df_final = df_final.drop([cluster_field_name], axis = 1)\n",
    "    df_final = df_final.rename(columns = {\"index\" : cluster_field_name})\n",
    "    return df_final\n",
    "\n",
    "c_rfm = order_cluster('Recencycluster', 'Recency', c_rfm, False)\n",
    "c_rfm.groupby('Recencycluster')['Recency'].describe()"
   ]
  },
  {
   "cell_type": "code",
   "execution_count": null,
   "id": "a5c6c7a4",
   "metadata": {},
   "outputs": [],
   "source": [
    "# Frequency 도출을 위한 데이터 추출\n",
    "c_rfm.Frequency.describe()"
   ]
  },
  {
   "cell_type": "code",
   "execution_count": null,
   "id": "b21aaf4c",
   "metadata": {},
   "outputs": [],
   "source": [
    "# 구매 빈도의 흐름 시각화\n",
    "sns.set(palette = 'muted', color_codes = True, style = 'whitegrid')\n",
    "fig, ax = plt.subplots(figsize = (12, 6))\n",
    "sns.despine(left = True)\n",
    "sns.distplot(c_rfm['Frequency'], bins = 30)\n",
    "plt.show()"
   ]
  },
  {
   "cell_type": "code",
   "execution_count": null,
   "id": "052ed7d6",
   "metadata": {},
   "outputs": [],
   "source": [
    "# kmeans 계산하기 위한 elbow point구하기\n",
    "from sklearn.cluster import KMeans\n",
    "\n",
    "point = {}\n",
    "df_frequency = c_rfm[['Frequency']]\n",
    "\n",
    "for k in range(1, 10):\n",
    "    kmeans = KMeans(n_clusters = k, max_iter = 100).fit(df_frequency)\n",
    "    df_frequency['cluster'] = kmeans.labels_\n",
    "    point[k] = kmeans.inertia_\n",
    "\n",
    "plt.figure(figsize = (10, 5))\n",
    "plt.plot(list(point.keys()), list(point.values()))\n",
    "plt.xlabel(\"Number of cluster\")\n",
    "plt.show()"
   ]
  },
  {
   "cell_type": "code",
   "execution_count": null,
   "id": "04baf452",
   "metadata": {},
   "outputs": [],
   "source": [
    "# 위 그래프를 통해서 elbow point는 4인 지점으로 설정\n",
    "kmeans = KMeans(n_clusters = 4)\n",
    "kmeans.fit(c_rfm[['Frequency']])\n",
    "c_rfm['Frequencycluster'] = kmeans.predict(c_rfm[['Frequency']])\n",
    "\n",
    "c_rfm = order_cluster('Frequencycluster', 'Frequency', c_rfm, True)\n",
    "c_rfm.groupby('Frequencycluster')['Frequency'].describe()"
   ]
  },
  {
   "cell_type": "code",
   "execution_count": null,
   "id": "f7378210",
   "metadata": {},
   "outputs": [],
   "source": [
    "# Monetary 도출을 위한 데이터 추출\n",
    "c_rfm.Monetary.describe()"
   ]
  },
  {
   "cell_type": "code",
   "execution_count": null,
   "id": "4407b635",
   "metadata": {},
   "outputs": [],
   "source": [
    "# 구매 빈도의 흐름 시각화\n",
    "sns.set(palette = 'muted', color_codes = True, style = 'white')\n",
    "fig, ax = plt.subplots(figsize = (12, 6))\n",
    "sns.despine(left = True)\n",
    "sns.distplot(c_rfm['Monetary'], hist = False)\n",
    "plt.show()"
   ]
  },
  {
   "cell_type": "code",
   "execution_count": null,
   "id": "a16f0ca7",
   "metadata": {},
   "outputs": [],
   "source": [
    "# kmeans 계산하기 위한 elbow point구하기\n",
    "from sklearn.cluster import KMeans\n",
    "\n",
    "point = {}\n",
    "df_monetary = c_rfm[['Monetary']]\n",
    "\n",
    "for k in range(1, 10):\n",
    "    kmeans = KMeans(n_clusters = k, max_iter = 100).fit(df_monetary)\n",
    "    df_monetary['cluster'] = kmeans.labels_\n",
    "    point[k] = kmeans.inertia_\n",
    "\n",
    "plt.figure(figsize = (10, 5))\n",
    "plt.plot(list(point.keys()), list(point.values()))\n",
    "plt.xlabel(\"Number of cluster\")\n",
    "plt.show()"
   ]
  },
  {
   "cell_type": "code",
   "execution_count": null,
   "id": "8d403c44",
   "metadata": {},
   "outputs": [],
   "source": [
    "# 위 그래프를 통해서 elbow point는 4인 지점으로 설정\n",
    "kmeans = KMeans(n_clusters = 4)\n",
    "kmeans.fit(c_rfm[['Monetary']])\n",
    "c_rfm['Monetarycluster'] = kmeans.predict(c_rfm[['Monetary']])\n",
    "\n",
    "c_rfm = order_cluster('Monetarycluster', 'Monetary', c_rfm, True)\n",
    "c_rfm.groupby('Monetarycluster')['Monetary'].describe()"
   ]
  },
  {
   "cell_type": "code",
   "execution_count": null,
   "id": "42b5d4e0",
   "metadata": {},
   "outputs": [],
   "source": [
    "c_rfm.drop(['Unnamed: 0'], axis = 1, inplace = True)"
   ]
  },
  {
   "cell_type": "code",
   "execution_count": null,
   "id": "62d7f371",
   "metadata": {},
   "outputs": [],
   "source": [
    "c_rfm.to_csv(\"Desktop/convenience_rfm.csv\")"
   ]
  },
  {
   "cell_type": "markdown",
   "id": "21c63a6d",
   "metadata": {},
   "source": [
    "### 대형마트 RFM 점수 산정"
   ]
  },
  {
   "cell_type": "code",
   "execution_count": null,
   "id": "93d358ac",
   "metadata": {},
   "outputs": [],
   "source": [
    "# 대형마트 최근 구매 날짜\n",
    "# 평균적으로 고객 한 명당 최근에 구매한 날짜는 123일 전\n",
    "b_rfm.Recency.describe()"
   ]
  },
  {
   "cell_type": "code",
   "execution_count": null,
   "id": "b0a00bf1",
   "metadata": {},
   "outputs": [],
   "source": [
    "# 시간 차이의 흐름 시각화\n",
    "sns.set(palette = 'muted', color_codes = True, style = 'white')\n",
    "fig, ax = plt.subplots(figsize = (12, 6))\n",
    "sns.despine(left = True)\n",
    "sns.distplot(b_rfm['Recency'], bins = 30)\n",
    "plt.show()\n",
    "\n",
    "# 최근 결제 수가 많다는 걸 알 수 있다."
   ]
  },
  {
   "cell_type": "code",
   "execution_count": null,
   "id": "87431ea7",
   "metadata": {},
   "outputs": [],
   "source": [
    "# kmeans 계산하기 위한 elbow point구하기\n",
    "from sklearn.cluster import KMeans\n",
    "\n",
    "point = {}\n",
    "df_recency = b_rfm[['Recency']]\n",
    "\n",
    "for k in range(1, 10):\n",
    "    kmeans = KMeans(n_clusters = k, max_iter = 100).fit(df_recency)\n",
    "    df_recency['cluster'] = kmeans.labels_\n",
    "    point[k] = kmeans.inertia_\n",
    "\n",
    "plt.plot(list(point.keys()), list(point.values()))\n",
    "plt.show()"
   ]
  },
  {
   "cell_type": "code",
   "execution_count": null,
   "id": "fbcc92dd",
   "metadata": {},
   "outputs": [],
   "source": [
    "# 위 그래프를 통해서 elbow point는 4인 지점으로 설정\n",
    "kmeans = KMeans(n_clusters = 4)\n",
    "kmeans.fit(b_rfm[['Recency']])\n",
    "b_rfm['Recencycluster'] = kmeans.predict(b_rfm[['Recency']])\n",
    "\n",
    "b_rfm = order_cluster('Recencycluster', 'Recency', b_rfm, False)\n",
    "b_rfm.groupby('Recencycluster')['Recency'].describe()"
   ]
  },
  {
   "cell_type": "code",
   "execution_count": null,
   "id": "8b733ffa",
   "metadata": {},
   "outputs": [],
   "source": [
    "# Frequency 도출을 위한 데이터 추출\n",
    "b_rfm.Frequency.describe()"
   ]
  },
  {
   "cell_type": "code",
   "execution_count": null,
   "id": "ad5d56c6",
   "metadata": {},
   "outputs": [],
   "source": [
    "# 구매 빈도의 흐름 시각화\n",
    "sns.set(palette = 'muted', color_codes = True, style = 'whitegrid')\n",
    "fig, ax = plt.subplots(figsize = (12, 6))\n",
    "sns.despine(left = True)\n",
    "sns.distplot(b_rfm['Frequency'], bins = 30)\n",
    "plt.show()"
   ]
  },
  {
   "cell_type": "code",
   "execution_count": null,
   "id": "ebdd6ec3",
   "metadata": {},
   "outputs": [],
   "source": [
    "# kmeans 계산하기 위한 elbow point구하기\n",
    "from sklearn.cluster import KMeans\n",
    "\n",
    "point = {}\n",
    "df_frequency = b_rfm[['Frequency']]\n",
    "\n",
    "for k in range(1, 10):\n",
    "    kmeans = KMeans(n_clusters = k, max_iter = 100).fit(df_frequency)\n",
    "    df_frequency['cluster'] = kmeans.labels_\n",
    "    point[k] = kmeans.inertia_\n",
    "\n",
    "plt.figure(figsize = (10, 5))\n",
    "plt.plot(list(point.keys()), list(point.values()))\n",
    "plt.xlabel(\"Number of cluster\")\n",
    "plt.show()"
   ]
  },
  {
   "cell_type": "code",
   "execution_count": null,
   "id": "f6cff68e",
   "metadata": {},
   "outputs": [],
   "source": [
    "# 위 그래프를 통해서 elbow point는 4인 지점으로 설정\n",
    "kmeans = KMeans(n_clusters = 4)\n",
    "kmeans.fit(b_rfm[['Frequency']])\n",
    "b_rfm['Frequencycluster'] = kmeans.predict(b_rfm[['Frequency']])\n",
    "\n",
    "b_rfm = order_cluster('Frequencycluster', 'Frequency', b_rfm, True)\n",
    "b_rfm.groupby('Frequencycluster')['Frequency'].describe()"
   ]
  },
  {
   "cell_type": "code",
   "execution_count": null,
   "id": "3ec1d994",
   "metadata": {},
   "outputs": [],
   "source": [
    "# Monetary 도출을 위한 데이터 추출\n",
    "b_rfm.Monetary.describe()"
   ]
  },
  {
   "cell_type": "code",
   "execution_count": null,
   "id": "0549b9a3",
   "metadata": {},
   "outputs": [],
   "source": [
    "# 구매 빈도의 흐름 시각화\n",
    "sns.set(palette = 'muted', color_codes = True, style = 'white')\n",
    "fig, ax = plt.subplots(figsize = (12, 6))\n",
    "sns.despine(left = True)\n",
    "sns.distplot(b_rfm['Monetary'], hist = False)\n",
    "plt.show()"
   ]
  },
  {
   "cell_type": "code",
   "execution_count": null,
   "id": "5bec0e08",
   "metadata": {},
   "outputs": [],
   "source": [
    "# kmeans 계산하기 위한 elbow point구하기\n",
    "from sklearn.cluster import KMeans\n",
    "\n",
    "point = {}\n",
    "df_monetary = b_rfm[['Monetary']]\n",
    "\n",
    "for k in range(1, 10):\n",
    "    kmeans = KMeans(n_clusters = k, max_iter = 100).fit(df_monetary)\n",
    "    df_monetary['cluster'] = kmeans.labels_\n",
    "    point[k] = kmeans.inertia_\n",
    "\n",
    "plt.figure(figsize = (10, 5))\n",
    "plt.plot(list(point.keys()), list(point.values()))\n",
    "plt.xlabel(\"Number of cluster\")\n",
    "plt.show()"
   ]
  },
  {
   "cell_type": "code",
   "execution_count": null,
   "id": "3d8663be",
   "metadata": {},
   "outputs": [],
   "source": [
    "# 위 그래프를 통해서 elbow point는 4인 지점으로 설정\n",
    "kmeans = KMeans(n_clusters = 4)\n",
    "kmeans.fit(b_rfm[['Monetary']])\n",
    "b_rfm['Monetarycluster'] = kmeans.predict(b_rfm[['Monetary']])\n",
    "\n",
    "b_rfm = order_cluster('Monetarycluster', 'Monetary', b_rfm, True)\n",
    "b_rfm.groupby('Monetarycluster')['Monetary'].describe()"
   ]
  },
  {
   "cell_type": "code",
   "execution_count": null,
   "id": "8a59aa01",
   "metadata": {},
   "outputs": [],
   "source": [
    "b_rfm.drop(['Unnamed: 0'], axis = 1, inplace = True)"
   ]
  },
  {
   "cell_type": "code",
   "execution_count": null,
   "id": "e5363dcd",
   "metadata": {},
   "outputs": [],
   "source": [
    "b_rfm.to_csv(\"Desktop/bigmart_rfm.csv\")"
   ]
  },
  {
   "cell_type": "markdown",
   "id": "444bc232",
   "metadata": {},
   "source": [
    "### 슈퍼마켓 RFM 점수 산정"
   ]
  },
  {
   "cell_type": "code",
   "execution_count": null,
   "id": "bdacc555",
   "metadata": {},
   "outputs": [],
   "source": [
    "# 편의점 최근 구매 날짜\n",
    "# 평균적으로 고객 한 명당 최근에 구매한 날짜는 125일 전\n",
    "s_rfm.Recency.describe()"
   ]
  },
  {
   "cell_type": "code",
   "execution_count": null,
   "id": "92137200",
   "metadata": {},
   "outputs": [],
   "source": [
    "# 시간 차이의 흐름 시각화\n",
    "sns.set(palette = 'muted', color_codes = True, style = 'white')\n",
    "fig, ax = plt.subplots(figsize = (12, 6))\n",
    "sns.despine(left = True)\n",
    "sns.distplot(s_rfm['Recency'], bins = 30)\n",
    "plt.show()\n",
    "\n",
    "# 최근 결제 수가 많다는 걸 알 수 있다."
   ]
  },
  {
   "cell_type": "code",
   "execution_count": null,
   "id": "97a45b63",
   "metadata": {},
   "outputs": [],
   "source": [
    "# kmeans 계산하기 위한 elbow point구하기\n",
    "from sklearn.cluster import KMeans\n",
    "\n",
    "point = {}\n",
    "df_recency = s_rfm[['Recency']]\n",
    "\n",
    "for k in range(1, 10):\n",
    "    kmeans = KMeans(n_clusters = k, max_iter = 100).fit(df_recency)\n",
    "    df_recency['cluster'] = kmeans.labels_\n",
    "    point[k] = kmeans.inertia_\n",
    "\n",
    "plt.plot(list(point.keys()), list(point.values()))\n",
    "plt.show()"
   ]
  },
  {
   "cell_type": "code",
   "execution_count": null,
   "id": "e5d7f32b",
   "metadata": {},
   "outputs": [],
   "source": [
    "# 위 그래프를 통해서 elbow point는 4인 지점으로 설정\n",
    "kmeans = KMeans(n_clusters = 4)\n",
    "kmeans.fit(s_rfm[['Recency']])\n",
    "s_rfm['Recencycluster'] = kmeans.predict(s_rfm[['Recency']])\n",
    "\n",
    "\n",
    "s_rfm = order_cluster('Recencycluster', 'Recency', s_rfm, False)\n",
    "s_rfm.groupby('Recencycluster')['Recency'].describe()"
   ]
  },
  {
   "cell_type": "code",
   "execution_count": null,
   "id": "cb0ab94b",
   "metadata": {},
   "outputs": [],
   "source": [
    "# Frequency 도출을 위한 데이터 추출\n",
    "s_rfm.Frequency.describe()"
   ]
  },
  {
   "cell_type": "code",
   "execution_count": null,
   "id": "dbc54929",
   "metadata": {},
   "outputs": [],
   "source": [
    "# 구매 빈도의 흐름 시각화\n",
    "sns.set(palette = 'muted', color_codes = True, style = 'whitegrid')\n",
    "fig, ax = plt.subplots(figsize = (12, 6))\n",
    "sns.despine(left = True)\n",
    "sns.distplot(s_rfm['Frequency'], bins = 30)\n",
    "plt.show()"
   ]
  },
  {
   "cell_type": "code",
   "execution_count": null,
   "id": "f861293e",
   "metadata": {},
   "outputs": [],
   "source": [
    "# kmeans 계산하기 위한 elbow point구하기\n",
    "from sklearn.cluster import KMeans\n",
    "\n",
    "point = {}\n",
    "df_frequency = s_rfm[['Frequency']]\n",
    "\n",
    "for k in range(1, 10):\n",
    "    kmeans = KMeans(n_clusters = k, max_iter = 100).fit(df_frequency)\n",
    "    df_frequency['cluster'] = kmeans.labels_\n",
    "    point[k] = kmeans.inertia_\n",
    "\n",
    "plt.figure(figsize = (10, 5))\n",
    "plt.plot(list(point.keys()), list(point.values()))\n",
    "plt.xlabel(\"Number of cluster\")\n",
    "plt.show()"
   ]
  },
  {
   "cell_type": "code",
   "execution_count": null,
   "id": "e158c27d",
   "metadata": {},
   "outputs": [],
   "source": [
    "# 위 그래프를 통해서 elbow point는 4인 지점으로 설정\n",
    "kmeans = KMeans(n_clusters = 4)\n",
    "kmeans.fit(s_rfm[['Frequency']])\n",
    "s_rfm['Frequencycluster'] = kmeans.predict(s_rfm[['Frequency']])\n",
    "\n",
    "s_rfm = order_cluster('Frequencycluster', 'Frequency', s_rfm, True)\n",
    "s_rfm.groupby('Frequencycluster')['Frequency'].describe()"
   ]
  },
  {
   "cell_type": "code",
   "execution_count": null,
   "id": "be56fdfe",
   "metadata": {},
   "outputs": [],
   "source": [
    "# Monetary 도출을 위한 데이터 추출\n",
    "c_rfm.Monetary.describe()"
   ]
  },
  {
   "cell_type": "code",
   "execution_count": null,
   "id": "89ddc560",
   "metadata": {},
   "outputs": [],
   "source": [
    "# 구매 빈도의 흐름 시각화\n",
    "sns.set(palette = 'muted', color_codes = True, style = 'white')\n",
    "fig, ax = plt.subplots(figsize = (12, 6))\n",
    "sns.despine(left = True)\n",
    "sns.distplot(s_rfm['Monetary'], hist = False)\n",
    "plt.show()"
   ]
  },
  {
   "cell_type": "code",
   "execution_count": null,
   "id": "44ac0f07",
   "metadata": {},
   "outputs": [],
   "source": [
    "# kmeans 계산하기 위한 elbow point구하기\n",
    "from sklearn.cluster import KMeans\n",
    "\n",
    "point = {}\n",
    "df_monetary = s_rfm[['Monetary']]\n",
    "\n",
    "for k in range(1, 10):\n",
    "    kmeans = KMeans(n_clusters = k, max_iter = 100).fit(df_monetary)\n",
    "    df_monetary['cluster'] = kmeans.labels_\n",
    "    point[k] = kmeans.inertia_\n",
    "\n",
    "plt.figure(figsize = (10, 5))\n",
    "plt.plot(list(point.keys()), list(point.values()))\n",
    "plt.xlabel(\"Number of cluster\")\n",
    "plt.show()"
   ]
  },
  {
   "cell_type": "code",
   "execution_count": null,
   "id": "40ac546d",
   "metadata": {
    "scrolled": false
   },
   "outputs": [],
   "source": [
    "# 위 그래프를 통해서 elbow point는 4인 지점으로 설정\n",
    "kmeans = KMeans(n_clusters = 4)\n",
    "kmeans.fit(s_rfm[['Monetary']])\n",
    "s_rfm['Monetarycluster'] = kmeans.predict(s_rfm[['Monetary']])\n",
    "\n",
    "s_rfm = order_cluster('Monetarycluster', 'Monetary', s_rfm, True)\n",
    "s_rfm.groupby('Monetarycluster')['Monetary'].describe()"
   ]
  },
  {
   "cell_type": "markdown",
   "id": "cbd4fe4b",
   "metadata": {},
   "source": [
    "### 편의점 / 대형마트 / 슈퍼마켓의 분산분석 결과\n",
    "> 모든 평균의 차이는 통계적으로 유의미하다는 결과를 얻음"
   ]
  },
  {
   "cell_type": "code",
   "execution_count": null,
   "id": "3c204f27",
   "metadata": {},
   "outputs": [],
   "source": [
    "import numpy as np\n",
    "import pandas as pd\n",
    "import matplotlib.pyplot as plt\n",
    "import seaborn as sns\n",
    "\n",
    "\n",
    "large_df = np.array(list(df_1['Recency']))\n",
    "regular_df = np.array(list(df_2['Recency']))\n",
    "convenience_df = np.array(list(df['Recency']))\n",
    "\n",
    "data = {\n",
    "    \"group\" : [\"big\"] * len(large_df) + [\"small\"] * len(regular_df) + [\"convenience\"] * len(convenience_df),\n",
    "    \"Recency\" : np.concatenate([large_df, regular_df, convenience_df]) \n",
    "}\n",
    "\n",
    "df = pd.DataFrame(data)"
   ]
  },
  {
   "cell_type": "code",
   "execution_count": null,
   "id": "26cdd4a5",
   "metadata": {},
   "outputs": [],
   "source": [
    "from scipy.stats import f_oneway\n",
    "\n",
    "f_statistic, p_value = f_oneway(large_df, regular_df, convenience)\n",
    "\n",
    "print(\"F-statistic:\", f_statistic)\n",
    "print(\"p-value:\", p_value)\n",
    "\n",
    "alpha = 0.05\n",
    "\n",
    "if p_value < alpha:\n",
    "    print(\"그룹 간의 평균 차이는 통계적으로 유의미합니다.\")\n",
    "    \n",
    "else:\n",
    "    print(\"그룹 간의 평균 차이는 통계적으로 유의미하지 않습니다.\")"
   ]
  },
  {
   "cell_type": "code",
   "execution_count": null,
   "id": "8684bf6f",
   "metadata": {},
   "outputs": [],
   "source": [
    "plt.figure(figsize = (10, 6))\n",
    "sns.boxplot(x = \"group\", y = \"Recency\", data = df)\n",
    "plt.xlabel(\"group\")\n",
    "plt.ylabel(\"Recency\")\n",
    "plt.title(\"result\")\n",
    "plt.show()"
   ]
  },
  {
   "cell_type": "code",
   "execution_count": null,
   "id": "296a4ecb",
   "metadata": {},
   "outputs": [],
   "source": [
    "import numpy as np\n",
    "import pandas as pd\n",
    "import matplotlib.pyplot as plt\n",
    "import seaborn as sns\n",
    "\n",
    "large_df = np.array(list(df_1['Frequency']))\n",
    "regular_df = np.array(list(df_2['Frequency']))\n",
    "convenience_df = np.array(list(df['Frequency']))\n",
    "\n",
    "data = {\n",
    "    \"group\" : [\"big\"] * len(large_df) + [\"small\"] * len(regular_df) + [\"convenience\"] * len(convenience_df),\n",
    "    \"Frequency\" : np.concatenate([large_df, regular_df, convenience_df]) \n",
    "}\n",
    "\n",
    "df = pd.DataFrame(data)"
   ]
  },
  {
   "cell_type": "code",
   "execution_count": null,
   "id": "e9dec4bc",
   "metadata": {},
   "outputs": [],
   "source": [
    "from scipy.stats import f_oneway\n",
    "\n",
    "f_statistic, p_value = f_oneway(large_df, regular_df, convenience)\n",
    "\n",
    "print(\"F-statistic:\", f_statistic)\n",
    "print(\"p-value:\", p_value)\n",
    "\n",
    "alpha = 0.05\n",
    "\n",
    "if p_value < alpha:\n",
    "    print(\"그룹 간의 평균 차이는 통계적으로 유의미합니다.\")\n",
    "    \n",
    "else:\n",
    "    print(\"그룹 간의 평균 차이는 통계적으로 유의미하지 않습니다.\")"
   ]
  },
  {
   "cell_type": "code",
   "execution_count": null,
   "id": "d1a97276",
   "metadata": {},
   "outputs": [],
   "source": [
    "plt.figure(figsize = (10, 6))\n",
    "sns.boxplot(x = \"group\", y = \"Frequency\", data = df)\n",
    "plt.xlabel(\"group\")\n",
    "plt.ylabel(\"Frequency\")\n",
    "plt.title(\"result\")\n",
    "plt.show()"
   ]
  },
  {
   "cell_type": "code",
   "execution_count": null,
   "id": "3faa21e2",
   "metadata": {},
   "outputs": [],
   "source": [
    "import numpy as np\n",
    "import pandas as pd\n",
    "import matplotlib.pyplot as plt\n",
    "import seaborn as sns\n",
    "\n",
    "large_df = np.array(list(df_1['Monetary']))\n",
    "regular_df = np.array(list(df_2['Monetary']))\n",
    "convenience_df = np.array(list(df['Monetary']))\n",
    "\n",
    "data = {\n",
    "    \"group\" : [\"big\"] * len(large_df) + [\"small\"] * len(regular_df) + [\"convenience\"] * len(convenience_df),\n",
    "    \"Monetary\" : np.concatenate([large_df, regular_df, convenience_df]) \n",
    "}\n",
    "\n",
    "df = pd.DataFrame(data)"
   ]
  },
  {
   "cell_type": "code",
   "execution_count": null,
   "id": "f7f680ec",
   "metadata": {},
   "outputs": [],
   "source": [
    "from scipy.stats import f_oneway\n",
    "\n",
    "f_statistic, p_value = f_oneway(large_df, regular_df, convenience)\n",
    "\n",
    "print(\"F-statistic:\", f_statistic)\n",
    "print(\"p-value:\", p_value)\n",
    "\n",
    "alpha = 0.05\n",
    "\n",
    "if p_value < alpha:\n",
    "    print(\"그룹 간의 평균 차이는 통계적으로 유의미합니다.\")\n",
    "    \n",
    "else:\n",
    "    print(\"그룹 간의 평균 차이는 통계적으로 유의미하지 않습니다.\")"
   ]
  },
  {
   "cell_type": "code",
   "execution_count": null,
   "id": "854413ee",
   "metadata": {},
   "outputs": [],
   "source": [
    "plt.figure(figsize = (10, 6))\n",
    "sns.pointplot(x = \"group\", y = \"Monetary\", data = df, ci = \"sd\")\n",
    "plt.xlabel(\"group\")\n",
    "plt.ylabel(\"Frequency\")\n",
    "plt.title(\"result\")\n",
    "plt.show()"
   ]
  },
  {
   "cell_type": "code",
   "execution_count": null,
   "id": "3bc3228f",
   "metadata": {},
   "outputs": [],
   "source": [
    "import pandas as pd\n",
    "import numpy as np\n",
    "import matplotlib.pyplot as plt\n",
    "from matplotlib import style\n",
    "import seaborn as sns\n",
    "from datetime import datetime\n",
    "from tqdm import tqdm\n",
    "\n",
    "df = pd.read_csv(\"Desktop/rfm_online.csv\")"
   ]
  },
  {
   "cell_type": "code",
   "execution_count": null,
   "id": "d787bd51",
   "metadata": {},
   "outputs": [],
   "source": [
    "# 시간 차이의 흐름 시각화\n",
    "sns.set(palette = 'muted', color_codes = True, style = 'white')\n",
    "fig, ax = plt.subplots(figsize = (12, 6))\n",
    "sns.despine(left = True)\n",
    "sns.distplot(df['Recency'], bins = 30)\n",
    "plt.show()\n",
    "\n",
    "# 최근 결제 수가 많다는 걸 알 수 있다."
   ]
  },
  {
   "cell_type": "code",
   "execution_count": null,
   "id": "1c4e892f",
   "metadata": {},
   "outputs": [],
   "source": [
    "# kmeans 계산하기 위한 elbow point구하기\n",
    "from sklearn.cluster import KMeans\n",
    "\n",
    "point = {}\n",
    "df_recency = df[['Recency']]\n",
    "\n",
    "for k in range(1, 10):\n",
    "    kmeans = KMeans(n_clusters = k, max_iter = 100).fit(df_recency)\n",
    "    df_recency['cluster'] = kmeans.labels_\n",
    "    point[k] = kmeans.inertia_\n",
    "\n",
    "plt.plot(list(point.keys()), list(point.values()))\n",
    "plt.show()"
   ]
  },
  {
   "cell_type": "code",
   "execution_count": null,
   "id": "428ce574",
   "metadata": {},
   "outputs": [],
   "source": [
    "# 위 그래프를 통해서 elbow point는 4인 지점으로 설정\n",
    "kmeans = KMeans(n_clusters = 4)\n",
    "kmeans.fit(df[['Recency']])\n",
    "df['Recencycluster'] = kmeans.predict(df[['Recency']])\n",
    "\n",
    "# cluster 분석 모형\n",
    "def order_cluster(cluster_field_name, target_field_name, df, ascending):\n",
    "    df_new = df.groupby(cluster_field_name)[target_field_name].mean().reset_index()\n",
    "    df_new = df_new.sort_values(by = target_field_name, ascending = ascending).reset_index(drop = True)\n",
    "    df_new['index'] = df_new.index\n",
    "    df_final = pd.merge(df, df_new[[cluster_field_name, 'index']], on = cluster_field_name)\n",
    "    df_final = df_final.drop([cluster_field_name], axis = 1)\n",
    "    df_final = df_final.rename(columns = {\"index\" : cluster_field_name})\n",
    "    return df_final\n",
    "\n",
    "df = order_cluster('Recencycluster', 'Recency', df, False)\n",
    "df.groupby('Recencycluster')['Recency'].describe()"
   ]
  },
  {
   "cell_type": "code",
   "execution_count": null,
   "id": "e6aca93c",
   "metadata": {},
   "outputs": [],
   "source": [
    "# 구매 빈도의 흐름 시각화\n",
    "sns.set(palette = 'muted', color_codes = True, style = 'whitegrid')\n",
    "fig, ax = plt.subplots(figsize = (12, 6))\n",
    "sns.despine(left = True)\n",
    "sns.distplot(df['Frequency'], bins = 30)\n",
    "plt.show()"
   ]
  },
  {
   "cell_type": "code",
   "execution_count": null,
   "id": "1a533a0d",
   "metadata": {},
   "outputs": [],
   "source": [
    "# kmeans 계산하기 위한 elbow point구하기\n",
    "from sklearn.cluster import KMeans\n",
    "\n",
    "point = {}\n",
    "df_frequency = df[['Frequency']]\n",
    "\n",
    "for k in range(1, 10):\n",
    "    kmeans = KMeans(n_clusters = k, max_iter = 100).fit(df_frequency)\n",
    "    df_frequency['cluster'] = kmeans.labels_\n",
    "    point[k] = kmeans.inertia_\n",
    "\n",
    "plt.figure(figsize = (10, 5))\n",
    "plt.plot(list(point.keys()), list(point.values()))\n",
    "plt.xlabel(\"Number of cluster\")\n",
    "plt.show()"
   ]
  },
  {
   "cell_type": "code",
   "execution_count": null,
   "id": "c31c0d66",
   "metadata": {},
   "outputs": [],
   "source": [
    "# 위 그래프를 통해서 elbow point는 4인 지점으로 설정\n",
    "kmeans = KMeans(n_clusters = 4)\n",
    "kmeans.fit(df[['Frequency']])\n",
    "df['Frequencycluster'] = kmeans.predict(df[['Frequency']])\n",
    "\n",
    "df = order_cluster('Frequencycluster', 'Frequency', df, True)\n",
    "df.groupby('Frequencycluster')['Frequency'].describe()"
   ]
  },
  {
   "cell_type": "code",
   "execution_count": null,
   "id": "d7eb869b",
   "metadata": {},
   "outputs": [],
   "source": [
    "# 구매 빈도의 흐름 시각화\n",
    "sns.set(palette = 'muted', color_codes = True, style = 'white')\n",
    "fig, ax = plt.subplots(figsize = (12, 6))\n",
    "sns.despine(left = True)\n",
    "sns.distplot(df['Monetary'], hist = False)\n",
    "plt.show()"
   ]
  },
  {
   "cell_type": "code",
   "execution_count": null,
   "id": "0e9c6cc7",
   "metadata": {},
   "outputs": [],
   "source": [
    "# kmeans 계산하기 위한 elbow point구하기\n",
    "from sklearn.cluster import KMeans\n",
    "\n",
    "point = {}\n",
    "df_monetary = df[['Monetary']]\n",
    "\n",
    "for k in range(1, 10):\n",
    "    kmeans = KMeans(n_clusters = k, max_iter = 100).fit(df_monetary)\n",
    "    df_monetary['cluster'] = kmeans.labels_\n",
    "    point[k] = kmeans.inertia_\n",
    "\n",
    "plt.figure(figsize = (10, 5))\n",
    "plt.plot(list(point.keys()), list(point.values()))\n",
    "plt.xlabel(\"Number of cluster\")\n",
    "plt.show()"
   ]
  },
  {
   "cell_type": "code",
   "execution_count": null,
   "id": "dd505ac9",
   "metadata": {
    "scrolled": true
   },
   "outputs": [],
   "source": [
    "# 위 그래프를 통해서 elbow point는 4인 지점으로 설정\n",
    "kmeans = KMeans(n_clusters = 4)\n",
    "kmeans.fit(df[['Monetary']])\n",
    "df['Monetarycluster'] = kmeans.predict(df[['Monetary']])\n",
    "\n",
    "df = order_cluster('Monetarycluster', 'Monetary', df, True)\n",
    "df.groupby('Monetarycluster')['Monetary'].describe()"
   ]
  },
  {
   "cell_type": "code",
   "execution_count": null,
   "id": "9a0f0f16",
   "metadata": {},
   "outputs": [],
   "source": [
    "import pandas as pd\n",
    "\n",
    "rfm = pd.read_csv(\"Desktop/RFM 통합.csv\", index_col = 0)"
   ]
  },
  {
   "cell_type": "code",
   "execution_count": null,
   "id": "1d7a2f03",
   "metadata": {},
   "outputs": [],
   "source": [
    "rfm[rfm['category'] == '대형마트']"
   ]
  },
  {
   "cell_type": "code",
   "execution_count": null,
   "id": "4c429c0e",
   "metadata": {},
   "outputs": [],
   "source": []
  }
 ],
 "metadata": {
  "kernelspec": {
   "display_name": "Python 3 (ipykernel)",
   "language": "python",
   "name": "python3"
  },
  "language_info": {
   "codemirror_mode": {
    "name": "ipython",
    "version": 3
   },
   "file_extension": ".py",
   "mimetype": "text/x-python",
   "name": "python",
   "nbconvert_exporter": "python",
   "pygments_lexer": "ipython3",
   "version": "3.9.7"
  }
 },
 "nbformat": 4,
 "nbformat_minor": 5
}
