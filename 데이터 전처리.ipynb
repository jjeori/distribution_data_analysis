{
 "cells": [
  {
   "cell_type": "markdown",
   "id": "7fbc0025",
   "metadata": {},
   "source": [
    "### 카테고리 별 이상치 제거 시각화"
   ]
  },
  {
   "cell_type": "code",
   "execution_count": null,
   "id": "f61ecb46",
   "metadata": {},
   "outputs": [],
   "source": [
    "import pandas as pd\n",
    "import matplotlib as mpl\n",
    "import matplotlib.pyplot as plt\n",
    "\n",
    "card_data = pd.read_csv(\"Desktop/card_transaction_data.csv\")\n",
    "purchase_data = pd.read_csv(\"Desktop/purchase_transaction_data.csv\")"
   ]
  },
  {
   "cell_type": "code",
   "execution_count": null,
   "id": "49ce5ddb",
   "metadata": {},
   "outputs": [],
   "source": [
    "len(card_data['large_category'].unique())"
   ]
  },
  {
   "cell_type": "code",
   "execution_count": null,
   "id": "c9cf3400",
   "metadata": {},
   "outputs": [],
   "source": [
    "import matplotlib.pyplot as plt\n",
    "import seaborn as sns\n",
    "from matplotlib import font_manager, rc\n",
    "import sys\n",
    "\n",
    "if sys.platform == 'darwin':\n",
    "    font_name = 'AppleGothic'\n",
    "rc('font', family = font_name)\n",
    "\n",
    "large_category = list(card_data['large_category'].unique())\n",
    "\n",
    "# 4x4 격자 형태의 subplot을 생성합니다\n",
    "fig, axes = plt.subplots(nrows=4, ncols=4, figsize=(16, 12))\n",
    "\n",
    "# 카테고리별로 서브플롯에 박스플롯을 그립니다\n",
    "for i, category in enumerate(large_category):\n",
    "    row = i // 4  # 현재 카테고리가 위치할 행\n",
    "    col = i % 4   # 현재 카테고리가 위치할 열\n",
    "    \n",
    "    # 해당 카테고리의 데이터를 필터링하여 박스플롯 그립니다.\n",
    "    filtered_data = card_data[card_data['large_category'] == category]\n",
    "    axes[row, col].boxplot(filtered_data['amount'], vert=True, patch_artist=True, notch=True)\n",
    "    axes[row, col].set_title(f'{category}')  # 카테고리 이름을 서브플롯 제목으로 설정합니다\n",
    "\n",
    "# 필요한 경우 레이아웃을 조정합니다\n",
    "plt.tight_layout()\n",
    "\n",
    "# 시각화 결과 표시\n",
    "plt.show()"
   ]
  },
  {
   "cell_type": "markdown",
   "id": "e5f6feca",
   "metadata": {},
   "source": [
    "### card_data [data 전처리]"
   ]
  },
  {
   "cell_type": "code",
   "execution_count": null,
   "id": "bdf957d3",
   "metadata": {},
   "outputs": [],
   "source": [
    "catd_data.info()"
   ]
  },
  {
   "cell_type": "code",
   "execution_count": null,
   "id": "70b2e422",
   "metadata": {},
   "outputs": [],
   "source": [
    "# 결측치 확인하기\n",
    "card_data.isnull().sum()"
   ]
  },
  {
   "cell_type": "code",
   "execution_count": null,
   "id": "0dff26fd",
   "metadata": {},
   "outputs": [],
   "source": [
    "# 이상치 확인하기\n",
    "card_data.boxplot(column = ['amount'])\n",
    "print('최솟값 : ', card_data['amount'].min())\n",
    "print('최댓값 : ', card_data['amount'].max())"
   ]
  },
  {
   "cell_type": "code",
   "execution_count": null,
   "id": "8437c3f0",
   "metadata": {},
   "outputs": [],
   "source": [
    "# amount에서 -인 값 제거하기\n",
    "card_data = card_data[card_data.amount > 0]"
   ]
  },
  {
   "cell_type": "code",
   "execution_count": null,
   "id": "0ed79b1e",
   "metadata": {},
   "outputs": [],
   "source": [
    "# 카테고리별 이상치 제거하기 (각 카데고리 별로 이상치 기준이 다를 거라고 판단)\n",
    "large_category = list(card_data['large_category'].unique())\n",
    "\n",
    "for i in large_category:\n",
    "    q1 = card_data[card_data['large_category'] == i]['amount'].quantile(0.25)\n",
    "    q2 = card_data[card_data['large_category'] == i]['amount'].quantile(0.5)\n",
    "    q3 = card_data[card_data['large_category'] == i]['amount'].quantile(0.75)\n",
    "    \n",
    "    iqr = q3 - q1\n",
    "    \n",
    "    condition = (card_data[card_data['large_category'] == i]['amount'] > q3+1.5*iqr) | (card_data[card_data['large_category'] == i]['amount'] < q1-1.5*iqr)\n",
    "    \n",
    "    a = card_data[card_data['large_category'] == i][condition].index\n",
    "    card_data.drop(a, inplace = True)"
   ]
  },
  {
   "cell_type": "code",
   "execution_count": null,
   "id": "52690aa7",
   "metadata": {},
   "outputs": [],
   "source": [
    "card_data.info()"
   ]
  },
  {
   "cell_type": "markdown",
   "id": "432accab",
   "metadata": {},
   "source": [
    "### purchase_data [data전처리]"
   ]
  },
  {
   "cell_type": "code",
   "execution_count": null,
   "id": "a8af225b",
   "metadata": {},
   "outputs": [],
   "source": [
    "purchase_data.info()"
   ]
  },
  {
   "cell_type": "code",
   "execution_count": null,
   "id": "9aef4b6e",
   "metadata": {},
   "outputs": [],
   "source": [
    "purchase_data.head()"
   ]
  },
  {
   "cell_type": "code",
   "execution_count": null,
   "id": "6ca8b724",
   "metadata": {},
   "outputs": [],
   "source": [
    "# 결측치 확인하기\n",
    "purchase_data.isnull().sum()"
   ]
  },
  {
   "cell_type": "code",
   "execution_count": null,
   "id": "f893d28a",
   "metadata": {},
   "outputs": [],
   "source": [
    "# 이상치 확인하기\n",
    "print(purchase_data['Price'].max())\n",
    "print(purchase_data['Price'].min())\n",
    "purchase_data.boxplot(column = ['Price'])"
   ]
  },
  {
   "cell_type": "code",
   "execution_count": null,
   "id": "5f2fe796",
   "metadata": {},
   "outputs": [],
   "source": [
    "# 실제 정관장 천녹톤과 가격대 비슷함\n",
    "purchase_data[purchase_data['Price'] == 275500]"
   ]
  },
  {
   "cell_type": "markdown",
   "id": "7b6ededd",
   "metadata": {},
   "source": [
    "### 데이터 수정 (card_data)\n",
    "1. 연령대 정의 (데이터 명세서 참고)\n",
    ": 23 (20대 초반) / 24 (20대 중반) / 28 (20대 후반) / 32 (30대 초중반) / 36 (30대 중후반) / 40 (40대 초반) / 44 (40대 중반) / 48 (40대 후반) / 52 (50대 초중반) / 56 (50대 중후반) / 60 (60대)\n",
    "\n",
    "2. data tpye 변경"
   ]
  },
  {
   "cell_type": "code",
   "execution_count": null,
   "id": "86b73d37",
   "metadata": {},
   "outputs": [],
   "source": [
    "for i in card_data['age_group']:\n",
    "    if i in [24, 28,23]:\n",
    "        card_data['age'] = '20대'\n",
    "    \n",
    "    elif i in [32,36]:\n",
    "        card_data['age'] = '30대'\n",
    "        \n",
    "    elif i in [44, 40, 48]:\n",
    "        card_data['age'] = '40대'\n",
    "        \n",
    "    elif i in [52, 56]:\n",
    "        card_data['age'] = '50대'\n",
    "    \n",
    "    else:\n",
    "        card_data['age'] = '60대'"
   ]
  },
  {
   "cell_type": "code",
   "execution_count": null,
   "id": "5d790db3",
   "metadata": {},
   "outputs": [],
   "source": [
    "card_data.head()"
   ]
  },
  {
   "cell_type": "markdown",
   "id": "d4000d2e",
   "metadata": {},
   "source": [
    "### card_data columns 활용"
   ]
  },
  {
   "cell_type": "code",
   "execution_count": 1,
   "id": "eda1a143",
   "metadata": {},
   "outputs": [
    {
     "ename": "NameError",
     "evalue": "name 'card_data' is not defined",
     "output_type": "error",
     "traceback": [
      "\u001b[0;31m---------------------------------------------------------------------------\u001b[0m",
      "\u001b[0;31mNameError\u001b[0m                                 Traceback (most recent call last)",
      "\u001b[0;32m/var/folders/c1/3m4yfnr1033cv80bgnw17ly00000gn/T/ipykernel_18609/3082083076.py\u001b[0m in \u001b[0;36m<module>\u001b[0;34m\u001b[0m\n\u001b[1;32m      1\u001b[0m \u001b[0;31m# 컬럼 조건 여러개 출력 방법 df[column].isin([조건1, 조건2, 조건3])\u001b[0m\u001b[0;34m\u001b[0m\u001b[0;34m\u001b[0m\u001b[0m\n\u001b[1;32m      2\u001b[0m \u001b[0;31m# filter 기준 매출 순위 TOP 10으로 선정 / column은 온라인쇼핑, 생활/마트\u001b[0m\u001b[0;34m\u001b[0m\u001b[0;34m\u001b[0m\u001b[0m\n\u001b[0;32m----> 3\u001b[0;31m \u001b[0mcard_filter_data\u001b[0m \u001b[0;34m=\u001b[0m \u001b[0mcard_data\u001b[0m\u001b[0;34m[\u001b[0m\u001b[0mcard_data\u001b[0m\u001b[0;34m[\u001b[0m\u001b[0;34m'pay_place_name'\u001b[0m\u001b[0;34m]\u001b[0m\u001b[0;34m.\u001b[0m\u001b[0misin\u001b[0m\u001b[0;34m(\u001b[0m\u001b[0;34m[\u001b[0m\u001b[0;34m'슈퍼마켓'\u001b[0m\u001b[0;34m,\u001b[0m \u001b[0;34m'이마트'\u001b[0m\u001b[0;34m,\u001b[0m \u001b[0;34m'홈플러스'\u001b[0m\u001b[0;34m,\u001b[0m \u001b[0;34m'마트'\u001b[0m\u001b[0;34m,\u001b[0m \u001b[0;34m'롯데마트'\u001b[0m\u001b[0;34m,\u001b[0m \u001b[0;34m'하나로마트'\u001b[0m\u001b[0;34m,\u001b[0m \u001b[0;34m'이마트에브리데이'\u001b[0m\u001b[0;34m,\u001b[0m \u001b[0;34m'홈플러스익스프레스'\u001b[0m\u001b[0;34m,\u001b[0m \u001b[0;34m'노브랜드'\u001b[0m\u001b[0;34m,\u001b[0m \u001b[0;34m'롯데슈퍼'\u001b[0m\u001b[0;34m,\u001b[0m \u001b[0;34m'대형마트'\u001b[0m\u001b[0;34m,\u001b[0m \u001b[0;34m'나들가게'\u001b[0m\u001b[0;34m,\u001b[0m \u001b[0;34m'이마트트레이더스'\u001b[0m\u001b[0;34m,\u001b[0m \u001b[0;34m'쿠팡'\u001b[0m\u001b[0;34m,\u001b[0m \u001b[0;34m'G마켓'\u001b[0m\u001b[0;34m,\u001b[0m \u001b[0;34m'마켓컬리'\u001b[0m\u001b[0;34m,\u001b[0m \u001b[0;34m'SSG.COM'\u001b[0m\u001b[0;34m,\u001b[0m \u001b[0;34m'세븐일레븐'\u001b[0m\u001b[0;34m,\u001b[0m \u001b[0;34m'GS25'\u001b[0m\u001b[0;34m,\u001b[0m \u001b[0;34m'CU'\u001b[0m\u001b[0;34m,\u001b[0m \u001b[0;34m'emart24'\u001b[0m\u001b[0;34m]\u001b[0m\u001b[0;34m)\u001b[0m\u001b[0;34m]\u001b[0m\u001b[0;34m\u001b[0m\u001b[0;34m\u001b[0m\u001b[0m\n\u001b[0m",
      "\u001b[0;31mNameError\u001b[0m: name 'card_data' is not defined"
     ]
    }
   ],
   "source": [
    "# 컬럼 조건 여러개 출력 방법 df[column].isin([조건1, 조건2, 조건3])\n",
    "# filter 기준 매출 순위 TOP 10으로 선정 / column은 온라인쇼핑, 생활/마트\n",
    "card_filter_data = card_data[card_data['pay_place_name'].isin(['슈퍼마켓', '이마트', '홈플러스', '마트', '롯데마트', '하나로마트', '이마트에브리데이', '홈플러스익스프레스', '노브랜드', '롯데슈퍼', '대형마트', '나들가게', '이마트트레이더스', '쿠팡', 'G마켓', '마켓컬리', 'SSG.COM', '세븐일레븐', 'GS25', 'CU', 'emart24'])]"
   ]
  },
  {
   "cell_type": "code",
   "execution_count": null,
   "id": "c3b6874a",
   "metadata": {},
   "outputs": [],
   "source": [
    "card_filter_data.to_csv(\"Desktop/card_data_filter.csv\")"
   ]
  },
  {
   "cell_type": "code",
   "execution_count": null,
   "id": "925a9024",
   "metadata": {},
   "outputs": [],
   "source": [
    "card_filter_data = pd.read_csv(\"Desktop/card_data_filter.csv\")\n",
    "\n",
    "card_filter_data.info()"
   ]
  },
  {
   "cell_type": "code",
   "execution_count": null,
   "id": "dd918df3",
   "metadata": {},
   "outputs": [],
   "source": [
    "card_filter_data['pay_place_name'].unique()"
   ]
  },
  {
   "cell_type": "code",
   "execution_count": null,
   "id": "b3411a69",
   "metadata": {},
   "outputs": [],
   "source": [
    "card_data = pd.read_csv(\"Desktop/card_transaction_data.csv\")\n",
    "\n",
    "card_data.info()"
   ]
  }
 ],
 "metadata": {
  "kernelspec": {
   "display_name": "Python 3 (ipykernel)",
   "language": "python",
   "name": "python3"
  },
  "language_info": {
   "codemirror_mode": {
    "name": "ipython",
    "version": 3
   },
   "file_extension": ".py",
   "mimetype": "text/x-python",
   "name": "python",
   "nbconvert_exporter": "python",
   "pygments_lexer": "ipython3",
   "version": "3.9.7"
  }
 },
 "nbformat": 4,
 "nbformat_minor": 5
}
